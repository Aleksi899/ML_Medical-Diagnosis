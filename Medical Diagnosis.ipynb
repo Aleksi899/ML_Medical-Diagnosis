{
 "cells": [
  {
   "cell_type": "markdown",
   "id": "f2a842f9-d8aa-40a5-a5e9-f1f9d0e5f063",
   "metadata": {},
   "source": [
    "# Importing Librairies"
   ]
  },
  {
   "cell_type": "code",
   "execution_count": 1,
   "id": "b3c4c854-3d04-44c6-96cf-633a5be2aef2",
   "metadata": {},
   "outputs": [],
   "source": [
    "import pandas as pd\n",
    "import plotly.express as px\n",
    "import seaborn as sns\n",
    "from sklearn.preprocessing import LabelEncoder\n",
    "import plotly.express as px\n",
    "import matplotlib.pyplot as plt\n",
    "import plotly.graph_objs as go\n",
    "import plotly.offline as pyo\n",
    "from sklearn.model_selection import train_test_split\n",
    "from sklearn.linear_model import LinearRegression\n",
    "from sklearn.linear_model import LogisticRegression\n",
    "from sklearn import preprocessing\n",
    "from sklearn.metrics import mean_squared_error\n",
    "from sklearn import metrics\n",
    "from sklearn.linear_model import LinearRegression\n",
    "from sklearn.preprocessing import PolynomialFeatures\n",
    "from sklearn import tree   \n",
    "from sklearn.tree import DecisionTreeClassifier ,export_graphviz \n",
    "from sklearn.ensemble import RandomForestClassifier\n",
    "from sklearn.metrics import accuracy_score , confusion_matrix\n",
    "import graphviz\n",
    "from sklearn.neighbors import KNeighborsClassifier"
   ]
  },
  {
   "cell_type": "markdown",
   "id": "83d370dc-2505-434a-a5f4-e8514c9b1d3c",
   "metadata": {},
   "source": [
    "# Importing DataSet"
   ]
  },
  {
   "cell_type": "code",
   "execution_count": 2,
   "id": "008a900b-3aba-44d9-9d98-fdaa3340919a",
   "metadata": {},
   "outputs": [
    {
     "data": {
      "text/html": [
       "<div>\n",
       "<style scoped>\n",
       "    .dataframe tbody tr th:only-of-type {\n",
       "        vertical-align: middle;\n",
       "    }\n",
       "\n",
       "    .dataframe tbody tr th {\n",
       "        vertical-align: top;\n",
       "    }\n",
       "\n",
       "    .dataframe thead th {\n",
       "        text-align: right;\n",
       "    }\n",
       "</style>\n",
       "<table border=\"1\" class=\"dataframe\">\n",
       "  <thead>\n",
       "    <tr style=\"text-align: right;\">\n",
       "      <th></th>\n",
       "      <th>Disease</th>\n",
       "      <th>Symptom_1</th>\n",
       "      <th>Symptom_2</th>\n",
       "      <th>Symptom_3</th>\n",
       "      <th>Symptom_4</th>\n",
       "      <th>Symptom_5</th>\n",
       "      <th>Symptom_6</th>\n",
       "      <th>Symptom_7</th>\n",
       "      <th>Symptom_8</th>\n",
       "      <th>Symptom_9</th>\n",
       "      <th>Symptom_10</th>\n",
       "      <th>Symptom_11</th>\n",
       "      <th>Symptom_12</th>\n",
       "      <th>Symptom_13</th>\n",
       "      <th>Symptom_14</th>\n",
       "      <th>Symptom_15</th>\n",
       "      <th>Symptom_16</th>\n",
       "      <th>Symptom_17</th>\n",
       "    </tr>\n",
       "  </thead>\n",
       "  <tbody>\n",
       "    <tr>\n",
       "      <th>0</th>\n",
       "      <td>Fungal infection</td>\n",
       "      <td>itching</td>\n",
       "      <td>skin_rash</td>\n",
       "      <td>nodal_skin_eruptions</td>\n",
       "      <td>dischromic _patches</td>\n",
       "      <td>NaN</td>\n",
       "      <td>NaN</td>\n",
       "      <td>NaN</td>\n",
       "      <td>NaN</td>\n",
       "      <td>NaN</td>\n",
       "      <td>NaN</td>\n",
       "      <td>NaN</td>\n",
       "      <td>NaN</td>\n",
       "      <td>NaN</td>\n",
       "      <td>NaN</td>\n",
       "      <td>NaN</td>\n",
       "      <td>NaN</td>\n",
       "      <td>NaN</td>\n",
       "    </tr>\n",
       "    <tr>\n",
       "      <th>1</th>\n",
       "      <td>Fungal infection</td>\n",
       "      <td>skin_rash</td>\n",
       "      <td>nodal_skin_eruptions</td>\n",
       "      <td>dischromic _patches</td>\n",
       "      <td>NaN</td>\n",
       "      <td>NaN</td>\n",
       "      <td>NaN</td>\n",
       "      <td>NaN</td>\n",
       "      <td>NaN</td>\n",
       "      <td>NaN</td>\n",
       "      <td>NaN</td>\n",
       "      <td>NaN</td>\n",
       "      <td>NaN</td>\n",
       "      <td>NaN</td>\n",
       "      <td>NaN</td>\n",
       "      <td>NaN</td>\n",
       "      <td>NaN</td>\n",
       "      <td>NaN</td>\n",
       "    </tr>\n",
       "    <tr>\n",
       "      <th>2</th>\n",
       "      <td>Fungal infection</td>\n",
       "      <td>itching</td>\n",
       "      <td>nodal_skin_eruptions</td>\n",
       "      <td>dischromic _patches</td>\n",
       "      <td>NaN</td>\n",
       "      <td>NaN</td>\n",
       "      <td>NaN</td>\n",
       "      <td>NaN</td>\n",
       "      <td>NaN</td>\n",
       "      <td>NaN</td>\n",
       "      <td>NaN</td>\n",
       "      <td>NaN</td>\n",
       "      <td>NaN</td>\n",
       "      <td>NaN</td>\n",
       "      <td>NaN</td>\n",
       "      <td>NaN</td>\n",
       "      <td>NaN</td>\n",
       "      <td>NaN</td>\n",
       "    </tr>\n",
       "    <tr>\n",
       "      <th>3</th>\n",
       "      <td>Fungal infection</td>\n",
       "      <td>itching</td>\n",
       "      <td>skin_rash</td>\n",
       "      <td>dischromic _patches</td>\n",
       "      <td>NaN</td>\n",
       "      <td>NaN</td>\n",
       "      <td>NaN</td>\n",
       "      <td>NaN</td>\n",
       "      <td>NaN</td>\n",
       "      <td>NaN</td>\n",
       "      <td>NaN</td>\n",
       "      <td>NaN</td>\n",
       "      <td>NaN</td>\n",
       "      <td>NaN</td>\n",
       "      <td>NaN</td>\n",
       "      <td>NaN</td>\n",
       "      <td>NaN</td>\n",
       "      <td>NaN</td>\n",
       "    </tr>\n",
       "    <tr>\n",
       "      <th>4</th>\n",
       "      <td>Fungal infection</td>\n",
       "      <td>itching</td>\n",
       "      <td>skin_rash</td>\n",
       "      <td>nodal_skin_eruptions</td>\n",
       "      <td>NaN</td>\n",
       "      <td>NaN</td>\n",
       "      <td>NaN</td>\n",
       "      <td>NaN</td>\n",
       "      <td>NaN</td>\n",
       "      <td>NaN</td>\n",
       "      <td>NaN</td>\n",
       "      <td>NaN</td>\n",
       "      <td>NaN</td>\n",
       "      <td>NaN</td>\n",
       "      <td>NaN</td>\n",
       "      <td>NaN</td>\n",
       "      <td>NaN</td>\n",
       "      <td>NaN</td>\n",
       "    </tr>\n",
       "    <tr>\n",
       "      <th>...</th>\n",
       "      <td>...</td>\n",
       "      <td>...</td>\n",
       "      <td>...</td>\n",
       "      <td>...</td>\n",
       "      <td>...</td>\n",
       "      <td>...</td>\n",
       "      <td>...</td>\n",
       "      <td>...</td>\n",
       "      <td>...</td>\n",
       "      <td>...</td>\n",
       "      <td>...</td>\n",
       "      <td>...</td>\n",
       "      <td>...</td>\n",
       "      <td>...</td>\n",
       "      <td>...</td>\n",
       "      <td>...</td>\n",
       "      <td>...</td>\n",
       "      <td>...</td>\n",
       "    </tr>\n",
       "    <tr>\n",
       "      <th>4915</th>\n",
       "      <td>(vertigo) Paroymsal  Positional Vertigo</td>\n",
       "      <td>vomiting</td>\n",
       "      <td>headache</td>\n",
       "      <td>nausea</td>\n",
       "      <td>spinning_movements</td>\n",
       "      <td>loss_of_balance</td>\n",
       "      <td>unsteadiness</td>\n",
       "      <td>NaN</td>\n",
       "      <td>NaN</td>\n",
       "      <td>NaN</td>\n",
       "      <td>NaN</td>\n",
       "      <td>NaN</td>\n",
       "      <td>NaN</td>\n",
       "      <td>NaN</td>\n",
       "      <td>NaN</td>\n",
       "      <td>NaN</td>\n",
       "      <td>NaN</td>\n",
       "      <td>NaN</td>\n",
       "    </tr>\n",
       "    <tr>\n",
       "      <th>4916</th>\n",
       "      <td>Acne</td>\n",
       "      <td>skin_rash</td>\n",
       "      <td>pus_filled_pimples</td>\n",
       "      <td>blackheads</td>\n",
       "      <td>scurring</td>\n",
       "      <td>NaN</td>\n",
       "      <td>NaN</td>\n",
       "      <td>NaN</td>\n",
       "      <td>NaN</td>\n",
       "      <td>NaN</td>\n",
       "      <td>NaN</td>\n",
       "      <td>NaN</td>\n",
       "      <td>NaN</td>\n",
       "      <td>NaN</td>\n",
       "      <td>NaN</td>\n",
       "      <td>NaN</td>\n",
       "      <td>NaN</td>\n",
       "      <td>NaN</td>\n",
       "    </tr>\n",
       "    <tr>\n",
       "      <th>4917</th>\n",
       "      <td>Urinary tract infection</td>\n",
       "      <td>burning_micturition</td>\n",
       "      <td>bladder_discomfort</td>\n",
       "      <td>foul_smell_of urine</td>\n",
       "      <td>continuous_feel_of_urine</td>\n",
       "      <td>NaN</td>\n",
       "      <td>NaN</td>\n",
       "      <td>NaN</td>\n",
       "      <td>NaN</td>\n",
       "      <td>NaN</td>\n",
       "      <td>NaN</td>\n",
       "      <td>NaN</td>\n",
       "      <td>NaN</td>\n",
       "      <td>NaN</td>\n",
       "      <td>NaN</td>\n",
       "      <td>NaN</td>\n",
       "      <td>NaN</td>\n",
       "      <td>NaN</td>\n",
       "    </tr>\n",
       "    <tr>\n",
       "      <th>4918</th>\n",
       "      <td>Psoriasis</td>\n",
       "      <td>skin_rash</td>\n",
       "      <td>joint_pain</td>\n",
       "      <td>skin_peeling</td>\n",
       "      <td>silver_like_dusting</td>\n",
       "      <td>small_dents_in_nails</td>\n",
       "      <td>inflammatory_nails</td>\n",
       "      <td>NaN</td>\n",
       "      <td>NaN</td>\n",
       "      <td>NaN</td>\n",
       "      <td>NaN</td>\n",
       "      <td>NaN</td>\n",
       "      <td>NaN</td>\n",
       "      <td>NaN</td>\n",
       "      <td>NaN</td>\n",
       "      <td>NaN</td>\n",
       "      <td>NaN</td>\n",
       "      <td>NaN</td>\n",
       "    </tr>\n",
       "    <tr>\n",
       "      <th>4919</th>\n",
       "      <td>Impetigo</td>\n",
       "      <td>skin_rash</td>\n",
       "      <td>high_fever</td>\n",
       "      <td>blister</td>\n",
       "      <td>red_sore_around_nose</td>\n",
       "      <td>yellow_crust_ooze</td>\n",
       "      <td>NaN</td>\n",
       "      <td>NaN</td>\n",
       "      <td>NaN</td>\n",
       "      <td>NaN</td>\n",
       "      <td>NaN</td>\n",
       "      <td>NaN</td>\n",
       "      <td>NaN</td>\n",
       "      <td>NaN</td>\n",
       "      <td>NaN</td>\n",
       "      <td>NaN</td>\n",
       "      <td>NaN</td>\n",
       "      <td>NaN</td>\n",
       "    </tr>\n",
       "  </tbody>\n",
       "</table>\n",
       "<p>4920 rows × 18 columns</p>\n",
       "</div>"
      ],
      "text/plain": [
       "                                      Disease             Symptom_1  \\\n",
       "0                            Fungal infection               itching   \n",
       "1                            Fungal infection             skin_rash   \n",
       "2                            Fungal infection               itching   \n",
       "3                            Fungal infection               itching   \n",
       "4                            Fungal infection               itching   \n",
       "...                                       ...                   ...   \n",
       "4915  (vertigo) Paroymsal  Positional Vertigo              vomiting   \n",
       "4916                                     Acne             skin_rash   \n",
       "4917                  Urinary tract infection   burning_micturition   \n",
       "4918                                Psoriasis             skin_rash   \n",
       "4919                                 Impetigo             skin_rash   \n",
       "\n",
       "                  Symptom_2              Symptom_3                  Symptom_4  \\\n",
       "0                 skin_rash   nodal_skin_eruptions        dischromic _patches   \n",
       "1      nodal_skin_eruptions    dischromic _patches                        NaN   \n",
       "2      nodal_skin_eruptions    dischromic _patches                        NaN   \n",
       "3                 skin_rash    dischromic _patches                        NaN   \n",
       "4                 skin_rash   nodal_skin_eruptions                        NaN   \n",
       "...                     ...                    ...                        ...   \n",
       "4915               headache                 nausea         spinning_movements   \n",
       "4916     pus_filled_pimples             blackheads                   scurring   \n",
       "4917     bladder_discomfort    foul_smell_of urine   continuous_feel_of_urine   \n",
       "4918             joint_pain           skin_peeling        silver_like_dusting   \n",
       "4919             high_fever                blister       red_sore_around_nose   \n",
       "\n",
       "                  Symptom_5            Symptom_6 Symptom_7 Symptom_8  \\\n",
       "0                       NaN                  NaN       NaN       NaN   \n",
       "1                       NaN                  NaN       NaN       NaN   \n",
       "2                       NaN                  NaN       NaN       NaN   \n",
       "3                       NaN                  NaN       NaN       NaN   \n",
       "4                       NaN                  NaN       NaN       NaN   \n",
       "...                     ...                  ...       ...       ...   \n",
       "4915        loss_of_balance         unsteadiness       NaN       NaN   \n",
       "4916                    NaN                  NaN       NaN       NaN   \n",
       "4917                    NaN                  NaN       NaN       NaN   \n",
       "4918   small_dents_in_nails   inflammatory_nails       NaN       NaN   \n",
       "4919      yellow_crust_ooze                  NaN       NaN       NaN   \n",
       "\n",
       "     Symptom_9 Symptom_10 Symptom_11 Symptom_12 Symptom_13 Symptom_14  \\\n",
       "0          NaN        NaN        NaN        NaN        NaN        NaN   \n",
       "1          NaN        NaN        NaN        NaN        NaN        NaN   \n",
       "2          NaN        NaN        NaN        NaN        NaN        NaN   \n",
       "3          NaN        NaN        NaN        NaN        NaN        NaN   \n",
       "4          NaN        NaN        NaN        NaN        NaN        NaN   \n",
       "...        ...        ...        ...        ...        ...        ...   \n",
       "4915       NaN        NaN        NaN        NaN        NaN        NaN   \n",
       "4916       NaN        NaN        NaN        NaN        NaN        NaN   \n",
       "4917       NaN        NaN        NaN        NaN        NaN        NaN   \n",
       "4918       NaN        NaN        NaN        NaN        NaN        NaN   \n",
       "4919       NaN        NaN        NaN        NaN        NaN        NaN   \n",
       "\n",
       "     Symptom_15 Symptom_16 Symptom_17  \n",
       "0           NaN        NaN        NaN  \n",
       "1           NaN        NaN        NaN  \n",
       "2           NaN        NaN        NaN  \n",
       "3           NaN        NaN        NaN  \n",
       "4           NaN        NaN        NaN  \n",
       "...         ...        ...        ...  \n",
       "4915        NaN        NaN        NaN  \n",
       "4916        NaN        NaN        NaN  \n",
       "4917        NaN        NaN        NaN  \n",
       "4918        NaN        NaN        NaN  \n",
       "4919        NaN        NaN        NaN  \n",
       "\n",
       "[4920 rows x 18 columns]"
      ]
     },
     "execution_count": 2,
     "metadata": {},
     "output_type": "execute_result"
    }
   ],
   "source": [
    "data = pd.read_csv('dataset.csv')\n",
    "data"
   ]
  },
  {
   "cell_type": "markdown",
   "id": "78770787-37e0-4e3f-a91f-2af5dc5d17a2",
   "metadata": {},
   "source": [
    "# Preprocessing Data"
   ]
  },
  {
   "cell_type": "code",
   "execution_count": null,
   "id": "8415f9e6-f0b7-4ae5-89ac-591270c3296e",
   "metadata": {},
   "outputs": [
    {
     "name": "stdout",
     "output_type": "stream",
     "text": [
      "<class 'pandas.core.frame.DataFrame'>\n",
      "RangeIndex: 4920 entries, 0 to 4919\n",
      "Data columns (total 18 columns):\n",
      " #   Column      Non-Null Count  Dtype \n",
      "---  ------      --------------  ----- \n",
      " 0   Disease     4920 non-null   object\n",
      " 1   Symptom_1   4920 non-null   object\n",
      " 2   Symptom_2   4920 non-null   object\n",
      " 3   Symptom_3   4920 non-null   object\n",
      " 4   Symptom_4   4572 non-null   object\n",
      " 5   Symptom_5   3714 non-null   object\n",
      " 6   Symptom_6   2934 non-null   object\n",
      " 7   Symptom_7   2268 non-null   object\n",
      " 8   Symptom_8   1944 non-null   object\n",
      " 9   Symptom_9   1692 non-null   object\n",
      " 10  Symptom_10  1512 non-null   object\n",
      " 11  Symptom_11  1194 non-null   object\n",
      " 12  Symptom_12  744 non-null    object\n",
      " 13  Symptom_13  504 non-null    object\n",
      " 14  Symptom_14  306 non-null    object\n",
      " 15  Symptom_15  240 non-null    object\n",
      " 16  Symptom_16  192 non-null    object\n",
      " 17  Symptom_17  72 non-null     object\n",
      "dtypes: object(18)\n",
      "memory usage: 692.0+ KB\n"
     ]
    }
   ],
   "source": [
    "data.info()"
   ]
  },
  {
   "cell_type": "code",
   "execution_count": 3,
   "id": "6ab377ba-968c-4a29-92c9-1bec2ebb7147",
   "metadata": {},
   "outputs": [
    {
     "name": "stdout",
     "output_type": "stream",
     "text": [
      "<class 'pandas.core.frame.DataFrame'>\n",
      "Int64Index: 3714 entries, 20 to 4919\n",
      "Data columns (total 6 columns):\n",
      " #   Column     Non-Null Count  Dtype \n",
      "---  ------     --------------  ----- \n",
      " 0   Disease    3714 non-null   object\n",
      " 1   Symptom_1  3714 non-null   object\n",
      " 2   Symptom_2  3714 non-null   object\n",
      " 3   Symptom_3  3714 non-null   object\n",
      " 4   Symptom_4  3714 non-null   object\n",
      " 5   Symptom_5  3714 non-null   object\n",
      "dtypes: object(6)\n",
      "memory usage: 203.1+ KB\n"
     ]
    }
   ],
   "source": [
    "#removing columns that have any Nan Values Because we are going to use one_hot encoder \n",
    "for i in data:\n",
    "    if (data[i].isnull().sum() > 1300) :\n",
    "         data.drop(columns = i,inplace = True)\n",
    "data.dropna(axis=0,inplace =True)\n",
    "data.info()"
   ]
  },
  {
   "cell_type": "code",
   "execution_count": 4,
   "id": "4af25cd8-2173-49df-86a4-ceb6da755d66",
   "metadata": {},
   "outputs": [
    {
     "data": {
      "text/html": [
       "<div>\n",
       "<style scoped>\n",
       "    .dataframe tbody tr th:only-of-type {\n",
       "        vertical-align: middle;\n",
       "    }\n",
       "\n",
       "    .dataframe tbody tr th {\n",
       "        vertical-align: top;\n",
       "    }\n",
       "\n",
       "    .dataframe thead th {\n",
       "        text-align: right;\n",
       "    }\n",
       "</style>\n",
       "<table border=\"1\" class=\"dataframe\">\n",
       "  <thead>\n",
       "    <tr style=\"text-align: right;\">\n",
       "      <th></th>\n",
       "      <th>Disease</th>\n",
       "      <th>Symptom_1_ acidity</th>\n",
       "      <th>Symptom_1_ back_pain</th>\n",
       "      <th>Symptom_1_ chills</th>\n",
       "      <th>Symptom_1_ constipation</th>\n",
       "      <th>Symptom_1_ continuous_sneezing</th>\n",
       "      <th>Symptom_1_ cough</th>\n",
       "      <th>Symptom_1_ cramps</th>\n",
       "      <th>Symptom_1_ fatigue</th>\n",
       "      <th>Symptom_1_ headache</th>\n",
       "      <th>...</th>\n",
       "      <th>Symptom_5_ spotting_ urination</th>\n",
       "      <th>Symptom_5_ stiff_neck</th>\n",
       "      <th>Symptom_5_ sweating</th>\n",
       "      <th>Symptom_5_ swelling_joints</th>\n",
       "      <th>Symptom_5_ swollen_blood_vessels</th>\n",
       "      <th>Symptom_5_ swollen_legs</th>\n",
       "      <th>Symptom_5_ unsteadiness</th>\n",
       "      <th>Symptom_5_ yellow_crust_ooze</th>\n",
       "      <th>Symptom_5_ yellowing_of_eyes</th>\n",
       "      <th>Symptom_5_ yellowish_skin</th>\n",
       "    </tr>\n",
       "  </thead>\n",
       "  <tbody>\n",
       "    <tr>\n",
       "      <th>20</th>\n",
       "      <td>GERD</td>\n",
       "      <td>0</td>\n",
       "      <td>0</td>\n",
       "      <td>0</td>\n",
       "      <td>0</td>\n",
       "      <td>0</td>\n",
       "      <td>0</td>\n",
       "      <td>0</td>\n",
       "      <td>0</td>\n",
       "      <td>0</td>\n",
       "      <td>...</td>\n",
       "      <td>0</td>\n",
       "      <td>0</td>\n",
       "      <td>0</td>\n",
       "      <td>0</td>\n",
       "      <td>0</td>\n",
       "      <td>0</td>\n",
       "      <td>0</td>\n",
       "      <td>0</td>\n",
       "      <td>0</td>\n",
       "      <td>0</td>\n",
       "    </tr>\n",
       "    <tr>\n",
       "      <th>21</th>\n",
       "      <td>GERD</td>\n",
       "      <td>0</td>\n",
       "      <td>0</td>\n",
       "      <td>0</td>\n",
       "      <td>0</td>\n",
       "      <td>0</td>\n",
       "      <td>0</td>\n",
       "      <td>0</td>\n",
       "      <td>0</td>\n",
       "      <td>0</td>\n",
       "      <td>...</td>\n",
       "      <td>0</td>\n",
       "      <td>0</td>\n",
       "      <td>0</td>\n",
       "      <td>0</td>\n",
       "      <td>0</td>\n",
       "      <td>0</td>\n",
       "      <td>0</td>\n",
       "      <td>0</td>\n",
       "      <td>0</td>\n",
       "      <td>0</td>\n",
       "    </tr>\n",
       "    <tr>\n",
       "      <th>22</th>\n",
       "      <td>GERD</td>\n",
       "      <td>0</td>\n",
       "      <td>0</td>\n",
       "      <td>0</td>\n",
       "      <td>0</td>\n",
       "      <td>0</td>\n",
       "      <td>0</td>\n",
       "      <td>0</td>\n",
       "      <td>0</td>\n",
       "      <td>0</td>\n",
       "      <td>...</td>\n",
       "      <td>0</td>\n",
       "      <td>0</td>\n",
       "      <td>0</td>\n",
       "      <td>0</td>\n",
       "      <td>0</td>\n",
       "      <td>0</td>\n",
       "      <td>0</td>\n",
       "      <td>0</td>\n",
       "      <td>0</td>\n",
       "      <td>0</td>\n",
       "    </tr>\n",
       "    <tr>\n",
       "      <th>23</th>\n",
       "      <td>GERD</td>\n",
       "      <td>0</td>\n",
       "      <td>0</td>\n",
       "      <td>0</td>\n",
       "      <td>0</td>\n",
       "      <td>0</td>\n",
       "      <td>0</td>\n",
       "      <td>0</td>\n",
       "      <td>0</td>\n",
       "      <td>0</td>\n",
       "      <td>...</td>\n",
       "      <td>0</td>\n",
       "      <td>0</td>\n",
       "      <td>0</td>\n",
       "      <td>0</td>\n",
       "      <td>0</td>\n",
       "      <td>0</td>\n",
       "      <td>0</td>\n",
       "      <td>0</td>\n",
       "      <td>0</td>\n",
       "      <td>0</td>\n",
       "    </tr>\n",
       "    <tr>\n",
       "      <th>24</th>\n",
       "      <td>GERD</td>\n",
       "      <td>0</td>\n",
       "      <td>0</td>\n",
       "      <td>0</td>\n",
       "      <td>0</td>\n",
       "      <td>0</td>\n",
       "      <td>0</td>\n",
       "      <td>0</td>\n",
       "      <td>0</td>\n",
       "      <td>0</td>\n",
       "      <td>...</td>\n",
       "      <td>0</td>\n",
       "      <td>0</td>\n",
       "      <td>0</td>\n",
       "      <td>0</td>\n",
       "      <td>0</td>\n",
       "      <td>0</td>\n",
       "      <td>0</td>\n",
       "      <td>0</td>\n",
       "      <td>0</td>\n",
       "      <td>0</td>\n",
       "    </tr>\n",
       "    <tr>\n",
       "      <th>...</th>\n",
       "      <td>...</td>\n",
       "      <td>...</td>\n",
       "      <td>...</td>\n",
       "      <td>...</td>\n",
       "      <td>...</td>\n",
       "      <td>...</td>\n",
       "      <td>...</td>\n",
       "      <td>...</td>\n",
       "      <td>...</td>\n",
       "      <td>...</td>\n",
       "      <td>...</td>\n",
       "      <td>...</td>\n",
       "      <td>...</td>\n",
       "      <td>...</td>\n",
       "      <td>...</td>\n",
       "      <td>...</td>\n",
       "      <td>...</td>\n",
       "      <td>...</td>\n",
       "      <td>...</td>\n",
       "      <td>...</td>\n",
       "      <td>...</td>\n",
       "    </tr>\n",
       "    <tr>\n",
       "      <th>4913</th>\n",
       "      <td>Osteoarthristis</td>\n",
       "      <td>0</td>\n",
       "      <td>0</td>\n",
       "      <td>0</td>\n",
       "      <td>0</td>\n",
       "      <td>0</td>\n",
       "      <td>0</td>\n",
       "      <td>0</td>\n",
       "      <td>0</td>\n",
       "      <td>0</td>\n",
       "      <td>...</td>\n",
       "      <td>0</td>\n",
       "      <td>0</td>\n",
       "      <td>0</td>\n",
       "      <td>1</td>\n",
       "      <td>0</td>\n",
       "      <td>0</td>\n",
       "      <td>0</td>\n",
       "      <td>0</td>\n",
       "      <td>0</td>\n",
       "      <td>0</td>\n",
       "    </tr>\n",
       "    <tr>\n",
       "      <th>4914</th>\n",
       "      <td>Arthritis</td>\n",
       "      <td>0</td>\n",
       "      <td>0</td>\n",
       "      <td>0</td>\n",
       "      <td>0</td>\n",
       "      <td>0</td>\n",
       "      <td>0</td>\n",
       "      <td>0</td>\n",
       "      <td>0</td>\n",
       "      <td>0</td>\n",
       "      <td>...</td>\n",
       "      <td>0</td>\n",
       "      <td>0</td>\n",
       "      <td>0</td>\n",
       "      <td>0</td>\n",
       "      <td>0</td>\n",
       "      <td>0</td>\n",
       "      <td>0</td>\n",
       "      <td>0</td>\n",
       "      <td>0</td>\n",
       "      <td>0</td>\n",
       "    </tr>\n",
       "    <tr>\n",
       "      <th>4915</th>\n",
       "      <td>(vertigo) Paroymsal  Positional Vertigo</td>\n",
       "      <td>0</td>\n",
       "      <td>0</td>\n",
       "      <td>0</td>\n",
       "      <td>0</td>\n",
       "      <td>0</td>\n",
       "      <td>0</td>\n",
       "      <td>0</td>\n",
       "      <td>0</td>\n",
       "      <td>0</td>\n",
       "      <td>...</td>\n",
       "      <td>0</td>\n",
       "      <td>0</td>\n",
       "      <td>0</td>\n",
       "      <td>0</td>\n",
       "      <td>0</td>\n",
       "      <td>0</td>\n",
       "      <td>0</td>\n",
       "      <td>0</td>\n",
       "      <td>0</td>\n",
       "      <td>0</td>\n",
       "    </tr>\n",
       "    <tr>\n",
       "      <th>4918</th>\n",
       "      <td>Psoriasis</td>\n",
       "      <td>0</td>\n",
       "      <td>0</td>\n",
       "      <td>0</td>\n",
       "      <td>0</td>\n",
       "      <td>0</td>\n",
       "      <td>0</td>\n",
       "      <td>0</td>\n",
       "      <td>0</td>\n",
       "      <td>0</td>\n",
       "      <td>...</td>\n",
       "      <td>0</td>\n",
       "      <td>0</td>\n",
       "      <td>0</td>\n",
       "      <td>0</td>\n",
       "      <td>0</td>\n",
       "      <td>0</td>\n",
       "      <td>0</td>\n",
       "      <td>0</td>\n",
       "      <td>0</td>\n",
       "      <td>0</td>\n",
       "    </tr>\n",
       "    <tr>\n",
       "      <th>4919</th>\n",
       "      <td>Impetigo</td>\n",
       "      <td>0</td>\n",
       "      <td>0</td>\n",
       "      <td>0</td>\n",
       "      <td>0</td>\n",
       "      <td>0</td>\n",
       "      <td>0</td>\n",
       "      <td>0</td>\n",
       "      <td>0</td>\n",
       "      <td>0</td>\n",
       "      <td>...</td>\n",
       "      <td>0</td>\n",
       "      <td>0</td>\n",
       "      <td>0</td>\n",
       "      <td>0</td>\n",
       "      <td>0</td>\n",
       "      <td>0</td>\n",
       "      <td>0</td>\n",
       "      <td>1</td>\n",
       "      <td>0</td>\n",
       "      <td>0</td>\n",
       "    </tr>\n",
       "  </tbody>\n",
       "</table>\n",
       "<p>3714 rows × 163 columns</p>\n",
       "</div>"
      ],
      "text/plain": [
       "                                      Disease  Symptom_1_ acidity  \\\n",
       "20                                       GERD                   0   \n",
       "21                                       GERD                   0   \n",
       "22                                       GERD                   0   \n",
       "23                                       GERD                   0   \n",
       "24                                       GERD                   0   \n",
       "...                                       ...                 ...   \n",
       "4913                          Osteoarthristis                   0   \n",
       "4914                                Arthritis                   0   \n",
       "4915  (vertigo) Paroymsal  Positional Vertigo                   0   \n",
       "4918                                Psoriasis                   0   \n",
       "4919                                 Impetigo                   0   \n",
       "\n",
       "      Symptom_1_ back_pain  Symptom_1_ chills  Symptom_1_ constipation  \\\n",
       "20                       0                  0                        0   \n",
       "21                       0                  0                        0   \n",
       "22                       0                  0                        0   \n",
       "23                       0                  0                        0   \n",
       "24                       0                  0                        0   \n",
       "...                    ...                ...                      ...   \n",
       "4913                     0                  0                        0   \n",
       "4914                     0                  0                        0   \n",
       "4915                     0                  0                        0   \n",
       "4918                     0                  0                        0   \n",
       "4919                     0                  0                        0   \n",
       "\n",
       "      Symptom_1_ continuous_sneezing  Symptom_1_ cough  Symptom_1_ cramps  \\\n",
       "20                                 0                 0                  0   \n",
       "21                                 0                 0                  0   \n",
       "22                                 0                 0                  0   \n",
       "23                                 0                 0                  0   \n",
       "24                                 0                 0                  0   \n",
       "...                              ...               ...                ...   \n",
       "4913                               0                 0                  0   \n",
       "4914                               0                 0                  0   \n",
       "4915                               0                 0                  0   \n",
       "4918                               0                 0                  0   \n",
       "4919                               0                 0                  0   \n",
       "\n",
       "      Symptom_1_ fatigue  Symptom_1_ headache  ...  \\\n",
       "20                     0                    0  ...   \n",
       "21                     0                    0  ...   \n",
       "22                     0                    0  ...   \n",
       "23                     0                    0  ...   \n",
       "24                     0                    0  ...   \n",
       "...                  ...                  ...  ...   \n",
       "4913                   0                    0  ...   \n",
       "4914                   0                    0  ...   \n",
       "4915                   0                    0  ...   \n",
       "4918                   0                    0  ...   \n",
       "4919                   0                    0  ...   \n",
       "\n",
       "      Symptom_5_ spotting_ urination  Symptom_5_ stiff_neck  \\\n",
       "20                                 0                      0   \n",
       "21                                 0                      0   \n",
       "22                                 0                      0   \n",
       "23                                 0                      0   \n",
       "24                                 0                      0   \n",
       "...                              ...                    ...   \n",
       "4913                               0                      0   \n",
       "4914                               0                      0   \n",
       "4915                               0                      0   \n",
       "4918                               0                      0   \n",
       "4919                               0                      0   \n",
       "\n",
       "      Symptom_5_ sweating  Symptom_5_ swelling_joints  \\\n",
       "20                      0                           0   \n",
       "21                      0                           0   \n",
       "22                      0                           0   \n",
       "23                      0                           0   \n",
       "24                      0                           0   \n",
       "...                   ...                         ...   \n",
       "4913                    0                           1   \n",
       "4914                    0                           0   \n",
       "4915                    0                           0   \n",
       "4918                    0                           0   \n",
       "4919                    0                           0   \n",
       "\n",
       "      Symptom_5_ swollen_blood_vessels  Symptom_5_ swollen_legs  \\\n",
       "20                                   0                        0   \n",
       "21                                   0                        0   \n",
       "22                                   0                        0   \n",
       "23                                   0                        0   \n",
       "24                                   0                        0   \n",
       "...                                ...                      ...   \n",
       "4913                                 0                        0   \n",
       "4914                                 0                        0   \n",
       "4915                                 0                        0   \n",
       "4918                                 0                        0   \n",
       "4919                                 0                        0   \n",
       "\n",
       "      Symptom_5_ unsteadiness  Symptom_5_ yellow_crust_ooze  \\\n",
       "20                          0                             0   \n",
       "21                          0                             0   \n",
       "22                          0                             0   \n",
       "23                          0                             0   \n",
       "24                          0                             0   \n",
       "...                       ...                           ...   \n",
       "4913                        0                             0   \n",
       "4914                        0                             0   \n",
       "4915                        0                             0   \n",
       "4918                        0                             0   \n",
       "4919                        0                             1   \n",
       "\n",
       "      Symptom_5_ yellowing_of_eyes  Symptom_5_ yellowish_skin  \n",
       "20                               0                          0  \n",
       "21                               0                          0  \n",
       "22                               0                          0  \n",
       "23                               0                          0  \n",
       "24                               0                          0  \n",
       "...                            ...                        ...  \n",
       "4913                             0                          0  \n",
       "4914                             0                          0  \n",
       "4915                             0                          0  \n",
       "4918                             0                          0  \n",
       "4919                             0                          0  \n",
       "\n",
       "[3714 rows x 163 columns]"
      ]
     },
     "execution_count": 4,
     "metadata": {},
     "output_type": "execute_result"
    }
   ],
   "source": [
    "#Using One_hot Encoder to make data symptoms usable for vis\n",
    "new_data = data.copy()\n",
    "for i in new_data:\n",
    "    if \"Symptom\" in i:\n",
    "        one_hot = pd.get_dummies(new_data[i], prefix = i)      \n",
    "        new_data = new_data.drop(columns=i)\n",
    "        new_data = new_data.join(one_hot)\n",
    "new_data"
   ]
  },
  {
   "cell_type": "code",
   "execution_count": 23,
   "id": "74589bd7-16ff-439a-a3f1-bb4271a2945e",
   "metadata": {},
   "outputs": [
    {
     "data": {
      "text/html": [
       "<div>\n",
       "<style scoped>\n",
       "    .dataframe tbody tr th:only-of-type {\n",
       "        vertical-align: middle;\n",
       "    }\n",
       "\n",
       "    .dataframe tbody tr th {\n",
       "        vertical-align: top;\n",
       "    }\n",
       "\n",
       "    .dataframe thead th {\n",
       "        text-align: right;\n",
       "    }\n",
       "</style>\n",
       "<table border=\"1\" class=\"dataframe\">\n",
       "  <thead>\n",
       "    <tr style=\"text-align: right;\">\n",
       "      <th></th>\n",
       "      <th>Disease</th>\n",
       "      <th>Symptom_1_ acidity</th>\n",
       "      <th>Symptom_1_ back_pain</th>\n",
       "      <th>Symptom_1_ chills</th>\n",
       "      <th>Symptom_1_ constipation</th>\n",
       "      <th>Symptom_1_ continuous_sneezing</th>\n",
       "      <th>Symptom_1_ cough</th>\n",
       "      <th>Symptom_1_ cramps</th>\n",
       "      <th>Symptom_1_ fatigue</th>\n",
       "      <th>Symptom_1_ headache</th>\n",
       "      <th>...</th>\n",
       "      <th>Symptom_5_ spotting_ urination</th>\n",
       "      <th>Symptom_5_ stiff_neck</th>\n",
       "      <th>Symptom_5_ sweating</th>\n",
       "      <th>Symptom_5_ swelling_joints</th>\n",
       "      <th>Symptom_5_ swollen_blood_vessels</th>\n",
       "      <th>Symptom_5_ swollen_legs</th>\n",
       "      <th>Symptom_5_ unsteadiness</th>\n",
       "      <th>Symptom_5_ yellow_crust_ooze</th>\n",
       "      <th>Symptom_5_ yellowing_of_eyes</th>\n",
       "      <th>Symptom_5_ yellowish_skin</th>\n",
       "    </tr>\n",
       "  </thead>\n",
       "  <tbody>\n",
       "    <tr>\n",
       "      <th>0</th>\n",
       "      <td>(vertigo) Paroymsal  Positional Vertigo</td>\n",
       "      <td>0</td>\n",
       "      <td>0</td>\n",
       "      <td>0</td>\n",
       "      <td>0</td>\n",
       "      <td>0</td>\n",
       "      <td>0</td>\n",
       "      <td>0</td>\n",
       "      <td>0</td>\n",
       "      <td>6</td>\n",
       "      <td>...</td>\n",
       "      <td>0</td>\n",
       "      <td>0</td>\n",
       "      <td>0</td>\n",
       "      <td>0</td>\n",
       "      <td>0</td>\n",
       "      <td>0</td>\n",
       "      <td>36</td>\n",
       "      <td>0</td>\n",
       "      <td>0</td>\n",
       "      <td>0</td>\n",
       "    </tr>\n",
       "    <tr>\n",
       "      <th>1</th>\n",
       "      <td>Alcoholic hepatitis</td>\n",
       "      <td>0</td>\n",
       "      <td>0</td>\n",
       "      <td>0</td>\n",
       "      <td>0</td>\n",
       "      <td>0</td>\n",
       "      <td>0</td>\n",
       "      <td>0</td>\n",
       "      <td>0</td>\n",
       "      <td>0</td>\n",
       "      <td>...</td>\n",
       "      <td>0</td>\n",
       "      <td>0</td>\n",
       "      <td>0</td>\n",
       "      <td>0</td>\n",
       "      <td>0</td>\n",
       "      <td>0</td>\n",
       "      <td>0</td>\n",
       "      <td>0</td>\n",
       "      <td>0</td>\n",
       "      <td>0</td>\n",
       "    </tr>\n",
       "    <tr>\n",
       "      <th>2</th>\n",
       "      <td>Arthritis</td>\n",
       "      <td>0</td>\n",
       "      <td>0</td>\n",
       "      <td>0</td>\n",
       "      <td>0</td>\n",
       "      <td>0</td>\n",
       "      <td>0</td>\n",
       "      <td>0</td>\n",
       "      <td>0</td>\n",
       "      <td>0</td>\n",
       "      <td>...</td>\n",
       "      <td>0</td>\n",
       "      <td>0</td>\n",
       "      <td>0</td>\n",
       "      <td>0</td>\n",
       "      <td>0</td>\n",
       "      <td>0</td>\n",
       "      <td>0</td>\n",
       "      <td>0</td>\n",
       "      <td>0</td>\n",
       "      <td>0</td>\n",
       "    </tr>\n",
       "    <tr>\n",
       "      <th>3</th>\n",
       "      <td>Bronchial Asthma</td>\n",
       "      <td>0</td>\n",
       "      <td>0</td>\n",
       "      <td>0</td>\n",
       "      <td>0</td>\n",
       "      <td>0</td>\n",
       "      <td>12</td>\n",
       "      <td>0</td>\n",
       "      <td>108</td>\n",
       "      <td>0</td>\n",
       "      <td>...</td>\n",
       "      <td>0</td>\n",
       "      <td>0</td>\n",
       "      <td>0</td>\n",
       "      <td>0</td>\n",
       "      <td>0</td>\n",
       "      <td>0</td>\n",
       "      <td>0</td>\n",
       "      <td>0</td>\n",
       "      <td>0</td>\n",
       "      <td>0</td>\n",
       "    </tr>\n",
       "    <tr>\n",
       "      <th>4</th>\n",
       "      <td>Cervical spondylosis</td>\n",
       "      <td>0</td>\n",
       "      <td>78</td>\n",
       "      <td>0</td>\n",
       "      <td>0</td>\n",
       "      <td>0</td>\n",
       "      <td>0</td>\n",
       "      <td>0</td>\n",
       "      <td>0</td>\n",
       "      <td>0</td>\n",
       "      <td>...</td>\n",
       "      <td>0</td>\n",
       "      <td>0</td>\n",
       "      <td>0</td>\n",
       "      <td>0</td>\n",
       "      <td>0</td>\n",
       "      <td>0</td>\n",
       "      <td>0</td>\n",
       "      <td>0</td>\n",
       "      <td>0</td>\n",
       "      <td>0</td>\n",
       "    </tr>\n",
       "    <tr>\n",
       "      <th>5</th>\n",
       "      <td>Chicken pox</td>\n",
       "      <td>0</td>\n",
       "      <td>0</td>\n",
       "      <td>0</td>\n",
       "      <td>0</td>\n",
       "      <td>0</td>\n",
       "      <td>0</td>\n",
       "      <td>0</td>\n",
       "      <td>0</td>\n",
       "      <td>0</td>\n",
       "      <td>...</td>\n",
       "      <td>0</td>\n",
       "      <td>0</td>\n",
       "      <td>0</td>\n",
       "      <td>0</td>\n",
       "      <td>0</td>\n",
       "      <td>0</td>\n",
       "      <td>0</td>\n",
       "      <td>0</td>\n",
       "      <td>0</td>\n",
       "      <td>0</td>\n",
       "    </tr>\n",
       "    <tr>\n",
       "      <th>6</th>\n",
       "      <td>Chronic cholestasis</td>\n",
       "      <td>0</td>\n",
       "      <td>0</td>\n",
       "      <td>0</td>\n",
       "      <td>0</td>\n",
       "      <td>0</td>\n",
       "      <td>0</td>\n",
       "      <td>0</td>\n",
       "      <td>0</td>\n",
       "      <td>0</td>\n",
       "      <td>...</td>\n",
       "      <td>0</td>\n",
       "      <td>0</td>\n",
       "      <td>0</td>\n",
       "      <td>0</td>\n",
       "      <td>0</td>\n",
       "      <td>0</td>\n",
       "      <td>0</td>\n",
       "      <td>0</td>\n",
       "      <td>0</td>\n",
       "      <td>0</td>\n",
       "    </tr>\n",
       "    <tr>\n",
       "      <th>7</th>\n",
       "      <td>Common Cold</td>\n",
       "      <td>0</td>\n",
       "      <td>0</td>\n",
       "      <td>6</td>\n",
       "      <td>0</td>\n",
       "      <td>114</td>\n",
       "      <td>0</td>\n",
       "      <td>0</td>\n",
       "      <td>0</td>\n",
       "      <td>0</td>\n",
       "      <td>...</td>\n",
       "      <td>0</td>\n",
       "      <td>0</td>\n",
       "      <td>0</td>\n",
       "      <td>0</td>\n",
       "      <td>0</td>\n",
       "      <td>0</td>\n",
       "      <td>0</td>\n",
       "      <td>0</td>\n",
       "      <td>0</td>\n",
       "      <td>0</td>\n",
       "    </tr>\n",
       "    <tr>\n",
       "      <th>8</th>\n",
       "      <td>Dengue</td>\n",
       "      <td>0</td>\n",
       "      <td>0</td>\n",
       "      <td>6</td>\n",
       "      <td>0</td>\n",
       "      <td>0</td>\n",
       "      <td>0</td>\n",
       "      <td>0</td>\n",
       "      <td>0</td>\n",
       "      <td>0</td>\n",
       "      <td>...</td>\n",
       "      <td>0</td>\n",
       "      <td>0</td>\n",
       "      <td>0</td>\n",
       "      <td>0</td>\n",
       "      <td>0</td>\n",
       "      <td>0</td>\n",
       "      <td>0</td>\n",
       "      <td>0</td>\n",
       "      <td>0</td>\n",
       "      <td>0</td>\n",
       "    </tr>\n",
       "    <tr>\n",
       "      <th>9</th>\n",
       "      <td>Diabetes</td>\n",
       "      <td>0</td>\n",
       "      <td>0</td>\n",
       "      <td>0</td>\n",
       "      <td>0</td>\n",
       "      <td>0</td>\n",
       "      <td>0</td>\n",
       "      <td>0</td>\n",
       "      <td>114</td>\n",
       "      <td>0</td>\n",
       "      <td>...</td>\n",
       "      <td>0</td>\n",
       "      <td>0</td>\n",
       "      <td>0</td>\n",
       "      <td>0</td>\n",
       "      <td>0</td>\n",
       "      <td>0</td>\n",
       "      <td>0</td>\n",
       "      <td>0</td>\n",
       "      <td>0</td>\n",
       "      <td>0</td>\n",
       "    </tr>\n",
       "    <tr>\n",
       "      <th>10</th>\n",
       "      <td>Dimorphic hemmorhoids(piles)</td>\n",
       "      <td>0</td>\n",
       "      <td>0</td>\n",
       "      <td>0</td>\n",
       "      <td>90</td>\n",
       "      <td>0</td>\n",
       "      <td>0</td>\n",
       "      <td>0</td>\n",
       "      <td>0</td>\n",
       "      <td>0</td>\n",
       "      <td>...</td>\n",
       "      <td>0</td>\n",
       "      <td>0</td>\n",
       "      <td>0</td>\n",
       "      <td>0</td>\n",
       "      <td>0</td>\n",
       "      <td>0</td>\n",
       "      <td>0</td>\n",
       "      <td>0</td>\n",
       "      <td>0</td>\n",
       "      <td>0</td>\n",
       "    </tr>\n",
       "    <tr>\n",
       "      <th>11</th>\n",
       "      <td>Drug Reaction</td>\n",
       "      <td>0</td>\n",
       "      <td>0</td>\n",
       "      <td>0</td>\n",
       "      <td>0</td>\n",
       "      <td>0</td>\n",
       "      <td>0</td>\n",
       "      <td>0</td>\n",
       "      <td>0</td>\n",
       "      <td>0</td>\n",
       "      <td>...</td>\n",
       "      <td>66</td>\n",
       "      <td>0</td>\n",
       "      <td>0</td>\n",
       "      <td>0</td>\n",
       "      <td>0</td>\n",
       "      <td>0</td>\n",
       "      <td>0</td>\n",
       "      <td>0</td>\n",
       "      <td>0</td>\n",
       "      <td>0</td>\n",
       "    </tr>\n",
       "    <tr>\n",
       "      <th>12</th>\n",
       "      <td>GERD</td>\n",
       "      <td>6</td>\n",
       "      <td>0</td>\n",
       "      <td>0</td>\n",
       "      <td>0</td>\n",
       "      <td>0</td>\n",
       "      <td>0</td>\n",
       "      <td>0</td>\n",
       "      <td>0</td>\n",
       "      <td>0</td>\n",
       "      <td>...</td>\n",
       "      <td>0</td>\n",
       "      <td>0</td>\n",
       "      <td>0</td>\n",
       "      <td>0</td>\n",
       "      <td>0</td>\n",
       "      <td>0</td>\n",
       "      <td>0</td>\n",
       "      <td>0</td>\n",
       "      <td>0</td>\n",
       "      <td>0</td>\n",
       "    </tr>\n",
       "    <tr>\n",
       "      <th>13</th>\n",
       "      <td>Hepatitis B</td>\n",
       "      <td>0</td>\n",
       "      <td>0</td>\n",
       "      <td>0</td>\n",
       "      <td>0</td>\n",
       "      <td>0</td>\n",
       "      <td>0</td>\n",
       "      <td>0</td>\n",
       "      <td>6</td>\n",
       "      <td>0</td>\n",
       "      <td>...</td>\n",
       "      <td>0</td>\n",
       "      <td>0</td>\n",
       "      <td>0</td>\n",
       "      <td>0</td>\n",
       "      <td>0</td>\n",
       "      <td>0</td>\n",
       "      <td>0</td>\n",
       "      <td>0</td>\n",
       "      <td>0</td>\n",
       "      <td>0</td>\n",
       "    </tr>\n",
       "    <tr>\n",
       "      <th>14</th>\n",
       "      <td>Hepatitis C</td>\n",
       "      <td>0</td>\n",
       "      <td>0</td>\n",
       "      <td>0</td>\n",
       "      <td>0</td>\n",
       "      <td>0</td>\n",
       "      <td>0</td>\n",
       "      <td>0</td>\n",
       "      <td>114</td>\n",
       "      <td>0</td>\n",
       "      <td>...</td>\n",
       "      <td>0</td>\n",
       "      <td>0</td>\n",
       "      <td>0</td>\n",
       "      <td>0</td>\n",
       "      <td>0</td>\n",
       "      <td>0</td>\n",
       "      <td>0</td>\n",
       "      <td>0</td>\n",
       "      <td>84</td>\n",
       "      <td>0</td>\n",
       "    </tr>\n",
       "    <tr>\n",
       "      <th>15</th>\n",
       "      <td>Hepatitis D</td>\n",
       "      <td>0</td>\n",
       "      <td>0</td>\n",
       "      <td>0</td>\n",
       "      <td>0</td>\n",
       "      <td>0</td>\n",
       "      <td>0</td>\n",
       "      <td>0</td>\n",
       "      <td>0</td>\n",
       "      <td>0</td>\n",
       "      <td>...</td>\n",
       "      <td>0</td>\n",
       "      <td>0</td>\n",
       "      <td>0</td>\n",
       "      <td>0</td>\n",
       "      <td>0</td>\n",
       "      <td>0</td>\n",
       "      <td>0</td>\n",
       "      <td>0</td>\n",
       "      <td>0</td>\n",
       "      <td>0</td>\n",
       "    </tr>\n",
       "    <tr>\n",
       "      <th>16</th>\n",
       "      <td>Hepatitis E</td>\n",
       "      <td>0</td>\n",
       "      <td>0</td>\n",
       "      <td>0</td>\n",
       "      <td>0</td>\n",
       "      <td>0</td>\n",
       "      <td>0</td>\n",
       "      <td>0</td>\n",
       "      <td>0</td>\n",
       "      <td>0</td>\n",
       "      <td>...</td>\n",
       "      <td>0</td>\n",
       "      <td>0</td>\n",
       "      <td>0</td>\n",
       "      <td>0</td>\n",
       "      <td>0</td>\n",
       "      <td>0</td>\n",
       "      <td>0</td>\n",
       "      <td>0</td>\n",
       "      <td>0</td>\n",
       "      <td>90</td>\n",
       "    </tr>\n",
       "    <tr>\n",
       "      <th>17</th>\n",
       "      <td>Hypertension</td>\n",
       "      <td>0</td>\n",
       "      <td>0</td>\n",
       "      <td>0</td>\n",
       "      <td>0</td>\n",
       "      <td>0</td>\n",
       "      <td>0</td>\n",
       "      <td>0</td>\n",
       "      <td>0</td>\n",
       "      <td>72</td>\n",
       "      <td>...</td>\n",
       "      <td>0</td>\n",
       "      <td>0</td>\n",
       "      <td>0</td>\n",
       "      <td>0</td>\n",
       "      <td>0</td>\n",
       "      <td>0</td>\n",
       "      <td>0</td>\n",
       "      <td>0</td>\n",
       "      <td>0</td>\n",
       "      <td>0</td>\n",
       "    </tr>\n",
       "    <tr>\n",
       "      <th>18</th>\n",
       "      <td>Hyperthyroidism</td>\n",
       "      <td>0</td>\n",
       "      <td>0</td>\n",
       "      <td>0</td>\n",
       "      <td>0</td>\n",
       "      <td>0</td>\n",
       "      <td>0</td>\n",
       "      <td>0</td>\n",
       "      <td>114</td>\n",
       "      <td>0</td>\n",
       "      <td>...</td>\n",
       "      <td>0</td>\n",
       "      <td>0</td>\n",
       "      <td>90</td>\n",
       "      <td>0</td>\n",
       "      <td>0</td>\n",
       "      <td>0</td>\n",
       "      <td>0</td>\n",
       "      <td>0</td>\n",
       "      <td>0</td>\n",
       "      <td>0</td>\n",
       "    </tr>\n",
       "    <tr>\n",
       "      <th>19</th>\n",
       "      <td>Hypoglycemia</td>\n",
       "      <td>0</td>\n",
       "      <td>0</td>\n",
       "      <td>0</td>\n",
       "      <td>0</td>\n",
       "      <td>0</td>\n",
       "      <td>0</td>\n",
       "      <td>0</td>\n",
       "      <td>6</td>\n",
       "      <td>0</td>\n",
       "      <td>...</td>\n",
       "      <td>0</td>\n",
       "      <td>0</td>\n",
       "      <td>0</td>\n",
       "      <td>0</td>\n",
       "      <td>0</td>\n",
       "      <td>0</td>\n",
       "      <td>0</td>\n",
       "      <td>0</td>\n",
       "      <td>0</td>\n",
       "      <td>0</td>\n",
       "    </tr>\n",
       "    <tr>\n",
       "      <th>20</th>\n",
       "      <td>Hypothyroidism</td>\n",
       "      <td>0</td>\n",
       "      <td>0</td>\n",
       "      <td>0</td>\n",
       "      <td>0</td>\n",
       "      <td>0</td>\n",
       "      <td>0</td>\n",
       "      <td>0</td>\n",
       "      <td>108</td>\n",
       "      <td>0</td>\n",
       "      <td>...</td>\n",
       "      <td>0</td>\n",
       "      <td>0</td>\n",
       "      <td>0</td>\n",
       "      <td>0</td>\n",
       "      <td>0</td>\n",
       "      <td>0</td>\n",
       "      <td>0</td>\n",
       "      <td>0</td>\n",
       "      <td>0</td>\n",
       "      <td>0</td>\n",
       "    </tr>\n",
       "    <tr>\n",
       "      <th>21</th>\n",
       "      <td>Impetigo</td>\n",
       "      <td>0</td>\n",
       "      <td>0</td>\n",
       "      <td>0</td>\n",
       "      <td>0</td>\n",
       "      <td>0</td>\n",
       "      <td>0</td>\n",
       "      <td>0</td>\n",
       "      <td>0</td>\n",
       "      <td>0</td>\n",
       "      <td>...</td>\n",
       "      <td>0</td>\n",
       "      <td>0</td>\n",
       "      <td>0</td>\n",
       "      <td>0</td>\n",
       "      <td>0</td>\n",
       "      <td>0</td>\n",
       "      <td>0</td>\n",
       "      <td>78</td>\n",
       "      <td>0</td>\n",
       "      <td>0</td>\n",
       "    </tr>\n",
       "    <tr>\n",
       "      <th>22</th>\n",
       "      <td>Jaundice</td>\n",
       "      <td>0</td>\n",
       "      <td>0</td>\n",
       "      <td>0</td>\n",
       "      <td>0</td>\n",
       "      <td>0</td>\n",
       "      <td>0</td>\n",
       "      <td>0</td>\n",
       "      <td>0</td>\n",
       "      <td>0</td>\n",
       "      <td>...</td>\n",
       "      <td>0</td>\n",
       "      <td>0</td>\n",
       "      <td>0</td>\n",
       "      <td>0</td>\n",
       "      <td>0</td>\n",
       "      <td>0</td>\n",
       "      <td>0</td>\n",
       "      <td>0</td>\n",
       "      <td>0</td>\n",
       "      <td>30</td>\n",
       "    </tr>\n",
       "    <tr>\n",
       "      <th>23</th>\n",
       "      <td>Malaria</td>\n",
       "      <td>0</td>\n",
       "      <td>0</td>\n",
       "      <td>114</td>\n",
       "      <td>0</td>\n",
       "      <td>0</td>\n",
       "      <td>0</td>\n",
       "      <td>0</td>\n",
       "      <td>0</td>\n",
       "      <td>0</td>\n",
       "      <td>...</td>\n",
       "      <td>0</td>\n",
       "      <td>0</td>\n",
       "      <td>0</td>\n",
       "      <td>0</td>\n",
       "      <td>0</td>\n",
       "      <td>0</td>\n",
       "      <td>0</td>\n",
       "      <td>0</td>\n",
       "      <td>0</td>\n",
       "      <td>0</td>\n",
       "    </tr>\n",
       "    <tr>\n",
       "      <th>24</th>\n",
       "      <td>Migraine</td>\n",
       "      <td>114</td>\n",
       "      <td>0</td>\n",
       "      <td>0</td>\n",
       "      <td>0</td>\n",
       "      <td>0</td>\n",
       "      <td>0</td>\n",
       "      <td>0</td>\n",
       "      <td>0</td>\n",
       "      <td>0</td>\n",
       "      <td>...</td>\n",
       "      <td>0</td>\n",
       "      <td>30</td>\n",
       "      <td>0</td>\n",
       "      <td>0</td>\n",
       "      <td>0</td>\n",
       "      <td>0</td>\n",
       "      <td>0</td>\n",
       "      <td>0</td>\n",
       "      <td>0</td>\n",
       "      <td>0</td>\n",
       "    </tr>\n",
       "    <tr>\n",
       "      <th>25</th>\n",
       "      <td>Osteoarthristis</td>\n",
       "      <td>0</td>\n",
       "      <td>0</td>\n",
       "      <td>0</td>\n",
       "      <td>0</td>\n",
       "      <td>0</td>\n",
       "      <td>0</td>\n",
       "      <td>0</td>\n",
       "      <td>0</td>\n",
       "      <td>0</td>\n",
       "      <td>...</td>\n",
       "      <td>0</td>\n",
       "      <td>0</td>\n",
       "      <td>0</td>\n",
       "      <td>90</td>\n",
       "      <td>0</td>\n",
       "      <td>0</td>\n",
       "      <td>0</td>\n",
       "      <td>0</td>\n",
       "      <td>0</td>\n",
       "      <td>0</td>\n",
       "    </tr>\n",
       "    <tr>\n",
       "      <th>26</th>\n",
       "      <td>Peptic ulcer diseae</td>\n",
       "      <td>0</td>\n",
       "      <td>0</td>\n",
       "      <td>0</td>\n",
       "      <td>0</td>\n",
       "      <td>0</td>\n",
       "      <td>0</td>\n",
       "      <td>0</td>\n",
       "      <td>0</td>\n",
       "      <td>0</td>\n",
       "      <td>...</td>\n",
       "      <td>0</td>\n",
       "      <td>0</td>\n",
       "      <td>0</td>\n",
       "      <td>0</td>\n",
       "      <td>0</td>\n",
       "      <td>0</td>\n",
       "      <td>0</td>\n",
       "      <td>0</td>\n",
       "      <td>0</td>\n",
       "      <td>0</td>\n",
       "    </tr>\n",
       "    <tr>\n",
       "      <th>27</th>\n",
       "      <td>Pneumonia</td>\n",
       "      <td>0</td>\n",
       "      <td>0</td>\n",
       "      <td>114</td>\n",
       "      <td>0</td>\n",
       "      <td>0</td>\n",
       "      <td>0</td>\n",
       "      <td>0</td>\n",
       "      <td>6</td>\n",
       "      <td>0</td>\n",
       "      <td>...</td>\n",
       "      <td>0</td>\n",
       "      <td>0</td>\n",
       "      <td>30</td>\n",
       "      <td>0</td>\n",
       "      <td>0</td>\n",
       "      <td>0</td>\n",
       "      <td>0</td>\n",
       "      <td>0</td>\n",
       "      <td>0</td>\n",
       "      <td>0</td>\n",
       "    </tr>\n",
       "    <tr>\n",
       "      <th>28</th>\n",
       "      <td>Psoriasis</td>\n",
       "      <td>0</td>\n",
       "      <td>0</td>\n",
       "      <td>0</td>\n",
       "      <td>0</td>\n",
       "      <td>0</td>\n",
       "      <td>0</td>\n",
       "      <td>0</td>\n",
       "      <td>0</td>\n",
       "      <td>0</td>\n",
       "      <td>...</td>\n",
       "      <td>0</td>\n",
       "      <td>0</td>\n",
       "      <td>0</td>\n",
       "      <td>0</td>\n",
       "      <td>0</td>\n",
       "      <td>0</td>\n",
       "      <td>0</td>\n",
       "      <td>0</td>\n",
       "      <td>0</td>\n",
       "      <td>0</td>\n",
       "    </tr>\n",
       "    <tr>\n",
       "      <th>29</th>\n",
       "      <td>Tuberculosis</td>\n",
       "      <td>0</td>\n",
       "      <td>0</td>\n",
       "      <td>114</td>\n",
       "      <td>0</td>\n",
       "      <td>0</td>\n",
       "      <td>0</td>\n",
       "      <td>0</td>\n",
       "      <td>0</td>\n",
       "      <td>0</td>\n",
       "      <td>...</td>\n",
       "      <td>0</td>\n",
       "      <td>0</td>\n",
       "      <td>0</td>\n",
       "      <td>0</td>\n",
       "      <td>0</td>\n",
       "      <td>0</td>\n",
       "      <td>0</td>\n",
       "      <td>0</td>\n",
       "      <td>0</td>\n",
       "      <td>0</td>\n",
       "    </tr>\n",
       "    <tr>\n",
       "      <th>30</th>\n",
       "      <td>Typhoid</td>\n",
       "      <td>0</td>\n",
       "      <td>0</td>\n",
       "      <td>120</td>\n",
       "      <td>0</td>\n",
       "      <td>0</td>\n",
       "      <td>0</td>\n",
       "      <td>0</td>\n",
       "      <td>0</td>\n",
       "      <td>0</td>\n",
       "      <td>...</td>\n",
       "      <td>0</td>\n",
       "      <td>0</td>\n",
       "      <td>0</td>\n",
       "      <td>0</td>\n",
       "      <td>0</td>\n",
       "      <td>0</td>\n",
       "      <td>0</td>\n",
       "      <td>0</td>\n",
       "      <td>0</td>\n",
       "      <td>0</td>\n",
       "    </tr>\n",
       "    <tr>\n",
       "      <th>31</th>\n",
       "      <td>Varicose veins</td>\n",
       "      <td>0</td>\n",
       "      <td>0</td>\n",
       "      <td>0</td>\n",
       "      <td>0</td>\n",
       "      <td>0</td>\n",
       "      <td>0</td>\n",
       "      <td>6</td>\n",
       "      <td>114</td>\n",
       "      <td>0</td>\n",
       "      <td>...</td>\n",
       "      <td>0</td>\n",
       "      <td>0</td>\n",
       "      <td>0</td>\n",
       "      <td>0</td>\n",
       "      <td>30</td>\n",
       "      <td>90</td>\n",
       "      <td>0</td>\n",
       "      <td>0</td>\n",
       "      <td>0</td>\n",
       "      <td>0</td>\n",
       "    </tr>\n",
       "    <tr>\n",
       "      <th>32</th>\n",
       "      <td>hepatitis A</td>\n",
       "      <td>0</td>\n",
       "      <td>0</td>\n",
       "      <td>0</td>\n",
       "      <td>0</td>\n",
       "      <td>0</td>\n",
       "      <td>0</td>\n",
       "      <td>0</td>\n",
       "      <td>0</td>\n",
       "      <td>0</td>\n",
       "      <td>...</td>\n",
       "      <td>0</td>\n",
       "      <td>0</td>\n",
       "      <td>0</td>\n",
       "      <td>0</td>\n",
       "      <td>0</td>\n",
       "      <td>0</td>\n",
       "      <td>0</td>\n",
       "      <td>0</td>\n",
       "      <td>0</td>\n",
       "      <td>0</td>\n",
       "    </tr>\n",
       "  </tbody>\n",
       "</table>\n",
       "<p>33 rows × 163 columns</p>\n",
       "</div>"
      ],
      "text/plain": [
       "                                    Disease  Symptom_1_ acidity  \\\n",
       "0   (vertigo) Paroymsal  Positional Vertigo                   0   \n",
       "1                       Alcoholic hepatitis                   0   \n",
       "2                                 Arthritis                   0   \n",
       "3                          Bronchial Asthma                   0   \n",
       "4                      Cervical spondylosis                   0   \n",
       "5                               Chicken pox                   0   \n",
       "6                       Chronic cholestasis                   0   \n",
       "7                               Common Cold                   0   \n",
       "8                                    Dengue                   0   \n",
       "9                                 Diabetes                    0   \n",
       "10             Dimorphic hemmorhoids(piles)                   0   \n",
       "11                            Drug Reaction                   0   \n",
       "12                                     GERD                   6   \n",
       "13                              Hepatitis B                   0   \n",
       "14                              Hepatitis C                   0   \n",
       "15                              Hepatitis D                   0   \n",
       "16                              Hepatitis E                   0   \n",
       "17                            Hypertension                    0   \n",
       "18                          Hyperthyroidism                   0   \n",
       "19                             Hypoglycemia                   0   \n",
       "20                           Hypothyroidism                   0   \n",
       "21                                 Impetigo                   0   \n",
       "22                                 Jaundice                   0   \n",
       "23                                  Malaria                   0   \n",
       "24                                 Migraine                 114   \n",
       "25                          Osteoarthristis                   0   \n",
       "26                      Peptic ulcer diseae                   0   \n",
       "27                                Pneumonia                   0   \n",
       "28                                Psoriasis                   0   \n",
       "29                             Tuberculosis                   0   \n",
       "30                                  Typhoid                   0   \n",
       "31                           Varicose veins                   0   \n",
       "32                              hepatitis A                   0   \n",
       "\n",
       "    Symptom_1_ back_pain  Symptom_1_ chills  Symptom_1_ constipation  \\\n",
       "0                      0                  0                        0   \n",
       "1                      0                  0                        0   \n",
       "2                      0                  0                        0   \n",
       "3                      0                  0                        0   \n",
       "4                     78                  0                        0   \n",
       "5                      0                  0                        0   \n",
       "6                      0                  0                        0   \n",
       "7                      0                  6                        0   \n",
       "8                      0                  6                        0   \n",
       "9                      0                  0                        0   \n",
       "10                     0                  0                       90   \n",
       "11                     0                  0                        0   \n",
       "12                     0                  0                        0   \n",
       "13                     0                  0                        0   \n",
       "14                     0                  0                        0   \n",
       "15                     0                  0                        0   \n",
       "16                     0                  0                        0   \n",
       "17                     0                  0                        0   \n",
       "18                     0                  0                        0   \n",
       "19                     0                  0                        0   \n",
       "20                     0                  0                        0   \n",
       "21                     0                  0                        0   \n",
       "22                     0                  0                        0   \n",
       "23                     0                114                        0   \n",
       "24                     0                  0                        0   \n",
       "25                     0                  0                        0   \n",
       "26                     0                  0                        0   \n",
       "27                     0                114                        0   \n",
       "28                     0                  0                        0   \n",
       "29                     0                114                        0   \n",
       "30                     0                120                        0   \n",
       "31                     0                  0                        0   \n",
       "32                     0                  0                        0   \n",
       "\n",
       "    Symptom_1_ continuous_sneezing  Symptom_1_ cough  Symptom_1_ cramps  \\\n",
       "0                                0                 0                  0   \n",
       "1                                0                 0                  0   \n",
       "2                                0                 0                  0   \n",
       "3                                0                12                  0   \n",
       "4                                0                 0                  0   \n",
       "5                                0                 0                  0   \n",
       "6                                0                 0                  0   \n",
       "7                              114                 0                  0   \n",
       "8                                0                 0                  0   \n",
       "9                                0                 0                  0   \n",
       "10                               0                 0                  0   \n",
       "11                               0                 0                  0   \n",
       "12                               0                 0                  0   \n",
       "13                               0                 0                  0   \n",
       "14                               0                 0                  0   \n",
       "15                               0                 0                  0   \n",
       "16                               0                 0                  0   \n",
       "17                               0                 0                  0   \n",
       "18                               0                 0                  0   \n",
       "19                               0                 0                  0   \n",
       "20                               0                 0                  0   \n",
       "21                               0                 0                  0   \n",
       "22                               0                 0                  0   \n",
       "23                               0                 0                  0   \n",
       "24                               0                 0                  0   \n",
       "25                               0                 0                  0   \n",
       "26                               0                 0                  0   \n",
       "27                               0                 0                  0   \n",
       "28                               0                 0                  0   \n",
       "29                               0                 0                  0   \n",
       "30                               0                 0                  0   \n",
       "31                               0                 0                  6   \n",
       "32                               0                 0                  0   \n",
       "\n",
       "    Symptom_1_ fatigue  Symptom_1_ headache  ...  \\\n",
       "0                    0                    6  ...   \n",
       "1                    0                    0  ...   \n",
       "2                    0                    0  ...   \n",
       "3                  108                    0  ...   \n",
       "4                    0                    0  ...   \n",
       "5                    0                    0  ...   \n",
       "6                    0                    0  ...   \n",
       "7                    0                    0  ...   \n",
       "8                    0                    0  ...   \n",
       "9                  114                    0  ...   \n",
       "10                   0                    0  ...   \n",
       "11                   0                    0  ...   \n",
       "12                   0                    0  ...   \n",
       "13                   6                    0  ...   \n",
       "14                 114                    0  ...   \n",
       "15                   0                    0  ...   \n",
       "16                   0                    0  ...   \n",
       "17                   0                   72  ...   \n",
       "18                 114                    0  ...   \n",
       "19                   6                    0  ...   \n",
       "20                 108                    0  ...   \n",
       "21                   0                    0  ...   \n",
       "22                   0                    0  ...   \n",
       "23                   0                    0  ...   \n",
       "24                   0                    0  ...   \n",
       "25                   0                    0  ...   \n",
       "26                   0                    0  ...   \n",
       "27                   6                    0  ...   \n",
       "28                   0                    0  ...   \n",
       "29                   0                    0  ...   \n",
       "30                   0                    0  ...   \n",
       "31                 114                    0  ...   \n",
       "32                   0                    0  ...   \n",
       "\n",
       "    Symptom_5_ spotting_ urination  Symptom_5_ stiff_neck  \\\n",
       "0                                0                      0   \n",
       "1                                0                      0   \n",
       "2                                0                      0   \n",
       "3                                0                      0   \n",
       "4                                0                      0   \n",
       "5                                0                      0   \n",
       "6                                0                      0   \n",
       "7                                0                      0   \n",
       "8                                0                      0   \n",
       "9                                0                      0   \n",
       "10                               0                      0   \n",
       "11                              66                      0   \n",
       "12                               0                      0   \n",
       "13                               0                      0   \n",
       "14                               0                      0   \n",
       "15                               0                      0   \n",
       "16                               0                      0   \n",
       "17                               0                      0   \n",
       "18                               0                      0   \n",
       "19                               0                      0   \n",
       "20                               0                      0   \n",
       "21                               0                      0   \n",
       "22                               0                      0   \n",
       "23                               0                      0   \n",
       "24                               0                     30   \n",
       "25                               0                      0   \n",
       "26                               0                      0   \n",
       "27                               0                      0   \n",
       "28                               0                      0   \n",
       "29                               0                      0   \n",
       "30                               0                      0   \n",
       "31                               0                      0   \n",
       "32                               0                      0   \n",
       "\n",
       "    Symptom_5_ sweating  Symptom_5_ swelling_joints  \\\n",
       "0                     0                           0   \n",
       "1                     0                           0   \n",
       "2                     0                           0   \n",
       "3                     0                           0   \n",
       "4                     0                           0   \n",
       "5                     0                           0   \n",
       "6                     0                           0   \n",
       "7                     0                           0   \n",
       "8                     0                           0   \n",
       "9                     0                           0   \n",
       "10                    0                           0   \n",
       "11                    0                           0   \n",
       "12                    0                           0   \n",
       "13                    0                           0   \n",
       "14                    0                           0   \n",
       "15                    0                           0   \n",
       "16                    0                           0   \n",
       "17                    0                           0   \n",
       "18                   90                           0   \n",
       "19                    0                           0   \n",
       "20                    0                           0   \n",
       "21                    0                           0   \n",
       "22                    0                           0   \n",
       "23                    0                           0   \n",
       "24                    0                           0   \n",
       "25                    0                          90   \n",
       "26                    0                           0   \n",
       "27                   30                           0   \n",
       "28                    0                           0   \n",
       "29                    0                           0   \n",
       "30                    0                           0   \n",
       "31                    0                           0   \n",
       "32                    0                           0   \n",
       "\n",
       "    Symptom_5_ swollen_blood_vessels  Symptom_5_ swollen_legs  \\\n",
       "0                                  0                        0   \n",
       "1                                  0                        0   \n",
       "2                                  0                        0   \n",
       "3                                  0                        0   \n",
       "4                                  0                        0   \n",
       "5                                  0                        0   \n",
       "6                                  0                        0   \n",
       "7                                  0                        0   \n",
       "8                                  0                        0   \n",
       "9                                  0                        0   \n",
       "10                                 0                        0   \n",
       "11                                 0                        0   \n",
       "12                                 0                        0   \n",
       "13                                 0                        0   \n",
       "14                                 0                        0   \n",
       "15                                 0                        0   \n",
       "16                                 0                        0   \n",
       "17                                 0                        0   \n",
       "18                                 0                        0   \n",
       "19                                 0                        0   \n",
       "20                                 0                        0   \n",
       "21                                 0                        0   \n",
       "22                                 0                        0   \n",
       "23                                 0                        0   \n",
       "24                                 0                        0   \n",
       "25                                 0                        0   \n",
       "26                                 0                        0   \n",
       "27                                 0                        0   \n",
       "28                                 0                        0   \n",
       "29                                 0                        0   \n",
       "30                                 0                        0   \n",
       "31                                30                       90   \n",
       "32                                 0                        0   \n",
       "\n",
       "    Symptom_5_ unsteadiness  Symptom_5_ yellow_crust_ooze  \\\n",
       "0                        36                             0   \n",
       "1                         0                             0   \n",
       "2                         0                             0   \n",
       "3                         0                             0   \n",
       "4                         0                             0   \n",
       "5                         0                             0   \n",
       "6                         0                             0   \n",
       "7                         0                             0   \n",
       "8                         0                             0   \n",
       "9                         0                             0   \n",
       "10                        0                             0   \n",
       "11                        0                             0   \n",
       "12                        0                             0   \n",
       "13                        0                             0   \n",
       "14                        0                             0   \n",
       "15                        0                             0   \n",
       "16                        0                             0   \n",
       "17                        0                             0   \n",
       "18                        0                             0   \n",
       "19                        0                             0   \n",
       "20                        0                             0   \n",
       "21                        0                            78   \n",
       "22                        0                             0   \n",
       "23                        0                             0   \n",
       "24                        0                             0   \n",
       "25                        0                             0   \n",
       "26                        0                             0   \n",
       "27                        0                             0   \n",
       "28                        0                             0   \n",
       "29                        0                             0   \n",
       "30                        0                             0   \n",
       "31                        0                             0   \n",
       "32                        0                             0   \n",
       "\n",
       "    Symptom_5_ yellowing_of_eyes  Symptom_5_ yellowish_skin  \n",
       "0                              0                          0  \n",
       "1                              0                          0  \n",
       "2                              0                          0  \n",
       "3                              0                          0  \n",
       "4                              0                          0  \n",
       "5                              0                          0  \n",
       "6                              0                          0  \n",
       "7                              0                          0  \n",
       "8                              0                          0  \n",
       "9                              0                          0  \n",
       "10                             0                          0  \n",
       "11                             0                          0  \n",
       "12                             0                          0  \n",
       "13                             0                          0  \n",
       "14                            84                          0  \n",
       "15                             0                          0  \n",
       "16                             0                         90  \n",
       "17                             0                          0  \n",
       "18                             0                          0  \n",
       "19                             0                          0  \n",
       "20                             0                          0  \n",
       "21                             0                          0  \n",
       "22                             0                         30  \n",
       "23                             0                          0  \n",
       "24                             0                          0  \n",
       "25                             0                          0  \n",
       "26                             0                          0  \n",
       "27                             0                          0  \n",
       "28                             0                          0  \n",
       "29                             0                          0  \n",
       "30                             0                          0  \n",
       "31                             0                          0  \n",
       "32                             0                          0  \n",
       "\n",
       "[33 rows x 163 columns]"
      ]
     },
     "execution_count": 23,
     "metadata": {},
     "output_type": "execute_result"
    }
   ],
   "source": [
    "#Grouping rows by diseases and making them numeric\n",
    "encoder = LabelEncoder()\n",
    "grouped_df = new_data.groupby('Disease').sum().reset_index()         #grouping data by diseases to get the total times the symptom appears in a disease\n",
    "P_data = grouped_df.sort_values('Disease', ascending=True)\n",
    "P_data['Disease'] = encoder.fit_transform(P_data['Disease'])\n",
    "P_data"
   ]
  },
  {
   "cell_type": "code",
   "execution_count": 6,
   "id": "eec7f4cf-38f0-455b-ad44-f7b4c83ed070",
   "metadata": {},
   "outputs": [
    {
     "data": {
      "text/html": [
       "<div>\n",
       "<style scoped>\n",
       "    .dataframe tbody tr th:only-of-type {\n",
       "        vertical-align: middle;\n",
       "    }\n",
       "\n",
       "    .dataframe tbody tr th {\n",
       "        vertical-align: top;\n",
       "    }\n",
       "\n",
       "    .dataframe thead th {\n",
       "        text-align: right;\n",
       "    }\n",
       "</style>\n",
       "<table border=\"1\" class=\"dataframe\">\n",
       "  <thead>\n",
       "    <tr style=\"text-align: right;\">\n",
       "      <th></th>\n",
       "      <th>Disease</th>\n",
       "      <th>Symptom_1</th>\n",
       "      <th>Symptom_2</th>\n",
       "      <th>Symptom_3</th>\n",
       "      <th>Symptom_4</th>\n",
       "      <th>Symptom_5</th>\n",
       "    </tr>\n",
       "  </thead>\n",
       "  <tbody>\n",
       "    <tr>\n",
       "      <th>20</th>\n",
       "      <td>12</td>\n",
       "      <td>15</td>\n",
       "      <td>1</td>\n",
       "      <td>31</td>\n",
       "      <td>33</td>\n",
       "      <td>4</td>\n",
       "    </tr>\n",
       "    <tr>\n",
       "      <th>21</th>\n",
       "      <td>12</td>\n",
       "      <td>15</td>\n",
       "      <td>25</td>\n",
       "      <td>32</td>\n",
       "      <td>5</td>\n",
       "      <td>3</td>\n",
       "    </tr>\n",
       "    <tr>\n",
       "      <th>22</th>\n",
       "      <td>12</td>\n",
       "      <td>15</td>\n",
       "      <td>1</td>\n",
       "      <td>32</td>\n",
       "      <td>5</td>\n",
       "      <td>3</td>\n",
       "    </tr>\n",
       "    <tr>\n",
       "      <th>23</th>\n",
       "      <td>12</td>\n",
       "      <td>15</td>\n",
       "      <td>1</td>\n",
       "      <td>31</td>\n",
       "      <td>5</td>\n",
       "      <td>3</td>\n",
       "    </tr>\n",
       "    <tr>\n",
       "      <th>24</th>\n",
       "      <td>12</td>\n",
       "      <td>15</td>\n",
       "      <td>1</td>\n",
       "      <td>31</td>\n",
       "      <td>33</td>\n",
       "      <td>3</td>\n",
       "    </tr>\n",
       "    <tr>\n",
       "      <th>...</th>\n",
       "      <td>...</td>\n",
       "      <td>...</td>\n",
       "      <td>...</td>\n",
       "      <td>...</td>\n",
       "      <td>...</td>\n",
       "      <td>...</td>\n",
       "    </tr>\n",
       "    <tr>\n",
       "      <th>4913</th>\n",
       "      <td>25</td>\n",
       "      <td>10</td>\n",
       "      <td>19</td>\n",
       "      <td>15</td>\n",
       "      <td>14</td>\n",
       "      <td>31</td>\n",
       "    </tr>\n",
       "    <tr>\n",
       "      <th>4914</th>\n",
       "      <td>2</td>\n",
       "      <td>12</td>\n",
       "      <td>24</td>\n",
       "      <td>29</td>\n",
       "      <td>20</td>\n",
       "      <td>25</td>\n",
       "    </tr>\n",
       "    <tr>\n",
       "      <th>4915</th>\n",
       "      <td>0</td>\n",
       "      <td>16</td>\n",
       "      <td>10</td>\n",
       "      <td>19</td>\n",
       "      <td>28</td>\n",
       "      <td>22</td>\n",
       "    </tr>\n",
       "    <tr>\n",
       "      <th>4918</th>\n",
       "      <td>28</td>\n",
       "      <td>14</td>\n",
       "      <td>13</td>\n",
       "      <td>25</td>\n",
       "      <td>26</td>\n",
       "      <td>27</td>\n",
       "    </tr>\n",
       "    <tr>\n",
       "      <th>4919</th>\n",
       "      <td>21</td>\n",
       "      <td>14</td>\n",
       "      <td>11</td>\n",
       "      <td>2</td>\n",
       "      <td>24</td>\n",
       "      <td>35</td>\n",
       "    </tr>\n",
       "  </tbody>\n",
       "</table>\n",
       "<p>3714 rows × 6 columns</p>\n",
       "</div>"
      ],
      "text/plain": [
       "      Disease  Symptom_1  Symptom_2  Symptom_3  Symptom_4  Symptom_5\n",
       "20         12         15          1         31         33          4\n",
       "21         12         15         25         32          5          3\n",
       "22         12         15          1         32          5          3\n",
       "23         12         15          1         31          5          3\n",
       "24         12         15          1         31         33          3\n",
       "...       ...        ...        ...        ...        ...        ...\n",
       "4913       25         10         19         15         14         31\n",
       "4914        2         12         24         29         20         25\n",
       "4915        0         16         10         19         28         22\n",
       "4918       28         14         13         25         26         27\n",
       "4919       21         14         11          2         24         35\n",
       "\n",
       "[3714 rows x 6 columns]"
      ]
     },
     "execution_count": 6,
     "metadata": {},
     "output_type": "execute_result"
    }
   ],
   "source": [
    "#Making a New_data set which works with One label encoder to avoid over ftitting \n",
    "encoder = LabelEncoder()\n",
    "for i in data :\n",
    "    if (data[i].dtype == \"object\"):                                #if data[i] is object transform it into numeric\n",
    "        data[i] = encoder.fit_transform(data[i])\n",
    "data "
   ]
  },
  {
   "cell_type": "markdown",
   "id": "4b011aa4-d4d9-4d92-ab47-6eda3fd17962",
   "metadata": {},
   "source": [
    "# Data Vis"
   ]
  },
  {
   "cell_type": "code",
   "execution_count": 21,
   "id": "61bf54d2-f2d0-49c9-abe3-823c09364d27",
   "metadata": {},
   "outputs": [
    {
     "data": {
      "application/vnd.plotly.v1+json": {
       "config": {
        "plotlyServerURL": "https://plot.ly"
       },
       "data": [
        {
         "alignmentgroup": "True",
         "hovertemplate": "Disease=%{x}<br>Symptom_3_ breathlessness=%{y}<extra></extra>",
         "legendgroup": "(vertigo) Paroymsal  Positional Vertigo",
         "marker": {
          "color": "red",
          "line": {
           "color": "red",
           "width": 1.5
          },
          "opacity": 0.7,
          "pattern": {
           "shape": ""
          }
         },
         "name": "(vertigo) Paroymsal  Positional Vertigo",
         "offsetgroup": "(vertigo) Paroymsal  Positional Vertigo",
         "orientation": "v",
         "showlegend": true,
         "textposition": "auto",
         "type": "bar",
         "x": [
          "(vertigo) Paroymsal  Positional Vertigo"
         ],
         "xaxis": "x",
         "y": [
          0
         ],
         "yaxis": "y"
        },
        {
         "alignmentgroup": "True",
         "hovertemplate": "Disease=%{x}<br>Symptom_3_ breathlessness=%{y}<extra></extra>",
         "legendgroup": "Alcoholic hepatitis",
         "marker": {
          "color": "red",
          "line": {
           "color": "red",
           "width": 1.5
          },
          "opacity": 0.7,
          "pattern": {
           "shape": ""
          }
         },
         "name": "Alcoholic hepatitis",
         "offsetgroup": "Alcoholic hepatitis",
         "orientation": "v",
         "showlegend": true,
         "textposition": "auto",
         "type": "bar",
         "x": [
          "Alcoholic hepatitis"
         ],
         "xaxis": "x",
         "y": [
          0
         ],
         "yaxis": "y"
        },
        {
         "alignmentgroup": "True",
         "hovertemplate": "Disease=%{x}<br>Symptom_3_ breathlessness=%{y}<extra></extra>",
         "legendgroup": "Arthritis",
         "marker": {
          "color": "red",
          "line": {
           "color": "red",
           "width": 1.5
          },
          "opacity": 0.7,
          "pattern": {
           "shape": ""
          }
         },
         "name": "Arthritis",
         "offsetgroup": "Arthritis",
         "orientation": "v",
         "showlegend": true,
         "textposition": "auto",
         "type": "bar",
         "x": [
          "Arthritis"
         ],
         "xaxis": "x",
         "y": [
          0
         ],
         "yaxis": "y"
        },
        {
         "alignmentgroup": "True",
         "hovertemplate": "Disease=%{x}<br>Symptom_3_ breathlessness=%{y}<extra></extra>",
         "legendgroup": "Bronchial Asthma",
         "marker": {
          "color": "red",
          "line": {
           "color": "red",
           "width": 1.5
          },
          "opacity": 0.7,
          "pattern": {
           "shape": ""
          }
         },
         "name": "Bronchial Asthma",
         "offsetgroup": "Bronchial Asthma",
         "orientation": "v",
         "showlegend": true,
         "textposition": "auto",
         "type": "bar",
         "x": [
          "Bronchial Asthma"
         ],
         "xaxis": "x",
         "y": [
          30
         ],
         "yaxis": "y"
        },
        {
         "alignmentgroup": "True",
         "hovertemplate": "Disease=%{x}<br>Symptom_3_ breathlessness=%{y}<extra></extra>",
         "legendgroup": "Cervical spondylosis",
         "marker": {
          "color": "red",
          "line": {
           "color": "red",
           "width": 1.5
          },
          "opacity": 0.7,
          "pattern": {
           "shape": ""
          }
         },
         "name": "Cervical spondylosis",
         "offsetgroup": "Cervical spondylosis",
         "orientation": "v",
         "showlegend": true,
         "textposition": "auto",
         "type": "bar",
         "x": [
          "Cervical spondylosis"
         ],
         "xaxis": "x",
         "y": [
          0
         ],
         "yaxis": "y"
        },
        {
         "alignmentgroup": "True",
         "hovertemplate": "Disease=%{x}<br>Symptom_3_ breathlessness=%{y}<extra></extra>",
         "legendgroup": "Chicken pox",
         "marker": {
          "color": "red",
          "line": {
           "color": "red",
           "width": 1.5
          },
          "opacity": 0.7,
          "pattern": {
           "shape": ""
          }
         },
         "name": "Chicken pox",
         "offsetgroup": "Chicken pox",
         "orientation": "v",
         "showlegend": true,
         "textposition": "auto",
         "type": "bar",
         "x": [
          "Chicken pox"
         ],
         "xaxis": "x",
         "y": [
          0
         ],
         "yaxis": "y"
        },
        {
         "alignmentgroup": "True",
         "hovertemplate": "Disease=%{x}<br>Symptom_3_ breathlessness=%{y}<extra></extra>",
         "legendgroup": "Chronic cholestasis",
         "marker": {
          "color": "red",
          "line": {
           "color": "red",
           "width": 1.5
          },
          "opacity": 0.7,
          "pattern": {
           "shape": ""
          }
         },
         "name": "Chronic cholestasis",
         "offsetgroup": "Chronic cholestasis",
         "orientation": "v",
         "showlegend": true,
         "textposition": "auto",
         "type": "bar",
         "x": [
          "Chronic cholestasis"
         ],
         "xaxis": "x",
         "y": [
          0
         ],
         "yaxis": "y"
        },
        {
         "alignmentgroup": "True",
         "hovertemplate": "Disease=%{x}<br>Symptom_3_ breathlessness=%{y}<extra></extra>",
         "legendgroup": "Common Cold",
         "marker": {
          "color": "red",
          "line": {
           "color": "red",
           "width": 1.5
          },
          "opacity": 0.7,
          "pattern": {
           "shape": ""
          }
         },
         "name": "Common Cold",
         "offsetgroup": "Common Cold",
         "orientation": "v",
         "showlegend": true,
         "textposition": "auto",
         "type": "bar",
         "x": [
          "Common Cold"
         ],
         "xaxis": "x",
         "y": [
          0
         ],
         "yaxis": "y"
        },
        {
         "alignmentgroup": "True",
         "hovertemplate": "Disease=%{x}<br>Symptom_3_ breathlessness=%{y}<extra></extra>",
         "legendgroup": "Dengue",
         "marker": {
          "color": "red",
          "line": {
           "color": "red",
           "width": 1.5
          },
          "opacity": 0.7,
          "pattern": {
           "shape": ""
          }
         },
         "name": "Dengue",
         "offsetgroup": "Dengue",
         "orientation": "v",
         "showlegend": true,
         "textposition": "auto",
         "type": "bar",
         "x": [
          "Dengue"
         ],
         "xaxis": "x",
         "y": [
          0
         ],
         "yaxis": "y"
        },
        {
         "alignmentgroup": "True",
         "hovertemplate": "Disease=%{x}<br>Symptom_3_ breathlessness=%{y}<extra></extra>",
         "legendgroup": "Diabetes ",
         "marker": {
          "color": "red",
          "line": {
           "color": "red",
           "width": 1.5
          },
          "opacity": 0.7,
          "pattern": {
           "shape": ""
          }
         },
         "name": "Diabetes ",
         "offsetgroup": "Diabetes ",
         "orientation": "v",
         "showlegend": true,
         "textposition": "auto",
         "type": "bar",
         "x": [
          "Diabetes "
         ],
         "xaxis": "x",
         "y": [
          0
         ],
         "yaxis": "y"
        },
        {
         "alignmentgroup": "True",
         "hovertemplate": "Disease=%{x}<br>Symptom_3_ breathlessness=%{y}<extra></extra>",
         "legendgroup": "Dimorphic hemmorhoids(piles)",
         "marker": {
          "color": "red",
          "line": {
           "color": "red",
           "width": 1.5
          },
          "opacity": 0.7,
          "pattern": {
           "shape": ""
          }
         },
         "name": "Dimorphic hemmorhoids(piles)",
         "offsetgroup": "Dimorphic hemmorhoids(piles)",
         "orientation": "v",
         "showlegend": true,
         "textposition": "auto",
         "type": "bar",
         "x": [
          "Dimorphic hemmorhoids(piles)"
         ],
         "xaxis": "x",
         "y": [
          0
         ],
         "yaxis": "y"
        },
        {
         "alignmentgroup": "True",
         "hovertemplate": "Disease=%{x}<br>Symptom_3_ breathlessness=%{y}<extra></extra>",
         "legendgroup": "Drug Reaction",
         "marker": {
          "color": "red",
          "line": {
           "color": "red",
           "width": 1.5
          },
          "opacity": 0.7,
          "pattern": {
           "shape": ""
          }
         },
         "name": "Drug Reaction",
         "offsetgroup": "Drug Reaction",
         "orientation": "v",
         "showlegend": true,
         "textposition": "auto",
         "type": "bar",
         "x": [
          "Drug Reaction"
         ],
         "xaxis": "x",
         "y": [
          0
         ],
         "yaxis": "y"
        },
        {
         "alignmentgroup": "True",
         "hovertemplate": "Disease=%{x}<br>Symptom_3_ breathlessness=%{y}<extra></extra>",
         "legendgroup": "GERD",
         "marker": {
          "color": "red",
          "line": {
           "color": "red",
           "width": 1.5
          },
          "opacity": 0.7,
          "pattern": {
           "shape": ""
          }
         },
         "name": "GERD",
         "offsetgroup": "GERD",
         "orientation": "v",
         "showlegend": true,
         "textposition": "auto",
         "type": "bar",
         "x": [
          "GERD"
         ],
         "xaxis": "x",
         "y": [
          0
         ],
         "yaxis": "y"
        },
        {
         "alignmentgroup": "True",
         "hovertemplate": "Disease=%{x}<br>Symptom_3_ breathlessness=%{y}<extra></extra>",
         "legendgroup": "Hepatitis B",
         "marker": {
          "color": "red",
          "line": {
           "color": "red",
           "width": 1.5
          },
          "opacity": 0.7,
          "pattern": {
           "shape": ""
          }
         },
         "name": "Hepatitis B",
         "offsetgroup": "Hepatitis B",
         "orientation": "v",
         "showlegend": true,
         "textposition": "auto",
         "type": "bar",
         "x": [
          "Hepatitis B"
         ],
         "xaxis": "x",
         "y": [
          0
         ],
         "yaxis": "y"
        },
        {
         "alignmentgroup": "True",
         "hovertemplate": "Disease=%{x}<br>Symptom_3_ breathlessness=%{y}<extra></extra>",
         "legendgroup": "Hepatitis C",
         "marker": {
          "color": "red",
          "line": {
           "color": "red",
           "width": 1.5
          },
          "opacity": 0.7,
          "pattern": {
           "shape": ""
          }
         },
         "name": "Hepatitis C",
         "offsetgroup": "Hepatitis C",
         "orientation": "v",
         "showlegend": true,
         "textposition": "auto",
         "type": "bar",
         "x": [
          "Hepatitis C"
         ],
         "xaxis": "x",
         "y": [
          0
         ],
         "yaxis": "y"
        },
        {
         "alignmentgroup": "True",
         "hovertemplate": "Disease=%{x}<br>Symptom_3_ breathlessness=%{y}<extra></extra>",
         "legendgroup": "Hepatitis D",
         "marker": {
          "color": "red",
          "line": {
           "color": "red",
           "width": 1.5
          },
          "opacity": 0.7,
          "pattern": {
           "shape": ""
          }
         },
         "name": "Hepatitis D",
         "offsetgroup": "Hepatitis D",
         "orientation": "v",
         "showlegend": true,
         "textposition": "auto",
         "type": "bar",
         "x": [
          "Hepatitis D"
         ],
         "xaxis": "x",
         "y": [
          0
         ],
         "yaxis": "y"
        },
        {
         "alignmentgroup": "True",
         "hovertemplate": "Disease=%{x}<br>Symptom_3_ breathlessness=%{y}<extra></extra>",
         "legendgroup": "Hepatitis E",
         "marker": {
          "color": "red",
          "line": {
           "color": "red",
           "width": 1.5
          },
          "opacity": 0.7,
          "pattern": {
           "shape": ""
          }
         },
         "name": "Hepatitis E",
         "offsetgroup": "Hepatitis E",
         "orientation": "v",
         "showlegend": true,
         "textposition": "auto",
         "type": "bar",
         "x": [
          "Hepatitis E"
         ],
         "xaxis": "x",
         "y": [
          0
         ],
         "yaxis": "y"
        },
        {
         "alignmentgroup": "True",
         "hovertemplate": "Disease=%{x}<br>Symptom_3_ breathlessness=%{y}<extra></extra>",
         "legendgroup": "Hypertension ",
         "marker": {
          "color": "red",
          "line": {
           "color": "red",
           "width": 1.5
          },
          "opacity": 0.7,
          "pattern": {
           "shape": ""
          }
         },
         "name": "Hypertension ",
         "offsetgroup": "Hypertension ",
         "orientation": "v",
         "showlegend": true,
         "textposition": "auto",
         "type": "bar",
         "x": [
          "Hypertension "
         ],
         "xaxis": "x",
         "y": [
          0
         ],
         "yaxis": "y"
        },
        {
         "alignmentgroup": "True",
         "hovertemplate": "Disease=%{x}<br>Symptom_3_ breathlessness=%{y}<extra></extra>",
         "legendgroup": "Hyperthyroidism",
         "marker": {
          "color": "red",
          "line": {
           "color": "red",
           "width": 1.5
          },
          "opacity": 0.7,
          "pattern": {
           "shape": ""
          }
         },
         "name": "Hyperthyroidism",
         "offsetgroup": "Hyperthyroidism",
         "orientation": "v",
         "showlegend": true,
         "textposition": "auto",
         "type": "bar",
         "x": [
          "Hyperthyroidism"
         ],
         "xaxis": "x",
         "y": [
          0
         ],
         "yaxis": "y"
        },
        {
         "alignmentgroup": "True",
         "hovertemplate": "Disease=%{x}<br>Symptom_3_ breathlessness=%{y}<extra></extra>",
         "legendgroup": "Hypoglycemia",
         "marker": {
          "color": "red",
          "line": {
           "color": "red",
           "width": 1.5
          },
          "opacity": 0.7,
          "pattern": {
           "shape": ""
          }
         },
         "name": "Hypoglycemia",
         "offsetgroup": "Hypoglycemia",
         "orientation": "v",
         "showlegend": true,
         "textposition": "auto",
         "type": "bar",
         "x": [
          "Hypoglycemia"
         ],
         "xaxis": "x",
         "y": [
          0
         ],
         "yaxis": "y"
        },
        {
         "alignmentgroup": "True",
         "hovertemplate": "Disease=%{x}<br>Symptom_3_ breathlessness=%{y}<extra></extra>",
         "legendgroup": "Hypothyroidism",
         "marker": {
          "color": "red",
          "line": {
           "color": "red",
           "width": 1.5
          },
          "opacity": 0.7,
          "pattern": {
           "shape": ""
          }
         },
         "name": "Hypothyroidism",
         "offsetgroup": "Hypothyroidism",
         "orientation": "v",
         "showlegend": true,
         "textposition": "auto",
         "type": "bar",
         "x": [
          "Hypothyroidism"
         ],
         "xaxis": "x",
         "y": [
          0
         ],
         "yaxis": "y"
        },
        {
         "alignmentgroup": "True",
         "hovertemplate": "Disease=%{x}<br>Symptom_3_ breathlessness=%{y}<extra></extra>",
         "legendgroup": "Impetigo",
         "marker": {
          "color": "red",
          "line": {
           "color": "red",
           "width": 1.5
          },
          "opacity": 0.7,
          "pattern": {
           "shape": ""
          }
         },
         "name": "Impetigo",
         "offsetgroup": "Impetigo",
         "orientation": "v",
         "showlegend": true,
         "textposition": "auto",
         "type": "bar",
         "x": [
          "Impetigo"
         ],
         "xaxis": "x",
         "y": [
          0
         ],
         "yaxis": "y"
        },
        {
         "alignmentgroup": "True",
         "hovertemplate": "Disease=%{x}<br>Symptom_3_ breathlessness=%{y}<extra></extra>",
         "legendgroup": "Jaundice",
         "marker": {
          "color": "red",
          "line": {
           "color": "red",
           "width": 1.5
          },
          "opacity": 0.7,
          "pattern": {
           "shape": ""
          }
         },
         "name": "Jaundice",
         "offsetgroup": "Jaundice",
         "orientation": "v",
         "showlegend": true,
         "textposition": "auto",
         "type": "bar",
         "x": [
          "Jaundice"
         ],
         "xaxis": "x",
         "y": [
          0
         ],
         "yaxis": "y"
        },
        {
         "alignmentgroup": "True",
         "hovertemplate": "Disease=%{x}<br>Symptom_3_ breathlessness=%{y}<extra></extra>",
         "legendgroup": "Malaria",
         "marker": {
          "color": "red",
          "line": {
           "color": "red",
           "width": 1.5
          },
          "opacity": 0.7,
          "pattern": {
           "shape": ""
          }
         },
         "name": "Malaria",
         "offsetgroup": "Malaria",
         "orientation": "v",
         "showlegend": true,
         "textposition": "auto",
         "type": "bar",
         "x": [
          "Malaria"
         ],
         "xaxis": "x",
         "y": [
          0
         ],
         "yaxis": "y"
        },
        {
         "alignmentgroup": "True",
         "hovertemplate": "Disease=%{x}<br>Symptom_3_ breathlessness=%{y}<extra></extra>",
         "legendgroup": "Migraine",
         "marker": {
          "color": "red",
          "line": {
           "color": "red",
           "width": 1.5
          },
          "opacity": 0.7,
          "pattern": {
           "shape": ""
          }
         },
         "name": "Migraine",
         "offsetgroup": "Migraine",
         "orientation": "v",
         "showlegend": true,
         "textposition": "auto",
         "type": "bar",
         "x": [
          "Migraine"
         ],
         "xaxis": "x",
         "y": [
          0
         ],
         "yaxis": "y"
        },
        {
         "alignmentgroup": "True",
         "hovertemplate": "Disease=%{x}<br>Symptom_3_ breathlessness=%{y}<extra></extra>",
         "legendgroup": "Osteoarthristis",
         "marker": {
          "color": "red",
          "line": {
           "color": "red",
           "width": 1.5
          },
          "opacity": 0.7,
          "pattern": {
           "shape": ""
          }
         },
         "name": "Osteoarthristis",
         "offsetgroup": "Osteoarthristis",
         "orientation": "v",
         "showlegend": true,
         "textposition": "auto",
         "type": "bar",
         "x": [
          "Osteoarthristis"
         ],
         "xaxis": "x",
         "y": [
          0
         ],
         "yaxis": "y"
        },
        {
         "alignmentgroup": "True",
         "hovertemplate": "Disease=%{x}<br>Symptom_3_ breathlessness=%{y}<extra></extra>",
         "legendgroup": "Peptic ulcer diseae",
         "marker": {
          "color": "red",
          "line": {
           "color": "red",
           "width": 1.5
          },
          "opacity": 0.7,
          "pattern": {
           "shape": ""
          }
         },
         "name": "Peptic ulcer diseae",
         "offsetgroup": "Peptic ulcer diseae",
         "orientation": "v",
         "showlegend": true,
         "textposition": "auto",
         "type": "bar",
         "x": [
          "Peptic ulcer diseae"
         ],
         "xaxis": "x",
         "y": [
          0
         ],
         "yaxis": "y"
        },
        {
         "alignmentgroup": "True",
         "hovertemplate": "Disease=%{x}<br>Symptom_3_ breathlessness=%{y}<extra></extra>",
         "legendgroup": "Pneumonia",
         "marker": {
          "color": "red",
          "line": {
           "color": "red",
           "width": 1.5
          },
          "opacity": 0.7,
          "pattern": {
           "shape": ""
          }
         },
         "name": "Pneumonia",
         "offsetgroup": "Pneumonia",
         "orientation": "v",
         "showlegend": true,
         "textposition": "auto",
         "type": "bar",
         "x": [
          "Pneumonia"
         ],
         "xaxis": "x",
         "y": [
          0
         ],
         "yaxis": "y"
        },
        {
         "alignmentgroup": "True",
         "hovertemplate": "Disease=%{x}<br>Symptom_3_ breathlessness=%{y}<extra></extra>",
         "legendgroup": "Psoriasis",
         "marker": {
          "color": "red",
          "line": {
           "color": "red",
           "width": 1.5
          },
          "opacity": 0.7,
          "pattern": {
           "shape": ""
          }
         },
         "name": "Psoriasis",
         "offsetgroup": "Psoriasis",
         "orientation": "v",
         "showlegend": true,
         "textposition": "auto",
         "type": "bar",
         "x": [
          "Psoriasis"
         ],
         "xaxis": "x",
         "y": [
          0
         ],
         "yaxis": "y"
        },
        {
         "alignmentgroup": "True",
         "hovertemplate": "Disease=%{x}<br>Symptom_3_ breathlessness=%{y}<extra></extra>",
         "legendgroup": "Tuberculosis",
         "marker": {
          "color": "red",
          "line": {
           "color": "red",
           "width": 1.5
          },
          "opacity": 0.7,
          "pattern": {
           "shape": ""
          }
         },
         "name": "Tuberculosis",
         "offsetgroup": "Tuberculosis",
         "orientation": "v",
         "showlegend": true,
         "textposition": "auto",
         "type": "bar",
         "x": [
          "Tuberculosis"
         ],
         "xaxis": "x",
         "y": [
          0
         ],
         "yaxis": "y"
        },
        {
         "alignmentgroup": "True",
         "hovertemplate": "Disease=%{x}<br>Symptom_3_ breathlessness=%{y}<extra></extra>",
         "legendgroup": "Typhoid",
         "marker": {
          "color": "red",
          "line": {
           "color": "red",
           "width": 1.5
          },
          "opacity": 0.7,
          "pattern": {
           "shape": ""
          }
         },
         "name": "Typhoid",
         "offsetgroup": "Typhoid",
         "orientation": "v",
         "showlegend": true,
         "textposition": "auto",
         "type": "bar",
         "x": [
          "Typhoid"
         ],
         "xaxis": "x",
         "y": [
          0
         ],
         "yaxis": "y"
        },
        {
         "alignmentgroup": "True",
         "hovertemplate": "Disease=%{x}<br>Symptom_3_ breathlessness=%{y}<extra></extra>",
         "legendgroup": "Varicose veins",
         "marker": {
          "color": "red",
          "line": {
           "color": "red",
           "width": 1.5
          },
          "opacity": 0.7,
          "pattern": {
           "shape": ""
          }
         },
         "name": "Varicose veins",
         "offsetgroup": "Varicose veins",
         "orientation": "v",
         "showlegend": true,
         "textposition": "auto",
         "type": "bar",
         "x": [
          "Varicose veins"
         ],
         "xaxis": "x",
         "y": [
          0
         ],
         "yaxis": "y"
        },
        {
         "alignmentgroup": "True",
         "hovertemplate": "Disease=%{x}<br>Symptom_3_ breathlessness=%{y}<extra></extra>",
         "legendgroup": "hepatitis A",
         "marker": {
          "color": "red",
          "line": {
           "color": "red",
           "width": 1.5
          },
          "opacity": 0.7,
          "pattern": {
           "shape": ""
          }
         },
         "name": "hepatitis A",
         "offsetgroup": "hepatitis A",
         "orientation": "v",
         "showlegend": true,
         "textposition": "auto",
         "type": "bar",
         "x": [
          "hepatitis A"
         ],
         "xaxis": "x",
         "y": [
          0
         ],
         "yaxis": "y"
        }
       ],
       "layout": {
        "autosize": true,
        "barmode": "relative",
        "coloraxis": {
         "colorbar": {
          "title": {
           "text": "Cough_Disease_Asso"
          }
         }
        },
        "legend": {
         "title": {
          "text": "Disease"
         },
         "tracegroupgap": 0
        },
        "margin": {
         "t": 60
        },
        "template": {
         "data": {
          "bar": [
           {
            "error_x": {
             "color": "#2a3f5f"
            },
            "error_y": {
             "color": "#2a3f5f"
            },
            "marker": {
             "line": {
              "color": "#E5ECF6",
              "width": 0.5
             },
             "pattern": {
              "fillmode": "overlay",
              "size": 10,
              "solidity": 0.2
             }
            },
            "type": "bar"
           }
          ],
          "barpolar": [
           {
            "marker": {
             "line": {
              "color": "#E5ECF6",
              "width": 0.5
             },
             "pattern": {
              "fillmode": "overlay",
              "size": 10,
              "solidity": 0.2
             }
            },
            "type": "barpolar"
           }
          ],
          "carpet": [
           {
            "aaxis": {
             "endlinecolor": "#2a3f5f",
             "gridcolor": "white",
             "linecolor": "white",
             "minorgridcolor": "white",
             "startlinecolor": "#2a3f5f"
            },
            "baxis": {
             "endlinecolor": "#2a3f5f",
             "gridcolor": "white",
             "linecolor": "white",
             "minorgridcolor": "white",
             "startlinecolor": "#2a3f5f"
            },
            "type": "carpet"
           }
          ],
          "choropleth": [
           {
            "colorbar": {
             "outlinewidth": 0,
             "ticks": ""
            },
            "type": "choropleth"
           }
          ],
          "contour": [
           {
            "colorbar": {
             "outlinewidth": 0,
             "ticks": ""
            },
            "colorscale": [
             [
              0,
              "#0d0887"
             ],
             [
              0.1111111111111111,
              "#46039f"
             ],
             [
              0.2222222222222222,
              "#7201a8"
             ],
             [
              0.3333333333333333,
              "#9c179e"
             ],
             [
              0.4444444444444444,
              "#bd3786"
             ],
             [
              0.5555555555555556,
              "#d8576b"
             ],
             [
              0.6666666666666666,
              "#ed7953"
             ],
             [
              0.7777777777777778,
              "#fb9f3a"
             ],
             [
              0.8888888888888888,
              "#fdca26"
             ],
             [
              1,
              "#f0f921"
             ]
            ],
            "type": "contour"
           }
          ],
          "contourcarpet": [
           {
            "colorbar": {
             "outlinewidth": 0,
             "ticks": ""
            },
            "type": "contourcarpet"
           }
          ],
          "heatmap": [
           {
            "colorbar": {
             "outlinewidth": 0,
             "ticks": ""
            },
            "colorscale": [
             [
              0,
              "#0d0887"
             ],
             [
              0.1111111111111111,
              "#46039f"
             ],
             [
              0.2222222222222222,
              "#7201a8"
             ],
             [
              0.3333333333333333,
              "#9c179e"
             ],
             [
              0.4444444444444444,
              "#bd3786"
             ],
             [
              0.5555555555555556,
              "#d8576b"
             ],
             [
              0.6666666666666666,
              "#ed7953"
             ],
             [
              0.7777777777777778,
              "#fb9f3a"
             ],
             [
              0.8888888888888888,
              "#fdca26"
             ],
             [
              1,
              "#f0f921"
             ]
            ],
            "type": "heatmap"
           }
          ],
          "heatmapgl": [
           {
            "colorbar": {
             "outlinewidth": 0,
             "ticks": ""
            },
            "colorscale": [
             [
              0,
              "#0d0887"
             ],
             [
              0.1111111111111111,
              "#46039f"
             ],
             [
              0.2222222222222222,
              "#7201a8"
             ],
             [
              0.3333333333333333,
              "#9c179e"
             ],
             [
              0.4444444444444444,
              "#bd3786"
             ],
             [
              0.5555555555555556,
              "#d8576b"
             ],
             [
              0.6666666666666666,
              "#ed7953"
             ],
             [
              0.7777777777777778,
              "#fb9f3a"
             ],
             [
              0.8888888888888888,
              "#fdca26"
             ],
             [
              1,
              "#f0f921"
             ]
            ],
            "type": "heatmapgl"
           }
          ],
          "histogram": [
           {
            "marker": {
             "pattern": {
              "fillmode": "overlay",
              "size": 10,
              "solidity": 0.2
             }
            },
            "type": "histogram"
           }
          ],
          "histogram2d": [
           {
            "colorbar": {
             "outlinewidth": 0,
             "ticks": ""
            },
            "colorscale": [
             [
              0,
              "#0d0887"
             ],
             [
              0.1111111111111111,
              "#46039f"
             ],
             [
              0.2222222222222222,
              "#7201a8"
             ],
             [
              0.3333333333333333,
              "#9c179e"
             ],
             [
              0.4444444444444444,
              "#bd3786"
             ],
             [
              0.5555555555555556,
              "#d8576b"
             ],
             [
              0.6666666666666666,
              "#ed7953"
             ],
             [
              0.7777777777777778,
              "#fb9f3a"
             ],
             [
              0.8888888888888888,
              "#fdca26"
             ],
             [
              1,
              "#f0f921"
             ]
            ],
            "type": "histogram2d"
           }
          ],
          "histogram2dcontour": [
           {
            "colorbar": {
             "outlinewidth": 0,
             "ticks": ""
            },
            "colorscale": [
             [
              0,
              "#0d0887"
             ],
             [
              0.1111111111111111,
              "#46039f"
             ],
             [
              0.2222222222222222,
              "#7201a8"
             ],
             [
              0.3333333333333333,
              "#9c179e"
             ],
             [
              0.4444444444444444,
              "#bd3786"
             ],
             [
              0.5555555555555556,
              "#d8576b"
             ],
             [
              0.6666666666666666,
              "#ed7953"
             ],
             [
              0.7777777777777778,
              "#fb9f3a"
             ],
             [
              0.8888888888888888,
              "#fdca26"
             ],
             [
              1,
              "#f0f921"
             ]
            ],
            "type": "histogram2dcontour"
           }
          ],
          "mesh3d": [
           {
            "colorbar": {
             "outlinewidth": 0,
             "ticks": ""
            },
            "type": "mesh3d"
           }
          ],
          "parcoords": [
           {
            "line": {
             "colorbar": {
              "outlinewidth": 0,
              "ticks": ""
             }
            },
            "type": "parcoords"
           }
          ],
          "pie": [
           {
            "automargin": true,
            "type": "pie"
           }
          ],
          "scatter": [
           {
            "fillpattern": {
             "fillmode": "overlay",
             "size": 10,
             "solidity": 0.2
            },
            "type": "scatter"
           }
          ],
          "scatter3d": [
           {
            "line": {
             "colorbar": {
              "outlinewidth": 0,
              "ticks": ""
             }
            },
            "marker": {
             "colorbar": {
              "outlinewidth": 0,
              "ticks": ""
             }
            },
            "type": "scatter3d"
           }
          ],
          "scattercarpet": [
           {
            "marker": {
             "colorbar": {
              "outlinewidth": 0,
              "ticks": ""
             }
            },
            "type": "scattercarpet"
           }
          ],
          "scattergeo": [
           {
            "marker": {
             "colorbar": {
              "outlinewidth": 0,
              "ticks": ""
             }
            },
            "type": "scattergeo"
           }
          ],
          "scattergl": [
           {
            "marker": {
             "colorbar": {
              "outlinewidth": 0,
              "ticks": ""
             }
            },
            "type": "scattergl"
           }
          ],
          "scattermapbox": [
           {
            "marker": {
             "colorbar": {
              "outlinewidth": 0,
              "ticks": ""
             }
            },
            "type": "scattermapbox"
           }
          ],
          "scatterpolar": [
           {
            "marker": {
             "colorbar": {
              "outlinewidth": 0,
              "ticks": ""
             }
            },
            "type": "scatterpolar"
           }
          ],
          "scatterpolargl": [
           {
            "marker": {
             "colorbar": {
              "outlinewidth": 0,
              "ticks": ""
             }
            },
            "type": "scatterpolargl"
           }
          ],
          "scatterternary": [
           {
            "marker": {
             "colorbar": {
              "outlinewidth": 0,
              "ticks": ""
             }
            },
            "type": "scatterternary"
           }
          ],
          "surface": [
           {
            "colorbar": {
             "outlinewidth": 0,
             "ticks": ""
            },
            "colorscale": [
             [
              0,
              "#0d0887"
             ],
             [
              0.1111111111111111,
              "#46039f"
             ],
             [
              0.2222222222222222,
              "#7201a8"
             ],
             [
              0.3333333333333333,
              "#9c179e"
             ],
             [
              0.4444444444444444,
              "#bd3786"
             ],
             [
              0.5555555555555556,
              "#d8576b"
             ],
             [
              0.6666666666666666,
              "#ed7953"
             ],
             [
              0.7777777777777778,
              "#fb9f3a"
             ],
             [
              0.8888888888888888,
              "#fdca26"
             ],
             [
              1,
              "#f0f921"
             ]
            ],
            "type": "surface"
           }
          ],
          "table": [
           {
            "cells": {
             "fill": {
              "color": "#EBF0F8"
             },
             "line": {
              "color": "white"
             }
            },
            "header": {
             "fill": {
              "color": "#C8D4E3"
             },
             "line": {
              "color": "white"
             }
            },
            "type": "table"
           }
          ]
         },
         "layout": {
          "annotationdefaults": {
           "arrowcolor": "#2a3f5f",
           "arrowhead": 0,
           "arrowwidth": 1
          },
          "autotypenumbers": "strict",
          "coloraxis": {
           "colorbar": {
            "outlinewidth": 0,
            "ticks": ""
           }
          },
          "colorscale": {
           "diverging": [
            [
             0,
             "#8e0152"
            ],
            [
             0.1,
             "#c51b7d"
            ],
            [
             0.2,
             "#de77ae"
            ],
            [
             0.3,
             "#f1b6da"
            ],
            [
             0.4,
             "#fde0ef"
            ],
            [
             0.5,
             "#f7f7f7"
            ],
            [
             0.6,
             "#e6f5d0"
            ],
            [
             0.7,
             "#b8e186"
            ],
            [
             0.8,
             "#7fbc41"
            ],
            [
             0.9,
             "#4d9221"
            ],
            [
             1,
             "#276419"
            ]
           ],
           "sequential": [
            [
             0,
             "#0d0887"
            ],
            [
             0.1111111111111111,
             "#46039f"
            ],
            [
             0.2222222222222222,
             "#7201a8"
            ],
            [
             0.3333333333333333,
             "#9c179e"
            ],
            [
             0.4444444444444444,
             "#bd3786"
            ],
            [
             0.5555555555555556,
             "#d8576b"
            ],
            [
             0.6666666666666666,
             "#ed7953"
            ],
            [
             0.7777777777777778,
             "#fb9f3a"
            ],
            [
             0.8888888888888888,
             "#fdca26"
            ],
            [
             1,
             "#f0f921"
            ]
           ],
           "sequentialminus": [
            [
             0,
             "#0d0887"
            ],
            [
             0.1111111111111111,
             "#46039f"
            ],
            [
             0.2222222222222222,
             "#7201a8"
            ],
            [
             0.3333333333333333,
             "#9c179e"
            ],
            [
             0.4444444444444444,
             "#bd3786"
            ],
            [
             0.5555555555555556,
             "#d8576b"
            ],
            [
             0.6666666666666666,
             "#ed7953"
            ],
            [
             0.7777777777777778,
             "#fb9f3a"
            ],
            [
             0.8888888888888888,
             "#fdca26"
            ],
            [
             1,
             "#f0f921"
            ]
           ]
          },
          "colorway": [
           "#636efa",
           "#EF553B",
           "#00cc96",
           "#ab63fa",
           "#FFA15A",
           "#19d3f3",
           "#FF6692",
           "#B6E880",
           "#FF97FF",
           "#FECB52"
          ],
          "font": {
           "color": "#2a3f5f"
          },
          "geo": {
           "bgcolor": "white",
           "lakecolor": "white",
           "landcolor": "#E5ECF6",
           "showlakes": true,
           "showland": true,
           "subunitcolor": "white"
          },
          "hoverlabel": {
           "align": "left"
          },
          "hovermode": "closest",
          "mapbox": {
           "style": "light"
          },
          "paper_bgcolor": "white",
          "plot_bgcolor": "#E5ECF6",
          "polar": {
           "angularaxis": {
            "gridcolor": "white",
            "linecolor": "white",
            "ticks": ""
           },
           "bgcolor": "#E5ECF6",
           "radialaxis": {
            "gridcolor": "white",
            "linecolor": "white",
            "ticks": ""
           }
          },
          "scene": {
           "xaxis": {
            "backgroundcolor": "#E5ECF6",
            "gridcolor": "white",
            "gridwidth": 2,
            "linecolor": "white",
            "showbackground": true,
            "ticks": "",
            "zerolinecolor": "white"
           },
           "yaxis": {
            "backgroundcolor": "#E5ECF6",
            "gridcolor": "white",
            "gridwidth": 2,
            "linecolor": "white",
            "showbackground": true,
            "ticks": "",
            "zerolinecolor": "white"
           },
           "zaxis": {
            "backgroundcolor": "#E5ECF6",
            "gridcolor": "white",
            "gridwidth": 2,
            "linecolor": "white",
            "showbackground": true,
            "ticks": "",
            "zerolinecolor": "white"
           }
          },
          "shapedefaults": {
           "line": {
            "color": "#2a3f5f"
           }
          },
          "ternary": {
           "aaxis": {
            "gridcolor": "white",
            "linecolor": "white",
            "ticks": ""
           },
           "baxis": {
            "gridcolor": "white",
            "linecolor": "white",
            "ticks": ""
           },
           "bgcolor": "#E5ECF6",
           "caxis": {
            "gridcolor": "white",
            "linecolor": "white",
            "ticks": ""
           }
          },
          "title": {
           "x": 0.05
          },
          "xaxis": {
           "automargin": true,
           "gridcolor": "white",
           "linecolor": "white",
           "ticks": "",
           "title": {
            "standoff": 15
           },
           "zerolinecolor": "white",
           "zerolinewidth": 2
          },
          "yaxis": {
           "automargin": true,
           "gridcolor": "white",
           "linecolor": "white",
           "ticks": "",
           "title": {
            "standoff": 15
           },
           "zerolinecolor": "white",
           "zerolinewidth": 2
          }
         }
        },
        "title": {
         "text": "breathlessness_Disease_Asso"
        },
        "xaxis": {
         "anchor": "y",
         "autorange": true,
         "categoryarray": [
          "(vertigo) Paroymsal  Positional Vertigo",
          "Alcoholic hepatitis",
          "Arthritis",
          "Bronchial Asthma",
          "Cervical spondylosis",
          "Chicken pox",
          "Chronic cholestasis",
          "Common Cold",
          "Dengue",
          "Diabetes ",
          "Dimorphic hemmorhoids(piles)",
          "Drug Reaction",
          "GERD",
          "Hepatitis B",
          "Hepatitis C",
          "Hepatitis D",
          "Hepatitis E",
          "Hypertension ",
          "Hyperthyroidism",
          "Hypoglycemia",
          "Hypothyroidism",
          "Impetigo",
          "Jaundice",
          "Malaria",
          "Migraine",
          "Osteoarthristis",
          "Peptic ulcer diseae",
          "Pneumonia",
          "Psoriasis",
          "Tuberculosis",
          "Typhoid",
          "Varicose veins",
          "hepatitis A"
         ],
         "categoryorder": "array",
         "domain": [
          0,
          1
         ],
         "range": [
          -0.5,
          32.5
         ],
         "title": {
          "text": "Disease"
         },
         "type": "category"
        },
        "yaxis": {
         "anchor": "x",
         "autorange": true,
         "domain": [
          0,
          1
         ],
         "range": [
          0,
          31.57894736842105
         ],
         "title": {
          "text": "Symptom_1_ fatigue"
         },
         "type": "linear"
        }
       }
      },
      "image/png": "[encoded data removed]",
      "text/html": [
       "<div>                            <div id=\"ac74259f-e496-4688-9557-72bb4b52b459\" class=\"plotly-graph-div\" style=\"height:400px; width:100%;\"></div>            <script type=\"text/javascript\">                require([\"plotly\"], function(Plotly) {                    window.PLOTLYENV=window.PLOTLYENV || {};                                    if (document.getElementById(\"ac74259f-e496-4688-9557-72bb4b52b459\")) {                    Plotly.newPlot(                        \"ac74259f-e496-4688-9557-72bb4b52b459\",                        [{\"alignmentgroup\":\"True\",\"hovertemplate\":\"Disease=%{x}<br>Symptom_3_ breathlessness=%{y}<extra></extra>\",\"legendgroup\":\"(vertigo) Paroymsal  Positional Vertigo\",\"marker\":{\"color\":\"red\",\"pattern\":{\"shape\":\"\"},\"line\":{\"color\":\"red\",\"width\":1.5},\"opacity\":0.7},\"name\":\"(vertigo) Paroymsal  Positional Vertigo\",\"offsetgroup\":\"(vertigo) Paroymsal  Positional Vertigo\",\"orientation\":\"v\",\"showlegend\":true,\"textposition\":\"auto\",\"x\":[\"(vertigo) Paroymsal  Positional Vertigo\"],\"xaxis\":\"x\",\"y\":[0],\"yaxis\":\"y\",\"type\":\"bar\"},{\"alignmentgroup\":\"True\",\"hovertemplate\":\"Disease=%{x}<br>Symptom_3_ breathlessness=%{y}<extra></extra>\",\"legendgroup\":\"Alcoholic hepatitis\",\"marker\":{\"color\":\"red\",\"pattern\":{\"shape\":\"\"},\"line\":{\"color\":\"red\",\"width\":1.5},\"opacity\":0.7},\"name\":\"Alcoholic hepatitis\",\"offsetgroup\":\"Alcoholic hepatitis\",\"orientation\":\"v\",\"showlegend\":true,\"textposition\":\"auto\",\"x\":[\"Alcoholic hepatitis\"],\"xaxis\":\"x\",\"y\":[0],\"yaxis\":\"y\",\"type\":\"bar\"},{\"alignmentgroup\":\"True\",\"hovertemplate\":\"Disease=%{x}<br>Symptom_3_ breathlessness=%{y}<extra></extra>\",\"legendgroup\":\"Arthritis\",\"marker\":{\"color\":\"red\",\"pattern\":{\"shape\":\"\"},\"line\":{\"color\":\"red\",\"width\":1.5},\"opacity\":0.7},\"name\":\"Arthritis\",\"offsetgroup\":\"Arthritis\",\"orientation\":\"v\",\"showlegend\":true,\"textposition\":\"auto\",\"x\":[\"Arthritis\"],\"xaxis\":\"x\",\"y\":[0],\"yaxis\":\"y\",\"type\":\"bar\"},{\"alignmentgroup\":\"True\",\"hovertemplate\":\"Disease=%{x}<br>Symptom_3_ breathlessness=%{y}<extra></extra>\",\"legendgroup\":\"Bronchial Asthma\",\"marker\":{\"color\":\"red\",\"pattern\":{\"shape\":\"\"},\"line\":{\"color\":\"red\",\"width\":1.5},\"opacity\":0.7},\"name\":\"Bronchial Asthma\",\"offsetgroup\":\"Bronchial Asthma\",\"orientation\":\"v\",\"showlegend\":true,\"textposition\":\"auto\",\"x\":[\"Bronchial Asthma\"],\"xaxis\":\"x\",\"y\":[30],\"yaxis\":\"y\",\"type\":\"bar\"},{\"alignmentgroup\":\"True\",\"hovertemplate\":\"Disease=%{x}<br>Symptom_3_ breathlessness=%{y}<extra></extra>\",\"legendgroup\":\"Cervical spondylosis\",\"marker\":{\"color\":\"red\",\"pattern\":{\"shape\":\"\"},\"line\":{\"color\":\"red\",\"width\":1.5},\"opacity\":0.7},\"name\":\"Cervical spondylosis\",\"offsetgroup\":\"Cervical spondylosis\",\"orientation\":\"v\",\"showlegend\":true,\"textposition\":\"auto\",\"x\":[\"Cervical spondylosis\"],\"xaxis\":\"x\",\"y\":[0],\"yaxis\":\"y\",\"type\":\"bar\"},{\"alignmentgroup\":\"True\",\"hovertemplate\":\"Disease=%{x}<br>Symptom_3_ breathlessness=%{y}<extra></extra>\",\"legendgroup\":\"Chicken pox\",\"marker\":{\"color\":\"red\",\"pattern\":{\"shape\":\"\"},\"line\":{\"color\":\"red\",\"width\":1.5},\"opacity\":0.7},\"name\":\"Chicken pox\",\"offsetgroup\":\"Chicken pox\",\"orientation\":\"v\",\"showlegend\":true,\"textposition\":\"auto\",\"x\":[\"Chicken pox\"],\"xaxis\":\"x\",\"y\":[0],\"yaxis\":\"y\",\"type\":\"bar\"},{\"alignmentgroup\":\"True\",\"hovertemplate\":\"Disease=%{x}<br>Symptom_3_ breathlessness=%{y}<extra></extra>\",\"legendgroup\":\"Chronic cholestasis\",\"marker\":{\"color\":\"red\",\"pattern\":{\"shape\":\"\"},\"line\":{\"color\":\"red\",\"width\":1.5},\"opacity\":0.7},\"name\":\"Chronic cholestasis\",\"offsetgroup\":\"Chronic cholestasis\",\"orientation\":\"v\",\"showlegend\":true,\"textposition\":\"auto\",\"x\":[\"Chronic cholestasis\"],\"xaxis\":\"x\",\"y\":[0],\"yaxis\":\"y\",\"type\":\"bar\"},{\"alignmentgroup\":\"True\",\"hovertemplate\":\"Disease=%{x}<br>Symptom_3_ breathlessness=%{y}<extra></extra>\",\"legendgroup\":\"Common Cold\",\"marker\":{\"color\":\"red\",\"pattern\":{\"shape\":\"\"},\"line\":{\"color\":\"red\",\"width\":1.5},\"opacity\":0.7},\"name\":\"Common Cold\",\"offsetgroup\":\"Common Cold\",\"orientation\":\"v\",\"showlegend\":true,\"textposition\":\"auto\",\"x\":[\"Common Cold\"],\"xaxis\":\"x\",\"y\":[0],\"yaxis\":\"y\",\"type\":\"bar\"},{\"alignmentgroup\":\"True\",\"hovertemplate\":\"Disease=%{x}<br>Symptom_3_ breathlessness=%{y}<extra></extra>\",\"legendgroup\":\"Dengue\",\"marker\":{\"color\":\"red\",\"pattern\":{\"shape\":\"\"},\"line\":{\"color\":\"red\",\"width\":1.5},\"opacity\":0.7},\"name\":\"Dengue\",\"offsetgroup\":\"Dengue\",\"orientation\":\"v\",\"showlegend\":true,\"textposition\":\"auto\",\"x\":[\"Dengue\"],\"xaxis\":\"x\",\"y\":[0],\"yaxis\":\"y\",\"type\":\"bar\"},{\"alignmentgroup\":\"True\",\"hovertemplate\":\"Disease=%{x}<br>Symptom_3_ breathlessness=%{y}<extra></extra>\",\"legendgroup\":\"Diabetes \",\"marker\":{\"color\":\"red\",\"pattern\":{\"shape\":\"\"},\"line\":{\"color\":\"red\",\"width\":1.5},\"opacity\":0.7},\"name\":\"Diabetes \",\"offsetgroup\":\"Diabetes \",\"orientation\":\"v\",\"showlegend\":true,\"textposition\":\"auto\",\"x\":[\"Diabetes \"],\"xaxis\":\"x\",\"y\":[0],\"yaxis\":\"y\",\"type\":\"bar\"},{\"alignmentgroup\":\"True\",\"hovertemplate\":\"Disease=%{x}<br>Symptom_3_ breathlessness=%{y}<extra></extra>\",\"legendgroup\":\"Dimorphic hemmorhoids(piles)\",\"marker\":{\"color\":\"red\",\"pattern\":{\"shape\":\"\"},\"line\":{\"color\":\"red\",\"width\":1.5},\"opacity\":0.7},\"name\":\"Dimorphic hemmorhoids(piles)\",\"offsetgroup\":\"Dimorphic hemmorhoids(piles)\",\"orientation\":\"v\",\"showlegend\":true,\"textposition\":\"auto\",\"x\":[\"Dimorphic hemmorhoids(piles)\"],\"xaxis\":\"x\",\"y\":[0],\"yaxis\":\"y\",\"type\":\"bar\"},{\"alignmentgroup\":\"True\",\"hovertemplate\":\"Disease=%{x}<br>Symptom_3_ breathlessness=%{y}<extra></extra>\",\"legendgroup\":\"Drug Reaction\",\"marker\":{\"color\":\"red\",\"pattern\":{\"shape\":\"\"},\"line\":{\"color\":\"red\",\"width\":1.5},\"opacity\":0.7},\"name\":\"Drug Reaction\",\"offsetgroup\":\"Drug Reaction\",\"orientation\":\"v\",\"showlegend\":true,\"textposition\":\"auto\",\"x\":[\"Drug Reaction\"],\"xaxis\":\"x\",\"y\":[0],\"yaxis\":\"y\",\"type\":\"bar\"},{\"alignmentgroup\":\"True\",\"hovertemplate\":\"Disease=%{x}<br>Symptom_3_ breathlessness=%{y}<extra></extra>\",\"legendgroup\":\"GERD\",\"marker\":{\"color\":\"red\",\"pattern\":{\"shape\":\"\"},\"line\":{\"color\":\"red\",\"width\":1.5},\"opacity\":0.7},\"name\":\"GERD\",\"offsetgroup\":\"GERD\",\"orientation\":\"v\",\"showlegend\":true,\"textposition\":\"auto\",\"x\":[\"GERD\"],\"xaxis\":\"x\",\"y\":[0],\"yaxis\":\"y\",\"type\":\"bar\"},{\"alignmentgroup\":\"True\",\"hovertemplate\":\"Disease=%{x}<br>Symptom_3_ breathlessness=%{y}<extra></extra>\",\"legendgroup\":\"Hepatitis B\",\"marker\":{\"color\":\"red\",\"pattern\":{\"shape\":\"\"},\"line\":{\"color\":\"red\",\"width\":1.5},\"opacity\":0.7},\"name\":\"Hepatitis B\",\"offsetgroup\":\"Hepatitis B\",\"orientation\":\"v\",\"showlegend\":true,\"textposition\":\"auto\",\"x\":[\"Hepatitis B\"],\"xaxis\":\"x\",\"y\":[0],\"yaxis\":\"y\",\"type\":\"bar\"},{\"alignmentgroup\":\"True\",\"hovertemplate\":\"Disease=%{x}<br>Symptom_3_ breathlessness=%{y}<extra></extra>\",\"legendgroup\":\"Hepatitis C\",\"marker\":{\"color\":\"red\",\"pattern\":{\"shape\":\"\"},\"line\":{\"color\":\"red\",\"width\":1.5},\"opacity\":0.7},\"name\":\"Hepatitis C\",\"offsetgroup\":\"Hepatitis C\",\"orientation\":\"v\",\"showlegend\":true,\"textposition\":\"auto\",\"x\":[\"Hepatitis C\"],\"xaxis\":\"x\",\"y\":[0],\"yaxis\":\"y\",\"type\":\"bar\"},{\"alignmentgroup\":\"True\",\"hovertemplate\":\"Disease=%{x}<br>Symptom_3_ breathlessness=%{y}<extra></extra>\",\"legendgroup\":\"Hepatitis D\",\"marker\":{\"color\":\"red\",\"pattern\":{\"shape\":\"\"},\"line\":{\"color\":\"red\",\"width\":1.5},\"opacity\":0.7},\"name\":\"Hepatitis D\",\"offsetgroup\":\"Hepatitis D\",\"orientation\":\"v\",\"showlegend\":true,\"textposition\":\"auto\",\"x\":[\"Hepatitis D\"],\"xaxis\":\"x\",\"y\":[0],\"yaxis\":\"y\",\"type\":\"bar\"},{\"alignmentgroup\":\"True\",\"hovertemplate\":\"Disease=%{x}<br>Symptom_3_ breathlessness=%{y}<extra></extra>\",\"legendgroup\":\"Hepatitis E\",\"marker\":{\"color\":\"red\",\"pattern\":{\"shape\":\"\"},\"line\":{\"color\":\"red\",\"width\":1.5},\"opacity\":0.7},\"name\":\"Hepatitis E\",\"offsetgroup\":\"Hepatitis E\",\"orientation\":\"v\",\"showlegend\":true,\"textposition\":\"auto\",\"x\":[\"Hepatitis E\"],\"xaxis\":\"x\",\"y\":[0],\"yaxis\":\"y\",\"type\":\"bar\"},{\"alignmentgroup\":\"True\",\"hovertemplate\":\"Disease=%{x}<br>Symptom_3_ breathlessness=%{y}<extra></extra>\",\"legendgroup\":\"Hypertension \",\"marker\":{\"color\":\"red\",\"pattern\":{\"shape\":\"\"},\"line\":{\"color\":\"red\",\"width\":1.5},\"opacity\":0.7},\"name\":\"Hypertension \",\"offsetgroup\":\"Hypertension \",\"orientation\":\"v\",\"showlegend\":true,\"textposition\":\"auto\",\"x\":[\"Hypertension \"],\"xaxis\":\"x\",\"y\":[0],\"yaxis\":\"y\",\"type\":\"bar\"},{\"alignmentgroup\":\"True\",\"hovertemplate\":\"Disease=%{x}<br>Symptom_3_ breathlessness=%{y}<extra></extra>\",\"legendgroup\":\"Hyperthyroidism\",\"marker\":{\"color\":\"red\",\"pattern\":{\"shape\":\"\"},\"line\":{\"color\":\"red\",\"width\":1.5},\"opacity\":0.7},\"name\":\"Hyperthyroidism\",\"offsetgroup\":\"Hyperthyroidism\",\"orientation\":\"v\",\"showlegend\":true,\"textposition\":\"auto\",\"x\":[\"Hyperthyroidism\"],\"xaxis\":\"x\",\"y\":[0],\"yaxis\":\"y\",\"type\":\"bar\"},{\"alignmentgroup\":\"True\",\"hovertemplate\":\"Disease=%{x}<br>Symptom_3_ breathlessness=%{y}<extra></extra>\",\"legendgroup\":\"Hypoglycemia\",\"marker\":{\"color\":\"red\",\"pattern\":{\"shape\":\"\"},\"line\":{\"color\":\"red\",\"width\":1.5},\"opacity\":0.7},\"name\":\"Hypoglycemia\",\"offsetgroup\":\"Hypoglycemia\",\"orientation\":\"v\",\"showlegend\":true,\"textposition\":\"auto\",\"x\":[\"Hypoglycemia\"],\"xaxis\":\"x\",\"y\":[0],\"yaxis\":\"y\",\"type\":\"bar\"},{\"alignmentgroup\":\"True\",\"hovertemplate\":\"Disease=%{x}<br>Symptom_3_ breathlessness=%{y}<extra></extra>\",\"legendgroup\":\"Hypothyroidism\",\"marker\":{\"color\":\"red\",\"pattern\":{\"shape\":\"\"},\"line\":{\"color\":\"red\",\"width\":1.5},\"opacity\":0.7},\"name\":\"Hypothyroidism\",\"offsetgroup\":\"Hypothyroidism\",\"orientation\":\"v\",\"showlegend\":true,\"textposition\":\"auto\",\"x\":[\"Hypothyroidism\"],\"xaxis\":\"x\",\"y\":[0],\"yaxis\":\"y\",\"type\":\"bar\"},{\"alignmentgroup\":\"True\",\"hovertemplate\":\"Disease=%{x}<br>Symptom_3_ breathlessness=%{y}<extra></extra>\",\"legendgroup\":\"Impetigo\",\"marker\":{\"color\":\"red\",\"pattern\":{\"shape\":\"\"},\"line\":{\"color\":\"red\",\"width\":1.5},\"opacity\":0.7},\"name\":\"Impetigo\",\"offsetgroup\":\"Impetigo\",\"orientation\":\"v\",\"showlegend\":true,\"textposition\":\"auto\",\"x\":[\"Impetigo\"],\"xaxis\":\"x\",\"y\":[0],\"yaxis\":\"y\",\"type\":\"bar\"},{\"alignmentgroup\":\"True\",\"hovertemplate\":\"Disease=%{x}<br>Symptom_3_ breathlessness=%{y}<extra></extra>\",\"legendgroup\":\"Jaundice\",\"marker\":{\"color\":\"red\",\"pattern\":{\"shape\":\"\"},\"line\":{\"color\":\"red\",\"width\":1.5},\"opacity\":0.7},\"name\":\"Jaundice\",\"offsetgroup\":\"Jaundice\",\"orientation\":\"v\",\"showlegend\":true,\"textposition\":\"auto\",\"x\":[\"Jaundice\"],\"xaxis\":\"x\",\"y\":[0],\"yaxis\":\"y\",\"type\":\"bar\"},{\"alignmentgroup\":\"True\",\"hovertemplate\":\"Disease=%{x}<br>Symptom_3_ breathlessness=%{y}<extra></extra>\",\"legendgroup\":\"Malaria\",\"marker\":{\"color\":\"red\",\"pattern\":{\"shape\":\"\"},\"line\":{\"color\":\"red\",\"width\":1.5},\"opacity\":0.7},\"name\":\"Malaria\",\"offsetgroup\":\"Malaria\",\"orientation\":\"v\",\"showlegend\":true,\"textposition\":\"auto\",\"x\":[\"Malaria\"],\"xaxis\":\"x\",\"y\":[0],\"yaxis\":\"y\",\"type\":\"bar\"},{\"alignmentgroup\":\"True\",\"hovertemplate\":\"Disease=%{x}<br>Symptom_3_ breathlessness=%{y}<extra></extra>\",\"legendgroup\":\"Migraine\",\"marker\":{\"color\":\"red\",\"pattern\":{\"shape\":\"\"},\"line\":{\"color\":\"red\",\"width\":1.5},\"opacity\":0.7},\"name\":\"Migraine\",\"offsetgroup\":\"Migraine\",\"orientation\":\"v\",\"showlegend\":true,\"textposition\":\"auto\",\"x\":[\"Migraine\"],\"xaxis\":\"x\",\"y\":[0],\"yaxis\":\"y\",\"type\":\"bar\"},{\"alignmentgroup\":\"True\",\"hovertemplate\":\"Disease=%{x}<br>Symptom_3_ breathlessness=%{y}<extra></extra>\",\"legendgroup\":\"Osteoarthristis\",\"marker\":{\"color\":\"red\",\"pattern\":{\"shape\":\"\"},\"line\":{\"color\":\"red\",\"width\":1.5},\"opacity\":0.7},\"name\":\"Osteoarthristis\",\"offsetgroup\":\"Osteoarthristis\",\"orientation\":\"v\",\"showlegend\":true,\"textposition\":\"auto\",\"x\":[\"Osteoarthristis\"],\"xaxis\":\"x\",\"y\":[0],\"yaxis\":\"y\",\"type\":\"bar\"},{\"alignmentgroup\":\"True\",\"hovertemplate\":\"Disease=%{x}<br>Symptom_3_ breathlessness=%{y}<extra></extra>\",\"legendgroup\":\"Peptic ulcer diseae\",\"marker\":{\"color\":\"red\",\"pattern\":{\"shape\":\"\"},\"line\":{\"color\":\"red\",\"width\":1.5},\"opacity\":0.7},\"name\":\"Peptic ulcer diseae\",\"offsetgroup\":\"Peptic ulcer diseae\",\"orientation\":\"v\",\"showlegend\":true,\"textposition\":\"auto\",\"x\":[\"Peptic ulcer diseae\"],\"xaxis\":\"x\",\"y\":[0],\"yaxis\":\"y\",\"type\":\"bar\"},{\"alignmentgroup\":\"True\",\"hovertemplate\":\"Disease=%{x}<br>Symptom_3_ breathlessness=%{y}<extra></extra>\",\"legendgroup\":\"Pneumonia\",\"marker\":{\"color\":\"red\",\"pattern\":{\"shape\":\"\"},\"line\":{\"color\":\"red\",\"width\":1.5},\"opacity\":0.7},\"name\":\"Pneumonia\",\"offsetgroup\":\"Pneumonia\",\"orientation\":\"v\",\"showlegend\":true,\"textposition\":\"auto\",\"x\":[\"Pneumonia\"],\"xaxis\":\"x\",\"y\":[0],\"yaxis\":\"y\",\"type\":\"bar\"},{\"alignmentgroup\":\"True\",\"hovertemplate\":\"Disease=%{x}<br>Symptom_3_ breathlessness=%{y}<extra></extra>\",\"legendgroup\":\"Psoriasis\",\"marker\":{\"color\":\"red\",\"pattern\":{\"shape\":\"\"},\"line\":{\"color\":\"red\",\"width\":1.5},\"opacity\":0.7},\"name\":\"Psoriasis\",\"offsetgroup\":\"Psoriasis\",\"orientation\":\"v\",\"showlegend\":true,\"textposition\":\"auto\",\"x\":[\"Psoriasis\"],\"xaxis\":\"x\",\"y\":[0],\"yaxis\":\"y\",\"type\":\"bar\"},{\"alignmentgroup\":\"True\",\"hovertemplate\":\"Disease=%{x}<br>Symptom_3_ breathlessness=%{y}<extra></extra>\",\"legendgroup\":\"Tuberculosis\",\"marker\":{\"color\":\"red\",\"pattern\":{\"shape\":\"\"},\"line\":{\"color\":\"red\",\"width\":1.5},\"opacity\":0.7},\"name\":\"Tuberculosis\",\"offsetgroup\":\"Tuberculosis\",\"orientation\":\"v\",\"showlegend\":true,\"textposition\":\"auto\",\"x\":[\"Tuberculosis\"],\"xaxis\":\"x\",\"y\":[0],\"yaxis\":\"y\",\"type\":\"bar\"},{\"alignmentgroup\":\"True\",\"hovertemplate\":\"Disease=%{x}<br>Symptom_3_ breathlessness=%{y}<extra></extra>\",\"legendgroup\":\"Typhoid\",\"marker\":{\"color\":\"red\",\"pattern\":{\"shape\":\"\"},\"line\":{\"color\":\"red\",\"width\":1.5},\"opacity\":0.7},\"name\":\"Typhoid\",\"offsetgroup\":\"Typhoid\",\"orientation\":\"v\",\"showlegend\":true,\"textposition\":\"auto\",\"x\":[\"Typhoid\"],\"xaxis\":\"x\",\"y\":[0],\"yaxis\":\"y\",\"type\":\"bar\"},{\"alignmentgroup\":\"True\",\"hovertemplate\":\"Disease=%{x}<br>Symptom_3_ breathlessness=%{y}<extra></extra>\",\"legendgroup\":\"Varicose veins\",\"marker\":{\"color\":\"red\",\"pattern\":{\"shape\":\"\"},\"line\":{\"color\":\"red\",\"width\":1.5},\"opacity\":0.7},\"name\":\"Varicose veins\",\"offsetgroup\":\"Varicose veins\",\"orientation\":\"v\",\"showlegend\":true,\"textposition\":\"auto\",\"x\":[\"Varicose veins\"],\"xaxis\":\"x\",\"y\":[0],\"yaxis\":\"y\",\"type\":\"bar\"},{\"alignmentgroup\":\"True\",\"hovertemplate\":\"Disease=%{x}<br>Symptom_3_ breathlessness=%{y}<extra></extra>\",\"legendgroup\":\"hepatitis A\",\"marker\":{\"color\":\"red\",\"pattern\":{\"shape\":\"\"},\"line\":{\"color\":\"red\",\"width\":1.5},\"opacity\":0.7},\"name\":\"hepatitis A\",\"offsetgroup\":\"hepatitis A\",\"orientation\":\"v\",\"showlegend\":true,\"textposition\":\"auto\",\"x\":[\"hepatitis A\"],\"xaxis\":\"x\",\"y\":[0],\"yaxis\":\"y\",\"type\":\"bar\"}],                        {\"template\":{\"data\":{\"histogram2dcontour\":[{\"type\":\"histogram2dcontour\",\"colorbar\":{\"outlinewidth\":0,\"ticks\":\"\"},\"colorscale\":[[0.0,\"#0d0887\"],[0.1111111111111111,\"#46039f\"],[0.2222222222222222,\"#7201a8\"],[0.3333333333333333,\"#9c179e\"],[0.4444444444444444,\"#bd3786\"],[0.5555555555555556,\"#d8576b\"],[0.6666666666666666,\"#ed7953\"],[0.7777777777777778,\"#fb9f3a\"],[0.8888888888888888,\"#fdca26\"],[1.0,\"#f0f921\"]]}],\"choropleth\":[{\"type\":\"choropleth\",\"colorbar\":{\"outlinewidth\":0,\"ticks\":\"\"}}],\"histogram2d\":[{\"type\":\"histogram2d\",\"colorbar\":{\"outlinewidth\":0,\"ticks\":\"\"},\"colorscale\":[[0.0,\"#0d0887\"],[0.1111111111111111,\"#46039f\"],[0.2222222222222222,\"#7201a8\"],[0.3333333333333333,\"#9c179e\"],[0.4444444444444444,\"#bd3786\"],[0.5555555555555556,\"#d8576b\"],[0.6666666666666666,\"#ed7953\"],[0.7777777777777778,\"#fb9f3a\"],[0.8888888888888888,\"#fdca26\"],[1.0,\"#f0f921\"]]}],\"heatmap\":[{\"type\":\"heatmap\",\"colorbar\":{\"outlinewidth\":0,\"ticks\":\"\"},\"colorscale\":[[0.0,\"#0d0887\"],[0.1111111111111111,\"#46039f\"],[0.2222222222222222,\"#7201a8\"],[0.3333333333333333,\"#9c179e\"],[0.4444444444444444,\"#bd3786\"],[0.5555555555555556,\"#d8576b\"],[0.6666666666666666,\"#ed7953\"],[0.7777777777777778,\"#fb9f3a\"],[0.8888888888888888,\"#fdca26\"],[1.0,\"#f0f921\"]]}],\"heatmapgl\":[{\"type\":\"heatmapgl\",\"colorbar\":{\"outlinewidth\":0,\"ticks\":\"\"},\"colorscale\":[[0.0,\"#0d0887\"],[0.1111111111111111,\"#46039f\"],[0.2222222222222222,\"#7201a8\"],[0.3333333333333333,\"#9c179e\"],[0.4444444444444444,\"#bd3786\"],[0.5555555555555556,\"#d8576b\"],[0.6666666666666666,\"#ed7953\"],[0.7777777777777778,\"#fb9f3a\"],[0.8888888888888888,\"#fdca26\"],[1.0,\"#f0f921\"]]}],\"contourcarpet\":[{\"type\":\"contourcarpet\",\"colorbar\":{\"outlinewidth\":0,\"ticks\":\"\"}}],\"contour\":[{\"type\":\"contour\",\"colorbar\":{\"outlinewidth\":0,\"ticks\":\"\"},\"colorscale\":[[0.0,\"#0d0887\"],[0.1111111111111111,\"#46039f\"],[0.2222222222222222,\"#7201a8\"],[0.3333333333333333,\"#9c179e\"],[0.4444444444444444,\"#bd3786\"],[0.5555555555555556,\"#d8576b\"],[0.6666666666666666,\"#ed7953\"],[0.7777777777777778,\"#fb9f3a\"],[0.8888888888888888,\"#fdca26\"],[1.0,\"#f0f921\"]]}],\"surface\":[{\"type\":\"surface\",\"colorbar\":{\"outlinewidth\":0,\"ticks\":\"\"},\"colorscale\":[[0.0,\"#0d0887\"],[0.1111111111111111,\"#46039f\"],[0.2222222222222222,\"#7201a8\"],[0.3333333333333333,\"#9c179e\"],[0.4444444444444444,\"#bd3786\"],[0.5555555555555556,\"#d8576b\"],[0.6666666666666666,\"#ed7953\"],[0.7777777777777778,\"#fb9f3a\"],[0.8888888888888888,\"#fdca26\"],[1.0,\"#f0f921\"]]}],\"mesh3d\":[{\"type\":\"mesh3d\",\"colorbar\":{\"outlinewidth\":0,\"ticks\":\"\"}}],\"scatter\":[{\"fillpattern\":{\"fillmode\":\"overlay\",\"size\":10,\"solidity\":0.2},\"type\":\"scatter\"}],\"parcoords\":[{\"type\":\"parcoords\",\"line\":{\"colorbar\":{\"outlinewidth\":0,\"ticks\":\"\"}}}],\"scatterpolargl\":[{\"type\":\"scatterpolargl\",\"marker\":{\"colorbar\":{\"outlinewidth\":0,\"ticks\":\"\"}}}],\"bar\":[{\"error_x\":{\"color\":\"#2a3f5f\"},\"error_y\":{\"color\":\"#2a3f5f\"},\"marker\":{\"line\":{\"color\":\"#E5ECF6\",\"width\":0.5},\"pattern\":{\"fillmode\":\"overlay\",\"size\":10,\"solidity\":0.2}},\"type\":\"bar\"}],\"scattergeo\":[{\"type\":\"scattergeo\",\"marker\":{\"colorbar\":{\"outlinewidth\":0,\"ticks\":\"\"}}}],\"scatterpolar\":[{\"type\":\"scatterpolar\",\"marker\":{\"colorbar\":{\"outlinewidth\":0,\"ticks\":\"\"}}}],\"histogram\":[{\"marker\":{\"pattern\":{\"fillmode\":\"overlay\",\"size\":10,\"solidity\":0.2}},\"type\":\"histogram\"}],\"scattergl\":[{\"type\":\"scattergl\",\"marker\":{\"colorbar\":{\"outlinewidth\":0,\"ticks\":\"\"}}}],\"scatter3d\":[{\"type\":\"scatter3d\",\"line\":{\"colorbar\":{\"outlinewidth\":0,\"ticks\":\"\"}},\"marker\":{\"colorbar\":{\"outlinewidth\":0,\"ticks\":\"\"}}}],\"scattermapbox\":[{\"type\":\"scattermapbox\",\"marker\":{\"colorbar\":{\"outlinewidth\":0,\"ticks\":\"\"}}}],\"scatterternary\":[{\"type\":\"scatterternary\",\"marker\":{\"colorbar\":{\"outlinewidth\":0,\"ticks\":\"\"}}}],\"scattercarpet\":[{\"type\":\"scattercarpet\",\"marker\":{\"colorbar\":{\"outlinewidth\":0,\"ticks\":\"\"}}}],\"carpet\":[{\"aaxis\":{\"endlinecolor\":\"#2a3f5f\",\"gridcolor\":\"white\",\"linecolor\":\"white\",\"minorgridcolor\":\"white\",\"startlinecolor\":\"#2a3f5f\"},\"baxis\":{\"endlinecolor\":\"#2a3f5f\",\"gridcolor\":\"white\",\"linecolor\":\"white\",\"minorgridcolor\":\"white\",\"startlinecolor\":\"#2a3f5f\"},\"type\":\"carpet\"}],\"table\":[{\"cells\":{\"fill\":{\"color\":\"#EBF0F8\"},\"line\":{\"color\":\"white\"}},\"header\":{\"fill\":{\"color\":\"#C8D4E3\"},\"line\":{\"color\":\"white\"}},\"type\":\"table\"}],\"barpolar\":[{\"marker\":{\"line\":{\"color\":\"#E5ECF6\",\"width\":0.5},\"pattern\":{\"fillmode\":\"overlay\",\"size\":10,\"solidity\":0.2}},\"type\":\"barpolar\"}],\"pie\":[{\"automargin\":true,\"type\":\"pie\"}]},\"layout\":{\"autotypenumbers\":\"strict\",\"colorway\":[\"#636efa\",\"#EF553B\",\"#00cc96\",\"#ab63fa\",\"#FFA15A\",\"#19d3f3\",\"#FF6692\",\"#B6E880\",\"#FF97FF\",\"#FECB52\"],\"font\":{\"color\":\"#2a3f5f\"},\"hovermode\":\"closest\",\"hoverlabel\":{\"align\":\"left\"},\"paper_bgcolor\":\"white\",\"plot_bgcolor\":\"#E5ECF6\",\"polar\":{\"bgcolor\":\"#E5ECF6\",\"angularaxis\":{\"gridcolor\":\"white\",\"linecolor\":\"white\",\"ticks\":\"\"},\"radialaxis\":{\"gridcolor\":\"white\",\"linecolor\":\"white\",\"ticks\":\"\"}},\"ternary\":{\"bgcolor\":\"#E5ECF6\",\"aaxis\":{\"gridcolor\":\"white\",\"linecolor\":\"white\",\"ticks\":\"\"},\"baxis\":{\"gridcolor\":\"white\",\"linecolor\":\"white\",\"ticks\":\"\"},\"caxis\":{\"gridcolor\":\"white\",\"linecolor\":\"white\",\"ticks\":\"\"}},\"coloraxis\":{\"colorbar\":{\"outlinewidth\":0,\"ticks\":\"\"}},\"colorscale\":{\"sequential\":[[0.0,\"#0d0887\"],[0.1111111111111111,\"#46039f\"],[0.2222222222222222,\"#7201a8\"],[0.3333333333333333,\"#9c179e\"],[0.4444444444444444,\"#bd3786\"],[0.5555555555555556,\"#d8576b\"],[0.6666666666666666,\"#ed7953\"],[0.7777777777777778,\"#fb9f3a\"],[0.8888888888888888,\"#fdca26\"],[1.0,\"#f0f921\"]],\"sequentialminus\":[[0.0,\"#0d0887\"],[0.1111111111111111,\"#46039f\"],[0.2222222222222222,\"#7201a8\"],[0.3333333333333333,\"#9c179e\"],[0.4444444444444444,\"#bd3786\"],[0.5555555555555556,\"#d8576b\"],[0.6666666666666666,\"#ed7953\"],[0.7777777777777778,\"#fb9f3a\"],[0.8888888888888888,\"#fdca26\"],[1.0,\"#f0f921\"]],\"diverging\":[[0,\"#8e0152\"],[0.1,\"#c51b7d\"],[0.2,\"#de77ae\"],[0.3,\"#f1b6da\"],[0.4,\"#fde0ef\"],[0.5,\"#f7f7f7\"],[0.6,\"#e6f5d0\"],[0.7,\"#b8e186\"],[0.8,\"#7fbc41\"],[0.9,\"#4d9221\"],[1,\"#276419\"]]},\"xaxis\":{\"gridcolor\":\"white\",\"linecolor\":\"white\",\"ticks\":\"\",\"title\":{\"standoff\":15},\"zerolinecolor\":\"white\",\"automargin\":true,\"zerolinewidth\":2},\"yaxis\":{\"gridcolor\":\"white\",\"linecolor\":\"white\",\"ticks\":\"\",\"title\":{\"standoff\":15},\"zerolinecolor\":\"white\",\"automargin\":true,\"zerolinewidth\":2},\"scene\":{\"xaxis\":{\"backgroundcolor\":\"#E5ECF6\",\"gridcolor\":\"white\",\"linecolor\":\"white\",\"showbackground\":true,\"ticks\":\"\",\"zerolinecolor\":\"white\",\"gridwidth\":2},\"yaxis\":{\"backgroundcolor\":\"#E5ECF6\",\"gridcolor\":\"white\",\"linecolor\":\"white\",\"showbackground\":true,\"ticks\":\"\",\"zerolinecolor\":\"white\",\"gridwidth\":2},\"zaxis\":{\"backgroundcolor\":\"#E5ECF6\",\"gridcolor\":\"white\",\"linecolor\":\"white\",\"showbackground\":true,\"ticks\":\"\",\"zerolinecolor\":\"white\",\"gridwidth\":2}},\"shapedefaults\":{\"line\":{\"color\":\"#2a3f5f\"}},\"annotationdefaults\":{\"arrowcolor\":\"#2a3f5f\",\"arrowhead\":0,\"arrowwidth\":1},\"geo\":{\"bgcolor\":\"white\",\"landcolor\":\"#E5ECF6\",\"subunitcolor\":\"white\",\"showland\":true,\"showlakes\":true,\"lakecolor\":\"white\"},\"title\":{\"x\":0.05},\"mapbox\":{\"style\":\"light\"}}},\"xaxis\":{\"anchor\":\"y\",\"domain\":[0.0,1.0],\"title\":{\"text\":\"Disease\"},\"categoryorder\":\"array\",\"categoryarray\":[\"(vertigo) Paroymsal  Positional Vertigo\",\"Alcoholic hepatitis\",\"Arthritis\",\"Bronchial Asthma\",\"Cervical spondylosis\",\"Chicken pox\",\"Chronic cholestasis\",\"Common Cold\",\"Dengue\",\"Diabetes \",\"Dimorphic hemmorhoids(piles)\",\"Drug Reaction\",\"GERD\",\"Hepatitis B\",\"Hepatitis C\",\"Hepatitis D\",\"Hepatitis E\",\"Hypertension \",\"Hyperthyroidism\",\"Hypoglycemia\",\"Hypothyroidism\",\"Impetigo\",\"Jaundice\",\"Malaria\",\"Migraine\",\"Osteoarthristis\",\"Peptic ulcer diseae\",\"Pneumonia\",\"Psoriasis\",\"Tuberculosis\",\"Typhoid\",\"Varicose veins\",\"hepatitis A\"]},\"yaxis\":{\"anchor\":\"x\",\"domain\":[0.0,1.0],\"title\":{\"text\":\"Symptom_1_ fatigue\"}},\"legend\":{\"title\":{\"text\":\"Disease\"},\"tracegroupgap\":0},\"margin\":{\"t\":60},\"barmode\":\"relative\",\"height\":400,\"title\":{\"text\":\"breathlessness_Disease_Asso\"},\"coloraxis\":{\"colorbar\":{\"title\":{\"text\":\"Cough_Disease_Asso\"}}}},                        {\"responsive\": true}                    ).then(function(){\n",
       "                            \n",
       "var gd = document.getElementById('ac74259f-e496-4688-9557-72bb4b52b459');\n",
       "var x = new MutationObserver(function (mutations, observer) {{\n",
       "        var display = window.getComputedStyle(gd).display;\n",
       "        if (!display || display === 'none') {{\n",
       "            console.log([gd, 'removed!']);\n",
       "            Plotly.purge(gd);\n",
       "            observer.disconnect();\n",
       "        }}\n",
       "}});\n",
       "\n",
       "// Listen for the removal of the full notebook cells\n",
       "var notebookContainer = gd.closest('#notebook-container');\n",
       "if (notebookContainer) {{\n",
       "    x.observe(notebookContainer, {childList: true});\n",
       "}}\n",
       "\n",
       "// Listen for the clearing of the current output cell\n",
       "var outputEl = gd.closest('.output');\n",
       "if (outputEl) {{\n",
       "    x.observe(outputEl, {childList: true});\n",
       "}}\n",
       "\n",
       "                        })                };                });            </script>        </div>"
      ]
     },
     "metadata": {},
     "output_type": "display_data"
    }
   ],
   "source": [
    "#Bar chart\n",
    "fig = px.bar(P_data, x=\"Disease\", y=\"Symptom_3_ breathlessness\", color=\"Disease\", height=400)\n",
    "fig.update_layout(title_text=\"breathlessness_Disease_Asso\", xaxis_title=\"Disease\", yaxis_title=\"Symptom_1_ fatigue\")\n",
    "fig.update_traces(marker=dict(color='red', opacity=0.7, line=dict(color='red', width=1.5)))\n",
    "fig.update_layout(coloraxis_colorbar=dict(title=\"Cough_Disease_Asso\"))\n",
    "fig.show()"
   ]
  },
  {
   "cell_type": "code",
   "execution_count": 27,
   "id": "fcc02bfe-5b13-4ead-83c3-6cc38d318c84",
   "metadata": {},
   "outputs": [
    {
     "data": {
      "application/vnd.plotly.v1+json": {
       "config": {
        "plotlyServerURL": "https://plot.ly"
       },
       "data": [
        {
         "customdata": [
          [
           "(vertigo) Paroymsal  Positional Vertigo"
          ],
          [
           "Alcoholic hepatitis"
          ],
          [
           "Arthritis"
          ],
          [
           "Bronchial Asthma"
          ],
          [
           "Cervical spondylosis"
          ],
          [
           "Chicken pox"
          ],
          [
           "Chronic cholestasis"
          ],
          [
           "Common Cold"
          ],
          [
           "Dengue"
          ],
          [
           "Diabetes "
          ],
          [
           "Dimorphic hemmorhoids(piles)"
          ],
          [
           "Drug Reaction"
          ],
          [
           "GERD"
          ],
          [
           "Hepatitis B"
          ],
          [
           "Hepatitis C"
          ],
          [
           "Hepatitis D"
          ],
          [
           "Hepatitis E"
          ],
          [
           "Hypertension "
          ],
          [
           "Hyperthyroidism"
          ],
          [
           "Hypoglycemia"
          ],
          [
           "Hypothyroidism"
          ],
          [
           "Impetigo"
          ],
          [
           "Jaundice"
          ],
          [
           "Malaria"
          ],
          [
           "Migraine"
          ],
          [
           "Osteoarthristis"
          ],
          [
           "Peptic ulcer diseae"
          ],
          [
           "Pneumonia"
          ],
          [
           "Psoriasis"
          ],
          [
           "Tuberculosis"
          ],
          [
           "Typhoid"
          ],
          [
           "Varicose veins"
          ],
          [
           "hepatitis A"
          ]
         ],
         "domain": {
          "x": [
           0,
           1
          ],
          "y": [
           0,
           1
          ]
         },
         "hovertemplate": "Disease=%{customdata[0]}<br>Symptom_1_ chills=%{value}<extra></extra>",
         "labels": [
          "(vertigo) Paroymsal  Positional Vertigo",
          "Alcoholic hepatitis",
          "Arthritis",
          "Bronchial Asthma",
          "Cervical spondylosis",
          "Chicken pox",
          "Chronic cholestasis",
          "Common Cold",
          "Dengue",
          "Diabetes ",
          "Dimorphic hemmorhoids(piles)",
          "Drug Reaction",
          "GERD",
          "Hepatitis B",
          "Hepatitis C",
          "Hepatitis D",
          "Hepatitis E",
          "Hypertension ",
          "Hyperthyroidism",
          "Hypoglycemia",
          "Hypothyroidism",
          "Impetigo",
          "Jaundice",
          "Malaria",
          "Migraine",
          "Osteoarthristis",
          "Peptic ulcer diseae",
          "Pneumonia",
          "Psoriasis",
          "Tuberculosis",
          "Typhoid",
          "Varicose veins",
          "hepatitis A"
         ],
         "legendgroup": "",
         "marker": {
          "colors": [
           "#636efa",
           "#EF553B",
           "#00cc96",
           "#ab63fa",
           "#FFA15A",
           "#19d3f3",
           "#FF6692",
           "#B6E880",
           "#FF97FF",
           "#FECB52",
           "#636efa",
           "#EF553B",
           "#00cc96",
           "#ab63fa",
           "#FFA15A",
           "#19d3f3",
           "#FF6692",
           "#B6E880",
           "#FF97FF",
           "#FECB52",
           "#636efa",
           "#EF553B",
           "#00cc96",
           "#ab63fa",
           "#FFA15A",
           "#19d3f3",
           "#FF6692",
           "#B6E880",
           "#FF97FF",
           "#FECB52",
           "#636efa",
           "#EF553B",
           "#00cc96"
          ]
         },
         "name": "",
         "showlegend": true,
         "textinfo": "percent+label",
         "textposition": "inside",
         "type": "pie",
         "values": [
          0,
          0,
          0,
          0,
          0,
          0,
          0,
          6,
          6,
          0,
          0,
          0,
          0,
          0,
          0,
          0,
          0,
          0,
          0,
          0,
          0,
          0,
          0,
          114,
          0,
          0,
          0,
          114,
          0,
          114,
          120,
          0,
          0
         ]
        }
       ],
       "layout": {
        "autosize": true,
        "legend": {
         "tracegroupgap": 0
        },
        "margin": {
         "t": 60
        },
        "template": {
         "data": {
          "bar": [
           {
            "error_x": {
             "color": "#2a3f5f"
            },
            "error_y": {
             "color": "#2a3f5f"
            },
            "marker": {
             "line": {
              "color": "#E5ECF6",
              "width": 0.5
             },
             "pattern": {
              "fillmode": "overlay",
              "size": 10,
              "solidity": 0.2
             }
            },
            "type": "bar"
           }
          ],
          "barpolar": [
           {
            "marker": {
             "line": {
              "color": "#E5ECF6",
              "width": 0.5
             },
             "pattern": {
              "fillmode": "overlay",
              "size": 10,
              "solidity": 0.2
             }
            },
            "type": "barpolar"
           }
          ],
          "carpet": [
           {
            "aaxis": {
             "endlinecolor": "#2a3f5f",
             "gridcolor": "white",
             "linecolor": "white",
             "minorgridcolor": "white",
             "startlinecolor": "#2a3f5f"
            },
            "baxis": {
             "endlinecolor": "#2a3f5f",
             "gridcolor": "white",
             "linecolor": "white",
             "minorgridcolor": "white",
             "startlinecolor": "#2a3f5f"
            },
            "type": "carpet"
           }
          ],
          "choropleth": [
           {
            "colorbar": {
             "outlinewidth": 0,
             "ticks": ""
            },
            "type": "choropleth"
           }
          ],
          "contour": [
           {
            "colorbar": {
             "outlinewidth": 0,
             "ticks": ""
            },
            "colorscale": [
             [
              0,
              "#0d0887"
             ],
             [
              0.1111111111111111,
              "#46039f"
             ],
             [
              0.2222222222222222,
              "#7201a8"
             ],
             [
              0.3333333333333333,
              "#9c179e"
             ],
             [
              0.4444444444444444,
              "#bd3786"
             ],
             [
              0.5555555555555556,
              "#d8576b"
             ],
             [
              0.6666666666666666,
              "#ed7953"
             ],
             [
              0.7777777777777778,
              "#fb9f3a"
             ],
             [
              0.8888888888888888,
              "#fdca26"
             ],
             [
              1,
              "#f0f921"
             ]
            ],
            "type": "contour"
           }
          ],
          "contourcarpet": [
           {
            "colorbar": {
             "outlinewidth": 0,
             "ticks": ""
            },
            "type": "contourcarpet"
           }
          ],
          "heatmap": [
           {
            "colorbar": {
             "outlinewidth": 0,
             "ticks": ""
            },
            "colorscale": [
             [
              0,
              "#0d0887"
             ],
             [
              0.1111111111111111,
              "#46039f"
             ],
             [
              0.2222222222222222,
              "#7201a8"
             ],
             [
              0.3333333333333333,
              "#9c179e"
             ],
             [
              0.4444444444444444,
              "#bd3786"
             ],
             [
              0.5555555555555556,
              "#d8576b"
             ],
             [
              0.6666666666666666,
              "#ed7953"
             ],
             [
              0.7777777777777778,
              "#fb9f3a"
             ],
             [
              0.8888888888888888,
              "#fdca26"
             ],
             [
              1,
              "#f0f921"
             ]
            ],
            "type": "heatmap"
           }
          ],
          "heatmapgl": [
           {
            "colorbar": {
             "outlinewidth": 0,
             "ticks": ""
            },
            "colorscale": [
             [
              0,
              "#0d0887"
             ],
             [
              0.1111111111111111,
              "#46039f"
             ],
             [
              0.2222222222222222,
              "#7201a8"
             ],
             [
              0.3333333333333333,
              "#9c179e"
             ],
             [
              0.4444444444444444,
              "#bd3786"
             ],
             [
              0.5555555555555556,
              "#d8576b"
             ],
             [
              0.6666666666666666,
              "#ed7953"
             ],
             [
              0.7777777777777778,
              "#fb9f3a"
             ],
             [
              0.8888888888888888,
              "#fdca26"
             ],
             [
              1,
              "#f0f921"
             ]
            ],
            "type": "heatmapgl"
           }
          ],
          "histogram": [
           {
            "marker": {
             "pattern": {
              "fillmode": "overlay",
              "size": 10,
              "solidity": 0.2
             }
            },
            "type": "histogram"
           }
          ],
          "histogram2d": [
           {
            "colorbar": {
             "outlinewidth": 0,
             "ticks": ""
            },
            "colorscale": [
             [
              0,
              "#0d0887"
             ],
             [
              0.1111111111111111,
              "#46039f"
             ],
             [
              0.2222222222222222,
              "#7201a8"
             ],
             [
              0.3333333333333333,
              "#9c179e"
             ],
             [
              0.4444444444444444,
              "#bd3786"
             ],
             [
              0.5555555555555556,
              "#d8576b"
             ],
             [
              0.6666666666666666,
              "#ed7953"
             ],
             [
              0.7777777777777778,
              "#fb9f3a"
             ],
             [
              0.8888888888888888,
              "#fdca26"
             ],
             [
              1,
              "#f0f921"
             ]
            ],
            "type": "histogram2d"
           }
          ],
          "histogram2dcontour": [
           {
            "colorbar": {
             "outlinewidth": 0,
             "ticks": ""
            },
            "colorscale": [
             [
              0,
              "#0d0887"
             ],
             [
              0.1111111111111111,
              "#46039f"
             ],
             [
              0.2222222222222222,
              "#7201a8"
             ],
             [
              0.3333333333333333,
              "#9c179e"
             ],
             [
              0.4444444444444444,
              "#bd3786"
             ],
             [
              0.5555555555555556,
              "#d8576b"
             ],
             [
              0.6666666666666666,
              "#ed7953"
             ],
             [
              0.7777777777777778,
              "#fb9f3a"
             ],
             [
              0.8888888888888888,
              "#fdca26"
             ],
             [
              1,
              "#f0f921"
             ]
            ],
            "type": "histogram2dcontour"
           }
          ],
          "mesh3d": [
           {
            "colorbar": {
             "outlinewidth": 0,
             "ticks": ""
            },
            "type": "mesh3d"
           }
          ],
          "parcoords": [
           {
            "line": {
             "colorbar": {
              "outlinewidth": 0,
              "ticks": ""
             }
            },
            "type": "parcoords"
           }
          ],
          "pie": [
           {
            "automargin": true,
            "type": "pie"
           }
          ],
          "scatter": [
           {
            "fillpattern": {
             "fillmode": "overlay",
             "size": 10,
             "solidity": 0.2
            },
            "type": "scatter"
           }
          ],
          "scatter3d": [
           {
            "line": {
             "colorbar": {
              "outlinewidth": 0,
              "ticks": ""
             }
            },
            "marker": {
             "colorbar": {
              "outlinewidth": 0,
              "ticks": ""
             }
            },
            "type": "scatter3d"
           }
          ],
          "scattercarpet": [
           {
            "marker": {
             "colorbar": {
              "outlinewidth": 0,
              "ticks": ""
             }
            },
            "type": "scattercarpet"
           }
          ],
          "scattergeo": [
           {
            "marker": {
             "colorbar": {
              "outlinewidth": 0,
              "ticks": ""
             }
            },
            "type": "scattergeo"
           }
          ],
          "scattergl": [
           {
            "marker": {
             "colorbar": {
              "outlinewidth": 0,
              "ticks": ""
             }
            },
            "type": "scattergl"
           }
          ],
          "scattermapbox": [
           {
            "marker": {
             "colorbar": {
              "outlinewidth": 0,
              "ticks": ""
             }
            },
            "type": "scattermapbox"
           }
          ],
          "scatterpolar": [
           {
            "marker": {
             "colorbar": {
              "outlinewidth": 0,
              "ticks": ""
             }
            },
            "type": "scatterpolar"
           }
          ],
          "scatterpolargl": [
           {
            "marker": {
             "colorbar": {
              "outlinewidth": 0,
              "ticks": ""
             }
            },
            "type": "scatterpolargl"
           }
          ],
          "scatterternary": [
           {
            "marker": {
             "colorbar": {
              "outlinewidth": 0,
              "ticks": ""
             }
            },
            "type": "scatterternary"
           }
          ],
          "surface": [
           {
            "colorbar": {
             "outlinewidth": 0,
             "ticks": ""
            },
            "colorscale": [
             [
              0,
              "#0d0887"
             ],
             [
              0.1111111111111111,
              "#46039f"
             ],
             [
              0.2222222222222222,
              "#7201a8"
             ],
             [
              0.3333333333333333,
              "#9c179e"
             ],
             [
              0.4444444444444444,
              "#bd3786"
             ],
             [
              0.5555555555555556,
              "#d8576b"
             ],
             [
              0.6666666666666666,
              "#ed7953"
             ],
             [
              0.7777777777777778,
              "#fb9f3a"
             ],
             [
              0.8888888888888888,
              "#fdca26"
             ],
             [
              1,
              "#f0f921"
             ]
            ],
            "type": "surface"
           }
          ],
          "table": [
           {
            "cells": {
             "fill": {
              "color": "#EBF0F8"
             },
             "line": {
              "color": "white"
             }
            },
            "header": {
             "fill": {
              "color": "#C8D4E3"
             },
             "line": {
              "color": "white"
             }
            },
            "type": "table"
           }
          ]
         },
         "layout": {
          "annotationdefaults": {
           "arrowcolor": "#2a3f5f",
           "arrowhead": 0,
           "arrowwidth": 1
          },
          "autotypenumbers": "strict",
          "coloraxis": {
           "colorbar": {
            "outlinewidth": 0,
            "ticks": ""
           }
          },
          "colorscale": {
           "diverging": [
            [
             0,
             "#8e0152"
            ],
            [
             0.1,
             "#c51b7d"
            ],
            [
             0.2,
             "#de77ae"
            ],
            [
             0.3,
             "#f1b6da"
            ],
            [
             0.4,
             "#fde0ef"
            ],
            [
             0.5,
             "#f7f7f7"
            ],
            [
             0.6,
             "#e6f5d0"
            ],
            [
             0.7,
             "#b8e186"
            ],
            [
             0.8,
             "#7fbc41"
            ],
            [
             0.9,
             "#4d9221"
            ],
            [
             1,
             "#276419"
            ]
           ],
           "sequential": [
            [
             0,
             "#0d0887"
            ],
            [
             0.1111111111111111,
             "#46039f"
            ],
            [
             0.2222222222222222,
             "#7201a8"
            ],
            [
             0.3333333333333333,
             "#9c179e"
            ],
            [
             0.4444444444444444,
             "#bd3786"
            ],
            [
             0.5555555555555556,
             "#d8576b"
            ],
            [
             0.6666666666666666,
             "#ed7953"
            ],
            [
             0.7777777777777778,
             "#fb9f3a"
            ],
            [
             0.8888888888888888,
             "#fdca26"
            ],
            [
             1,
             "#f0f921"
            ]
           ],
           "sequentialminus": [
            [
             0,
             "#0d0887"
            ],
            [
             0.1111111111111111,
             "#46039f"
            ],
            [
             0.2222222222222222,
             "#7201a8"
            ],
            [
             0.3333333333333333,
             "#9c179e"
            ],
            [
             0.4444444444444444,
             "#bd3786"
            ],
            [
             0.5555555555555556,
             "#d8576b"
            ],
            [
             0.6666666666666666,
             "#ed7953"
            ],
            [
             0.7777777777777778,
             "#fb9f3a"
            ],
            [
             0.8888888888888888,
             "#fdca26"
            ],
            [
             1,
             "#f0f921"
            ]
           ]
          },
          "colorway": [
           "#636efa",
           "#EF553B",
           "#00cc96",
           "#ab63fa",
           "#FFA15A",
           "#19d3f3",
           "#FF6692",
           "#B6E880",
           "#FF97FF",
           "#FECB52"
          ],
          "font": {
           "color": "#2a3f5f"
          },
          "geo": {
           "bgcolor": "white",
           "lakecolor": "white",
           "landcolor": "#E5ECF6",
           "showlakes": true,
           "showland": true,
           "subunitcolor": "white"
          },
          "hoverlabel": {
           "align": "left"
          },
          "hovermode": "closest",
          "mapbox": {
           "style": "light"
          },
          "paper_bgcolor": "white",
          "plot_bgcolor": "#E5ECF6",
          "polar": {
           "angularaxis": {
            "gridcolor": "white",
            "linecolor": "white",
            "ticks": ""
           },
           "bgcolor": "#E5ECF6",
           "radialaxis": {
            "gridcolor": "white",
            "linecolor": "white",
            "ticks": ""
           }
          },
          "scene": {
           "xaxis": {
            "backgroundcolor": "#E5ECF6",
            "gridcolor": "white",
            "gridwidth": 2,
            "linecolor": "white",
            "showbackground": true,
            "ticks": "",
            "zerolinecolor": "white"
           },
           "yaxis": {
            "backgroundcolor": "#E5ECF6",
            "gridcolor": "white",
            "gridwidth": 2,
            "linecolor": "white",
            "showbackground": true,
            "ticks": "",
            "zerolinecolor": "white"
           },
           "zaxis": {
            "backgroundcolor": "#E5ECF6",
            "gridcolor": "white",
            "gridwidth": 2,
            "linecolor": "white",
            "showbackground": true,
            "ticks": "",
            "zerolinecolor": "white"
           }
          },
          "shapedefaults": {
           "line": {
            "color": "#2a3f5f"
           }
          },
          "ternary": {
           "aaxis": {
            "gridcolor": "white",
            "linecolor": "white",
            "ticks": ""
           },
           "baxis": {
            "gridcolor": "white",
            "linecolor": "white",
            "ticks": ""
           },
           "bgcolor": "#E5ECF6",
           "caxis": {
            "gridcolor": "white",
            "linecolor": "white",
            "ticks": ""
           }
          },
          "title": {
           "x": 0.05
          },
          "xaxis": {
           "automargin": true,
           "gridcolor": "white",
           "linecolor": "white",
           "ticks": "",
           "title": {
            "standoff": 15
           },
           "zerolinecolor": "white",
           "zerolinewidth": 2
          },
          "yaxis": {
           "automargin": true,
           "gridcolor": "white",
           "linecolor": "white",
           "ticks": "",
           "title": {
            "standoff": 15
           },
           "zerolinecolor": "white",
           "zerolinewidth": 2
          }
         }
        },
        "uniformtext": {
         "minsize": 14,
         "mode": "hide"
        }
       }
      },
      "image/png": "[encoded data removed]",
      "text/html": [
       "<div>                            <div id=\"4a694f1b-4f33-4f52-807f-14df50be87cd\" class=\"plotly-graph-div\" style=\"height:525px; width:100%;\"></div>            <script type=\"text/javascript\">                require([\"plotly\"], function(Plotly) {                    window.PLOTLYENV=window.PLOTLYENV || {};                                    if (document.getElementById(\"4a694f1b-4f33-4f52-807f-14df50be87cd\")) {                    Plotly.newPlot(                        \"4a694f1b-4f33-4f52-807f-14df50be87cd\",                        [{\"customdata\":[[\"(vertigo) Paroymsal  Positional Vertigo\"],[\"Alcoholic hepatitis\"],[\"Arthritis\"],[\"Bronchial Asthma\"],[\"Cervical spondylosis\"],[\"Chicken pox\"],[\"Chronic cholestasis\"],[\"Common Cold\"],[\"Dengue\"],[\"Diabetes \"],[\"Dimorphic hemmorhoids(piles)\"],[\"Drug Reaction\"],[\"GERD\"],[\"Hepatitis B\"],[\"Hepatitis C\"],[\"Hepatitis D\"],[\"Hepatitis E\"],[\"Hypertension \"],[\"Hyperthyroidism\"],[\"Hypoglycemia\"],[\"Hypothyroidism\"],[\"Impetigo\"],[\"Jaundice\"],[\"Malaria\"],[\"Migraine\"],[\"Osteoarthristis\"],[\"Peptic ulcer diseae\"],[\"Pneumonia\"],[\"Psoriasis\"],[\"Tuberculosis\"],[\"Typhoid\"],[\"Varicose veins\"],[\"hepatitis A\"]],\"domain\":{\"x\":[0.0,1.0],\"y\":[0.0,1.0]},\"hovertemplate\":\"Disease=%{customdata[0]}<br>Symptom_1_ chills=%{value}<extra></extra>\",\"labels\":[\"(vertigo) Paroymsal  Positional Vertigo\",\"Alcoholic hepatitis\",\"Arthritis\",\"Bronchial Asthma\",\"Cervical spondylosis\",\"Chicken pox\",\"Chronic cholestasis\",\"Common Cold\",\"Dengue\",\"Diabetes \",\"Dimorphic hemmorhoids(piles)\",\"Drug Reaction\",\"GERD\",\"Hepatitis B\",\"Hepatitis C\",\"Hepatitis D\",\"Hepatitis E\",\"Hypertension \",\"Hyperthyroidism\",\"Hypoglycemia\",\"Hypothyroidism\",\"Impetigo\",\"Jaundice\",\"Malaria\",\"Migraine\",\"Osteoarthristis\",\"Peptic ulcer diseae\",\"Pneumonia\",\"Psoriasis\",\"Tuberculosis\",\"Typhoid\",\"Varicose veins\",\"hepatitis A\"],\"legendgroup\":\"\",\"marker\":{\"colors\":[\"#636efa\",\"#EF553B\",\"#00cc96\",\"#ab63fa\",\"#FFA15A\",\"#19d3f3\",\"#FF6692\",\"#B6E880\",\"#FF97FF\",\"#FECB52\",\"#636efa\",\"#EF553B\",\"#00cc96\",\"#ab63fa\",\"#FFA15A\",\"#19d3f3\",\"#FF6692\",\"#B6E880\",\"#FF97FF\",\"#FECB52\",\"#636efa\",\"#EF553B\",\"#00cc96\",\"#ab63fa\",\"#FFA15A\",\"#19d3f3\",\"#FF6692\",\"#B6E880\",\"#FF97FF\",\"#FECB52\",\"#636efa\",\"#EF553B\",\"#00cc96\"]},\"name\":\"\",\"showlegend\":true,\"values\":[0,0,0,0,0,0,0,6,6,0,0,0,0,0,0,0,0,0,0,0,0,0,0,114,0,0,0,114,0,114,120,0,0],\"type\":\"pie\",\"textinfo\":\"percent+label\",\"textposition\":\"inside\"}],                        {\"template\":{\"data\":{\"histogram2dcontour\":[{\"type\":\"histogram2dcontour\",\"colorbar\":{\"outlinewidth\":0,\"ticks\":\"\"},\"colorscale\":[[0.0,\"#0d0887\"],[0.1111111111111111,\"#46039f\"],[0.2222222222222222,\"#7201a8\"],[0.3333333333333333,\"#9c179e\"],[0.4444444444444444,\"#bd3786\"],[0.5555555555555556,\"#d8576b\"],[0.6666666666666666,\"#ed7953\"],[0.7777777777777778,\"#fb9f3a\"],[0.8888888888888888,\"#fdca26\"],[1.0,\"#f0f921\"]]}],\"choropleth\":[{\"type\":\"choropleth\",\"colorbar\":{\"outlinewidth\":0,\"ticks\":\"\"}}],\"histogram2d\":[{\"type\":\"histogram2d\",\"colorbar\":{\"outlinewidth\":0,\"ticks\":\"\"},\"colorscale\":[[0.0,\"#0d0887\"],[0.1111111111111111,\"#46039f\"],[0.2222222222222222,\"#7201a8\"],[0.3333333333333333,\"#9c179e\"],[0.4444444444444444,\"#bd3786\"],[0.5555555555555556,\"#d8576b\"],[0.6666666666666666,\"#ed7953\"],[0.7777777777777778,\"#fb9f3a\"],[0.8888888888888888,\"#fdca26\"],[1.0,\"#f0f921\"]]}],\"heatmap\":[{\"type\":\"heatmap\",\"colorbar\":{\"outlinewidth\":0,\"ticks\":\"\"},\"colorscale\":[[0.0,\"#0d0887\"],[0.1111111111111111,\"#46039f\"],[0.2222222222222222,\"#7201a8\"],[0.3333333333333333,\"#9c179e\"],[0.4444444444444444,\"#bd3786\"],[0.5555555555555556,\"#d8576b\"],[0.6666666666666666,\"#ed7953\"],[0.7777777777777778,\"#fb9f3a\"],[0.8888888888888888,\"#fdca26\"],[1.0,\"#f0f921\"]]}],\"heatmapgl\":[{\"type\":\"heatmapgl\",\"colorbar\":{\"outlinewidth\":0,\"ticks\":\"\"},\"colorscale\":[[0.0,\"#0d0887\"],[0.1111111111111111,\"#46039f\"],[0.2222222222222222,\"#7201a8\"],[0.3333333333333333,\"#9c179e\"],[0.4444444444444444,\"#bd3786\"],[0.5555555555555556,\"#d8576b\"],[0.6666666666666666,\"#ed7953\"],[0.7777777777777778,\"#fb9f3a\"],[0.8888888888888888,\"#fdca26\"],[1.0,\"#f0f921\"]]}],\"contourcarpet\":[{\"type\":\"contourcarpet\",\"colorbar\":{\"outlinewidth\":0,\"ticks\":\"\"}}],\"contour\":[{\"type\":\"contour\",\"colorbar\":{\"outlinewidth\":0,\"ticks\":\"\"},\"colorscale\":[[0.0,\"#0d0887\"],[0.1111111111111111,\"#46039f\"],[0.2222222222222222,\"#7201a8\"],[0.3333333333333333,\"#9c179e\"],[0.4444444444444444,\"#bd3786\"],[0.5555555555555556,\"#d8576b\"],[0.6666666666666666,\"#ed7953\"],[0.7777777777777778,\"#fb9f3a\"],[0.8888888888888888,\"#fdca26\"],[1.0,\"#f0f921\"]]}],\"surface\":[{\"type\":\"surface\",\"colorbar\":{\"outlinewidth\":0,\"ticks\":\"\"},\"colorscale\":[[0.0,\"#0d0887\"],[0.1111111111111111,\"#46039f\"],[0.2222222222222222,\"#7201a8\"],[0.3333333333333333,\"#9c179e\"],[0.4444444444444444,\"#bd3786\"],[0.5555555555555556,\"#d8576b\"],[0.6666666666666666,\"#ed7953\"],[0.7777777777777778,\"#fb9f3a\"],[0.8888888888888888,\"#fdca26\"],[1.0,\"#f0f921\"]]}],\"mesh3d\":[{\"type\":\"mesh3d\",\"colorbar\":{\"outlinewidth\":0,\"ticks\":\"\"}}],\"scatter\":[{\"fillpattern\":{\"fillmode\":\"overlay\",\"size\":10,\"solidity\":0.2},\"type\":\"scatter\"}],\"parcoords\":[{\"type\":\"parcoords\",\"line\":{\"colorbar\":{\"outlinewidth\":0,\"ticks\":\"\"}}}],\"scatterpolargl\":[{\"type\":\"scatterpolargl\",\"marker\":{\"colorbar\":{\"outlinewidth\":0,\"ticks\":\"\"}}}],\"bar\":[{\"error_x\":{\"color\":\"#2a3f5f\"},\"error_y\":{\"color\":\"#2a3f5f\"},\"marker\":{\"line\":{\"color\":\"#E5ECF6\",\"width\":0.5},\"pattern\":{\"fillmode\":\"overlay\",\"size\":10,\"solidity\":0.2}},\"type\":\"bar\"}],\"scattergeo\":[{\"type\":\"scattergeo\",\"marker\":{\"colorbar\":{\"outlinewidth\":0,\"ticks\":\"\"}}}],\"scatterpolar\":[{\"type\":\"scatterpolar\",\"marker\":{\"colorbar\":{\"outlinewidth\":0,\"ticks\":\"\"}}}],\"histogram\":[{\"marker\":{\"pattern\":{\"fillmode\":\"overlay\",\"size\":10,\"solidity\":0.2}},\"type\":\"histogram\"}],\"scattergl\":[{\"type\":\"scattergl\",\"marker\":{\"colorbar\":{\"outlinewidth\":0,\"ticks\":\"\"}}}],\"scatter3d\":[{\"type\":\"scatter3d\",\"line\":{\"colorbar\":{\"outlinewidth\":0,\"ticks\":\"\"}},\"marker\":{\"colorbar\":{\"outlinewidth\":0,\"ticks\":\"\"}}}],\"scattermapbox\":[{\"type\":\"scattermapbox\",\"marker\":{\"colorbar\":{\"outlinewidth\":0,\"ticks\":\"\"}}}],\"scatterternary\":[{\"type\":\"scatterternary\",\"marker\":{\"colorbar\":{\"outlinewidth\":0,\"ticks\":\"\"}}}],\"scattercarpet\":[{\"type\":\"scattercarpet\",\"marker\":{\"colorbar\":{\"outlinewidth\":0,\"ticks\":\"\"}}}],\"carpet\":[{\"aaxis\":{\"endlinecolor\":\"#2a3f5f\",\"gridcolor\":\"white\",\"linecolor\":\"white\",\"minorgridcolor\":\"white\",\"startlinecolor\":\"#2a3f5f\"},\"baxis\":{\"endlinecolor\":\"#2a3f5f\",\"gridcolor\":\"white\",\"linecolor\":\"white\",\"minorgridcolor\":\"white\",\"startlinecolor\":\"#2a3f5f\"},\"type\":\"carpet\"}],\"table\":[{\"cells\":{\"fill\":{\"color\":\"#EBF0F8\"},\"line\":{\"color\":\"white\"}},\"header\":{\"fill\":{\"color\":\"#C8D4E3\"},\"line\":{\"color\":\"white\"}},\"type\":\"table\"}],\"barpolar\":[{\"marker\":{\"line\":{\"color\":\"#E5ECF6\",\"width\":0.5},\"pattern\":{\"fillmode\":\"overlay\",\"size\":10,\"solidity\":0.2}},\"type\":\"barpolar\"}],\"pie\":[{\"automargin\":true,\"type\":\"pie\"}]},\"layout\":{\"autotypenumbers\":\"strict\",\"colorway\":[\"#636efa\",\"#EF553B\",\"#00cc96\",\"#ab63fa\",\"#FFA15A\",\"#19d3f3\",\"#FF6692\",\"#B6E880\",\"#FF97FF\",\"#FECB52\"],\"font\":{\"color\":\"#2a3f5f\"},\"hovermode\":\"closest\",\"hoverlabel\":{\"align\":\"left\"},\"paper_bgcolor\":\"white\",\"plot_bgcolor\":\"#E5ECF6\",\"polar\":{\"bgcolor\":\"#E5ECF6\",\"angularaxis\":{\"gridcolor\":\"white\",\"linecolor\":\"white\",\"ticks\":\"\"},\"radialaxis\":{\"gridcolor\":\"white\",\"linecolor\":\"white\",\"ticks\":\"\"}},\"ternary\":{\"bgcolor\":\"#E5ECF6\",\"aaxis\":{\"gridcolor\":\"white\",\"linecolor\":\"white\",\"ticks\":\"\"},\"baxis\":{\"gridcolor\":\"white\",\"linecolor\":\"white\",\"ticks\":\"\"},\"caxis\":{\"gridcolor\":\"white\",\"linecolor\":\"white\",\"ticks\":\"\"}},\"coloraxis\":{\"colorbar\":{\"outlinewidth\":0,\"ticks\":\"\"}},\"colorscale\":{\"sequential\":[[0.0,\"#0d0887\"],[0.1111111111111111,\"#46039f\"],[0.2222222222222222,\"#7201a8\"],[0.3333333333333333,\"#9c179e\"],[0.4444444444444444,\"#bd3786\"],[0.5555555555555556,\"#d8576b\"],[0.6666666666666666,\"#ed7953\"],[0.7777777777777778,\"#fb9f3a\"],[0.8888888888888888,\"#fdca26\"],[1.0,\"#f0f921\"]],\"sequentialminus\":[[0.0,\"#0d0887\"],[0.1111111111111111,\"#46039f\"],[0.2222222222222222,\"#7201a8\"],[0.3333333333333333,\"#9c179e\"],[0.4444444444444444,\"#bd3786\"],[0.5555555555555556,\"#d8576b\"],[0.6666666666666666,\"#ed7953\"],[0.7777777777777778,\"#fb9f3a\"],[0.8888888888888888,\"#fdca26\"],[1.0,\"#f0f921\"]],\"diverging\":[[0,\"#8e0152\"],[0.1,\"#c51b7d\"],[0.2,\"#de77ae\"],[0.3,\"#f1b6da\"],[0.4,\"#fde0ef\"],[0.5,\"#f7f7f7\"],[0.6,\"#e6f5d0\"],[0.7,\"#b8e186\"],[0.8,\"#7fbc41\"],[0.9,\"#4d9221\"],[1,\"#276419\"]]},\"xaxis\":{\"gridcolor\":\"white\",\"linecolor\":\"white\",\"ticks\":\"\",\"title\":{\"standoff\":15},\"zerolinecolor\":\"white\",\"automargin\":true,\"zerolinewidth\":2},\"yaxis\":{\"gridcolor\":\"white\",\"linecolor\":\"white\",\"ticks\":\"\",\"title\":{\"standoff\":15},\"zerolinecolor\":\"white\",\"automargin\":true,\"zerolinewidth\":2},\"scene\":{\"xaxis\":{\"backgroundcolor\":\"#E5ECF6\",\"gridcolor\":\"white\",\"linecolor\":\"white\",\"showbackground\":true,\"ticks\":\"\",\"zerolinecolor\":\"white\",\"gridwidth\":2},\"yaxis\":{\"backgroundcolor\":\"#E5ECF6\",\"gridcolor\":\"white\",\"linecolor\":\"white\",\"showbackground\":true,\"ticks\":\"\",\"zerolinecolor\":\"white\",\"gridwidth\":2},\"zaxis\":{\"backgroundcolor\":\"#E5ECF6\",\"gridcolor\":\"white\",\"linecolor\":\"white\",\"showbackground\":true,\"ticks\":\"\",\"zerolinecolor\":\"white\",\"gridwidth\":2}},\"shapedefaults\":{\"line\":{\"color\":\"#2a3f5f\"}},\"annotationdefaults\":{\"arrowcolor\":\"#2a3f5f\",\"arrowhead\":0,\"arrowwidth\":1},\"geo\":{\"bgcolor\":\"white\",\"landcolor\":\"#E5ECF6\",\"subunitcolor\":\"white\",\"showland\":true,\"showlakes\":true,\"lakecolor\":\"white\"},\"title\":{\"x\":0.05},\"mapbox\":{\"style\":\"light\"}}},\"legend\":{\"tracegroupgap\":0},\"margin\":{\"t\":60},\"uniformtext\":{\"minsize\":14,\"mode\":\"hide\"}},                        {\"responsive\": true}                    ).then(function(){\n",
       "                            \n",
       "var gd = document.getElementById('4a694f1b-4f33-4f52-807f-14df50be87cd');\n",
       "var x = new MutationObserver(function (mutations, observer) {{\n",
       "        var display = window.getComputedStyle(gd).display;\n",
       "        if (!display || display === 'none') {{\n",
       "            console.log([gd, 'removed!']);\n",
       "            Plotly.purge(gd);\n",
       "            observer.disconnect();\n",
       "        }}\n",
       "}});\n",
       "\n",
       "// Listen for the removal of the full notebook cells\n",
       "var notebookContainer = gd.closest('#notebook-container');\n",
       "if (notebookContainer) {{\n",
       "    x.observe(notebookContainer, {childList: true});\n",
       "}}\n",
       "\n",
       "// Listen for the clearing of the current output cell\n",
       "var outputEl = gd.closest('.output');\n",
       "if (outputEl) {{\n",
       "    x.observe(outputEl, {childList: true});\n",
       "}}\n",
       "\n",
       "                        })                };                });            </script>        </div>"
      ]
     },
     "metadata": {},
     "output_type": "display_data"
    }
   ],
   "source": [
    "#Pie chart\n",
    "fig = px.pie(P_data, values='Symptom_1_ chills', names='Disease', \n",
    "             color='Disease', title='')\n",
    "fig.update_traces(textposition='inside', textinfo='percent+label')\n",
    "fig.update_layout(uniformtext_minsize=14, uniformtext_mode='hide')\n",
    "fig.show()"
   ]
  },
  {
   "cell_type": "code",
   "execution_count": 30,
   "id": "1ba8b673-8558-4972-9f13-35cb1a0d019b",
   "metadata": {},
   "outputs": [
    {
     "data": {
      "image/png": "[encoded data removed]",
      "text/plain": [
       "<Figure size 432x288 with 1 Axes>"
      ]
     },
     "metadata": {
      "needs_background": "light"
     },
     "output_type": "display_data"
    }
   ],
   "source": [
    "#Scatter plot\n",
    "plt.scatter(P_data['Disease'], P_data['Symptom_1_ fatigue'], c =\"black\",linewidths = 6, marker =\"D\", edgecolor ='r', s = 70, alpha=0.5)\n",
    "plt.title('relationship between Disease and Symptom_1_ fatigue.')\n",
    "plt.xlabel('Disease')\n",
    "plt.ylabel('Symptom_1_ fatigue')\n",
    "\n",
    "plt.show()"
   ]
  },
  {
   "cell_type": "markdown",
   "id": "45ff7cb7-7f68-4b6c-8b46-016c12d3a118",
   "metadata": {},
   "source": [
    "# Machine Learning"
   ]
  },
  {
   "cell_type": "code",
   "execution_count": 10,
   "id": "8c53ebb0-2fc6-4c83-abf9-d4137f9870a8",
   "metadata": {},
   "outputs": [],
   "source": [
    "x=data[['Symptom_1','Symptom_2','Symptom_3','Symptom_4','Symptom_5']]\n",
    "y=data['Disease']\n",
    "\n",
    "x_train, x_test, y_train, y_test = train_test_split(x, y, test_size=0.2, random_state=0)  #splitting data"
   ]
  },
  {
   "cell_type": "markdown",
   "id": "53fd2aa6-7dab-4cd1-8084-41f1ab6a6d9b",
   "metadata": {},
   "source": [
    "# Logistic Reg"
   ]
  },
  {
   "cell_type": "code",
   "execution_count": 19,
   "id": "ebecd44e-9062-4317-9c11-e3cb8c97ec8f",
   "metadata": {},
   "outputs": [
    {
     "name": "stdout",
     "output_type": "stream",
     "text": [
      "Accuracy=0.85\n"
     ]
    }
   ],
   "source": [
    "logreg = LogisticRegression(solver='liblinear', penalty='l1', max_iter=4000)   #build our logistic model\n",
    "logreg.fit(x_train, y_train)  #fitting training data\n",
    "y_pred  = logreg.predict(x_test)    #testing model’s performance\n",
    "print(\"Accuracy={:.2f}\".format(logreg.score(x_test, y_test)))"
   ]
  },
  {
   "cell_type": "markdown",
   "id": "d912b857-7c79-4d8b-b395-f38ce7886dfb",
   "metadata": {},
   "source": [
    "# Decision Tree"
   ]
  },
  {
   "cell_type": "code",
   "execution_count": 7,
   "id": "e24be0d5-ebae-4db5-a82f-942101816f0b",
   "metadata": {},
   "outputs": [
    {
     "name": "stdout",
     "output_type": "stream",
     "text": [
      "score:1.0\n"
     ]
    }
   ],
   "source": [
    "chojra = tree.DecisionTreeClassifier()  \n",
    "chojra.fit(x_train, y_train)   #fitting our model\n",
    "y_pred=chojra.predict(x_test)   # evaluating our model\n",
    "print(\"score:{}\".format(accuracy_score(y_test, y_pred)))"
   ]
  },
  {
   "cell_type": "markdown",
   "id": "d2e0ab30-5193-4aa9-b701-d9d302511b84",
   "metadata": {},
   "source": [
    "# KNN"
   ]
  },
  {
   "cell_type": "code",
   "execution_count": 33,
   "id": "0dc79e06-45b8-408f-8876-c6aa60cbdb09",
   "metadata": {},
   "outputs": [
    {
     "name": "stdout",
     "output_type": "stream",
     "text": [
      "Acuuracy= 0.9152086137281292\n"
     ]
    }
   ],
   "source": [
    "knn=KNeighborsClassifier(n_neighbors=20) #build our knn classifier\n",
    "knn.fit(x_train,y_train) #Training KNN classifier\n",
    "y_pred=knn.predict(x_test)  #Testing\n",
    "print('Acuuracy=',accuracy_score(y_pred,y_test))"
   ]
  },
  {
   "cell_type": "markdown",
   "id": "c413682a-7be8-44e9-857d-06c5a1c67311",
   "metadata": {},
   "source": [
    "# Random Forest"
   ]
  },
  {
   "cell_type": "code",
   "execution_count": 11,
   "id": "74415342-254e-4884-aaa4-f394168ddbc3",
   "metadata": {},
   "outputs": [
    {
     "name": "stdout",
     "output_type": "stream",
     "text": [
      "Accuracy: 1.0\n"
     ]
    }
   ],
   "source": [
    "clf=RandomForestClassifier(n_estimators=10)  #Creating a random forest with 100 decision trees\n",
    "clf.fit(x_train, y_train)  #Training our model\n",
    "y_pred=clf.predict(x_test)  #testing our model\n",
    "print(\"Accuracy:\", metrics.accuracy_score(y_test, y_pred))  #Measuring the accuracy of our model"
   ]
  }
 ],
 "metadata": {
  "kernelspec": {
   "display_name": "Python 3 (ipykernel)",
   "language": "python",
   "name": "python3"
  },
  "language_info": {
   "codemirror_mode": {
    "name": "ipython",
    "version": 3
   },
   "file_extension": ".py",
   "mimetype": "text/x-python",
   "name": "python",
   "nbconvert_exporter": "python",
   "pygments_lexer": "ipython3",
   "version": "3.9.12"
  }
 },
 "nbformat": 4,
 "nbformat_minor": 5
}
